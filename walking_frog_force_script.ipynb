{
 "cells": [
  {
   "cell_type": "markdown",
   "metadata": {},
   "source": [
    "Quadrupedal Walking Frog Code\n",
    "\n",
    "This code analyses the force and kinematic data for multiple frog species walked across a multi-axis force platform. The x, y, and z forces were analysed. Using the x, y and z force data, we calculate the resultant force (). Joint angle data was collect via digitization of high-speed videography in two views (dorsal and lateral) over two strides for the fore- and hindlimbs.\n",
    "Contributors:\n",
    "J Fabian Dubon\n",
    "M Kearns\n",
    "CM Reynaga\n",
    "Last updated:\n",
    "Dec 28, 2022 /April 5, 2024\n",
    "\n",
    "\n"
   ]
  },
  {
   "cell_type": "markdown",
   "metadata": {},
   "source": [
    "Setting Directory "
   ]
  },
  {
   "cell_type": "code",
   "execution_count": 255,
   "metadata": {},
   "outputs": [],
   "source": [
    "import pandas as pd \n",
    "import numpy as np \n",
    "import openpyxl as pyxl  \n",
    "import matplotlib.pyplot as plt\n",
    "import math as math\n",
    " \n",
    "#'/Users/jenifer_dubon/Desktop/walking_frog_force/walking_frog_force/Datasets/walks_workbook.xlsx'\n"
   ]
  },
  {
   "cell_type": "markdown",
   "metadata": {},
   "source": [
    "Parameters\n",
    "A single stride was defined as: The start of the stride begins the moment the forelimb phallange/limb closest to the lateral veiew camera makes contact with the ground. The stride ends once all limbs have cycled through, until the start of the same forelimb is about to make contact again with the ground to begin a new stride.\n",
    "Video Information\n",
    "This section will read in the parameters from the following imported excel sheet.\n",
    "Defines a variable with the file name as a string"
   ]
  },
  {
   "cell_type": "code",
   "execution_count": 256,
   "metadata": {},
   "outputs": [],
   "source": [
    "params = '/Users/jenifer_dubon/Desktop/walking_frog_force/walking_frog_force/Datasets/walks_workbook.xlsx'\n"
   ]
  },
  {
   "cell_type": "markdown",
   "metadata": {},
   "source": [
    "Imports data file and saves the file as a struct named parameters, the struct is organized as within two fields (1) data and (2) textdata. Any column names or text values within the spreadsheet will be in textdata and any numerical values will be in data."
   ]
  },
  {
   "cell_type": "code",
   "execution_count": 257,
   "metadata": {},
   "outputs": [],
   "source": [
    "parameters = pd.read_excel(params)"
   ]
  },
  {
   "cell_type": "markdown",
   "metadata": {},
   "source": [
    "elects which row to process within the excel parameters sheet\n",
    "Change number based upon the row you'd like to process within the excel spread sheet and save the matlab code before you run the code"
   ]
  },
  {
   "cell_type": "code",
   "execution_count": 258,
   "metadata": {},
   "outputs": [],
   "source": [
    "excel_row_to_process = 2 #must start at 2 bc of pandas structure\n",
    "film_side_right = True"
   ]
  },
  {
   "cell_type": "markdown",
   "metadata": {},
   "source": []
  },
  {
   "cell_type": "markdown",
   "metadata": {},
   "source": [
    "Video/Force Sampling Information\n",
    "Reading in parameters from excel sheet.\n"
   ]
  },
  {
   "cell_type": "code",
   "execution_count": 259,
   "metadata": {},
   "outputs": [
    {
     "data": {
      "text/plain": [
       "(62, 30)"
      ]
     },
     "metadata": {},
     "output_type": "display_data"
    },
    {
     "name": "stdout",
     "output_type": "stream",
     "text": [
      "2\n",
      "20210706_pb4_walk2\n"
     ]
    }
   ],
   "source": [
    "row_to_process = excel_row_to_process-1\n",
    "\n",
    "# Print the size of the parameters variable\n",
    "display(parameters.shape)\n",
    "\n",
    "if 'Date' in parameters.columns:\n",
    "    date = str(int(parameters['Date'].iloc[row_to_process])) #iloc is more of a personal pref #must change to int first to get rid off .0 \n",
    "else:\n",
    "    print(\"Error: 'Date' not found in DataFrame\")\n",
    "\n",
    "genus_species = 'pb' # Phrynomantis bifasciatus\n",
    "\n",
    "if 'Ind.' in parameters.columns:\n",
    "    individual = str(int(parameters['Ind.'].iloc[row_to_process]))\n",
    "else:\n",
    "    print(\"Error: 'Ind.' not found in DataFrame\")\n",
    "\n",
    "if 'Walk' in parameters.columns:\n",
    "    walk_num = str(int(parameters['Walk'].iloc[row_to_process]))\n",
    "else:\n",
    "    print(\"Error: 'Walk' not found in DataFrame\")\n",
    "\n",
    "print(walk_num)\n",
    "walk_seq = date + '_' + genus_species + individual + '_walk'+ walk_num \n",
    "fps = 250\n",
    "\n",
    "print(walk_seq)\n"
   ]
  },
  {
   "cell_type": "code",
   "execution_count": 260,
   "metadata": {},
   "outputs": [
    {
     "data": {
      "text/plain": [
       "' this is for me to try different approaches.\\n\\n\\nrow_to_process = excel_row_to_process-1\\n\\n# Print the size of the parameters variable\\ndisplay(parameters.shape)\\n\\ntype(parameters) #gets the type \\n\\nif \\'Date\\' in parameters.columns:\\n    date = str(parameters[\\'Date\\'].iloc[row_to_process])\\n\\nelse:\\n    print(\"Error: Date not found in DataFrame\")\\n    \\nprint(date)\\n    \\nif \\'Ind.\\' in parameters.columns:\\n    individual = str(parameters[\\'Ind.\\'][row_to_process])\\n\\nelse:\\n    print(\\'Error\\')    \\n    \\nprint(individual)\\n\\ntype(individual)\\n\\n\\n#set up variables to right columns \\n#date = str(parameters.Date[row_to_process])\\n\\n\\nwalk_seq = date,\\'_\\', genus_species, individual, \\'_walk\\', walk_num #append has a limited num of arguments\\n#so the best way to concatenate strings is to add the \\'+ \\' sign in between \\n#print(date)\\n\\n#type(date)\\n#parameters.info() #gets the '"
      ]
     },
     "execution_count": 260,
     "metadata": {},
     "output_type": "execute_result"
    }
   ],
   "source": [
    "\n",
    "\"\"\" this is for me to try different approaches.\n",
    "\n",
    "\n",
    "row_to_process = excel_row_to_process-1\n",
    "\n",
    "# Print the size of the parameters variable\n",
    "display(parameters.shape)\n",
    "\n",
    "type(parameters) #gets the type \n",
    "\n",
    "if 'Date' in parameters.columns:\n",
    "    date = str(parameters['Date'].iloc[row_to_process])\n",
    "\n",
    "else:\n",
    "    print(\"Error: Date not found in DataFrame\")\n",
    "    \n",
    "print(date)\n",
    "    \n",
    "if 'Ind.' in parameters.columns:\n",
    "    individual = str(parameters['Ind.'][row_to_process])\n",
    "\n",
    "else:\n",
    "    print('Error')    \n",
    "    \n",
    "print(individual)\n",
    "\n",
    "type(individual)\n",
    "\n",
    "\n",
    "#set up variables to right columns \n",
    "#date = str(parameters.Date[row_to_process])\n",
    "\n",
    "\n",
    "walk_seq = date,'_', genus_species, individual, '_walk', walk_num #append has a limited num of arguments\n",
    "#so the best way to concatenate strings is to add the '+ ' sign in between \n",
    "#print(date)\n",
    "\n",
    "#type(date)\n",
    "#parameters.info() #gets the \"\"\"\n",
    "\n"
   ]
  },
  {
   "cell_type": "markdown",
   "metadata": {},
   "source": []
  },
  {
   "cell_type": "code",
   "execution_count": 261,
   "metadata": {},
   "outputs": [
    {
     "name": "stdout",
     "output_type": "stream",
     "text": [
      "5.77\n"
     ]
    }
   ],
   "source": [
    "#frames per second (fps) high speed video frame rate\n",
    "igor_sr = 10000\n",
    "\n",
    "if 'Ind. Weight (g)' in parameters.columns:\n",
    "    body_mass = parameters['Ind. Weight (g)'].iloc[row_to_process]\n",
    "else:\n",
    "    print(\"Error: 'Ind. Weight (g)' not found in DataFrame\")\n",
    "\n",
    "print(body_mass) #prints are to make sure results are the same"
   ]
  },
  {
   "cell_type": "markdown",
   "metadata": {},
   "source": [
    " *Video Conditions*\n",
    " Determines whether the code should run data on the forelimb or the hindlimb.\n",
    " A value of 1 will run analysis for the relevent limbs, however a value of 0\n",
    " will skip those sections for analysis within the script. Additionally, |Overlap|\n",
    " is used to distinguish when the fore- and hindlimb are both in contact with\n",
    " the force plate, and thus individual limb analysis during that time can not\n",
    " be done."
   ]
  },
  {
   "cell_type": "code",
   "execution_count": 262,
   "metadata": {},
   "outputs": [
    {
     "name": "stdout",
     "output_type": "stream",
     "text": [
      "1.0\n",
      "0.0\n",
      "1.0\n"
     ]
    }
   ],
   "source": [
    "#these variables  are floats so they got 0.0 \n",
    "if 'Forelimb Status (0/1)' in parameters.columns:\n",
    "    FL = parameters['Forelimb Status (0/1)'].iloc[row_to_process]\n",
    "else:\n",
    "    print(\"Error: 'Forelimb Status (0/1)' not found in DataFrame\")\n",
    "\n",
    "print(FL)\n",
    "\n",
    "if 'Hindlimb Status (0/1)' in parameters.columns:\n",
    "    HL = parameters['Hindlimb Status (0/1)'].iloc[row_to_process]\n",
    "else:\n",
    "    print(\"Error: 'Hindlimb Status (0/1)' not found in DataFrame\")\n",
    "\n",
    "print(HL)\n",
    "\n",
    "if 'Overlap (0/1)' in parameters.columns:\n",
    "    Overlap = parameters['Overlap (0/1)'].iloc[row_to_process]\n",
    "else:\n",
    "    print(\"Error: 'Overlap (0/1)' not found in DataFrame\")\n",
    "print(Overlap)\n",
    "\n"
   ]
  },
  {
   "cell_type": "markdown",
   "metadata": {},
   "source": [
    "Walk Sequence Information\n",
    "Converting video frames into time (sec)"
   ]
  },
  {
   "cell_type": "code",
   "execution_count": 263,
   "metadata": {},
   "outputs": [
    {
     "name": "stdout",
     "output_type": "stream",
     "text": [
      "678.0\n"
     ]
    }
   ],
   "source": [
    "if 'tot. dltdv8 frames' in parameters.columns:\n",
    "    totalf = parameters['tot. dltdv8 frames'].iloc[row_to_process] # total amount of video frames\n",
    "else:\n",
    "    print(\"Error: 'tot. dltdv8 frames' not found in DataFrame\")\n",
    "print(totalf)"
   ]
  },
  {
   "cell_type": "code",
   "execution_count": 264,
   "metadata": {},
   "outputs": [
    {
     "name": "stdout",
     "output_type": "stream",
     "text": [
      "2.712\n"
     ]
    }
   ],
   "source": [
    "#totalf_sec is rounded here to the same decimals place as the force data frequency\n",
    "totalf_sec = round((totalf/fps),4) #total amount of time filmed (sec)\n",
    "print(totalf_sec)"
   ]
  },
  {
   "cell_type": "markdown",
   "metadata": {},
   "source": [
    "Defining Stride 1\n",
    "Beginning frame for stride 1 defined when forelimb (or phalange of the forelimb) nearest to the camera touches the ground\n"
   ]
  },
  {
   "cell_type": "code",
   "execution_count": 265,
   "metadata": {},
   "outputs": [
    {
     "name": "stdout",
     "output_type": "stream",
     "text": [
      "97.0\n",
      "1\n",
      "0.388\n"
     ]
    }
   ],
   "source": [
    "if 'Forelimb Start frame' in parameters.columns:\n",
    "    startf_s1 = parameters['Forelimb Start frame'][row_to_process ]-1 #bc of indexing in python, it starts at 97 not 98 (ensures the pt1_X are the same in matlab and python)\n",
    "else:\n",
    "    print(\"Error: 'Forelimb Start frame' not found in DataFrame\")\n",
    "print(startf_s1)\n",
    "print(row_to_process)    \n",
    "\n",
    "startf_s1_sec = np.round((startf_s1/fps),4)\n",
    "print(startf_s1_sec)\n"
   ]
  },
  {
   "cell_type": "markdown",
   "metadata": {},
   "source": [
    "End frame for stride 1 \n",
    "Defined as the frame right before the forelimb touches back to start the next stride"
   ]
  },
  {
   "cell_type": "code",
   "execution_count": 266,
   "metadata": {},
   "outputs": [
    {
     "name": "stdout",
     "output_type": "stream",
     "text": [
      "294.0\n"
     ]
    }
   ],
   "source": [
    "if 'Stride 1 end frame' in parameters.columns:\n",
    "    endf_s1 = parameters['Stride 1 end frame'].iloc[row_to_process]-1 #same here, it ends at 294\n",
    "else:\n",
    "    print(\"Error: 'Stride 1 end frame' not found in DataFrame\")\n",
    "print(endf_s1)"
   ]
  },
  {
   "cell_type": "markdown",
   "metadata": {},
   "source": [
    "Conversion from frames to time (sec) by dividing by frame rate or recording frequency in frames per second (fps).\n",
    "\n",
    "time(sec) = frame #/fps"
   ]
  },
  {
   "cell_type": "code",
   "execution_count": 267,
   "metadata": {},
   "outputs": [
    {
     "name": "stdout",
     "output_type": "stream",
     "text": [
      "1.176\n"
     ]
    }
   ],
   "source": [
    "endf_s1_sec = round((endf_s1/fps),4)\n",
    "print(endf_s1_sec)"
   ]
  },
  {
   "cell_type": "markdown",
   "metadata": {},
   "source": [
    "Defining Stride 2\n",
    " See section above for more information on defining a stride and calculating\n",
    " time from frame number for a stride.\n"
   ]
  },
  {
   "cell_type": "code",
   "execution_count": 268,
   "metadata": {},
   "outputs": [
    {
     "name": "stdout",
     "output_type": "stream",
     "text": [
      "296.0\n",
      "1.184\n"
     ]
    }
   ],
   "source": [
    "if 'Stride 2 Start frame' in parameters.columns:\n",
    "    startf_s2 = parameters['Stride 2 Start frame'].iloc[row_to_process]\n",
    "else:\n",
    "    print(\"Error: 'Stride 2 Start frame' not found in DataFrame\")\n",
    "print(startf_s2)\n",
    "\n",
    "startf_s2_sec = round((startf_s2/fps),4)\n",
    "print(startf_s2_sec)"
   ]
  },
  {
   "cell_type": "markdown",
   "metadata": {},
   "source": [
    "End frame for stride 2;\n",
    "If not a complete 2ns stride insert '0' within parameters excel sheet (however at this point we should only be analyzing walks with 2 complete strides)."
   ]
  },
  {
   "cell_type": "code",
   "execution_count": 269,
   "metadata": {},
   "outputs": [
    {
     "name": "stdout",
     "output_type": "stream",
     "text": [
      "0\n",
      "0.0\n"
     ]
    }
   ],
   "source": [
    "if 'Stride 2 end frame' in parameters.columns:\n",
    "    endf_s2 = parameters['Stride 2 end frame'].iloc[row_to_process]\n",
    "else:\n",
    "    print(\"Error: 'Stride 2 end frame' not found in DataFrame\")\n",
    "print(endf_s2)\n",
    "\n",
    "endf_s2_sec = round((endf_s2/fps),4)\n",
    "print(endf_s2_sec)"
   ]
  },
  {
   "cell_type": "markdown",
   "metadata": {},
   "source": [
    "Characterizing Igor time based upon trigger time\n",
    " Finding when the cameras and data collection in Igor were triggered off.\n",
    " format long g % if not displaying full decimal\n"
   ]
  },
  {
   "cell_type": "code",
   "execution_count": 270,
   "metadata": {},
   "outputs": [
    {
     "name": "stdout",
     "output_type": "stream",
     "text": [
      "8714.0\n",
      "0.8714\n"
     ]
    }
   ],
   "source": [
    "if 'Igor trigger time' in parameters.columns:\n",
    "    trigger_row = parameters['Igor trigger time'].iloc[row_to_process]\n",
    "else:\n",
    "    print(\"Error: 'Igor trigger time' not found in DataFrame\")\n",
    "print(trigger_row)\n",
    "\n",
    "trigger_t = trigger_row/10000\n",
    "print(trigger_t)"
   ]
  },
  {
   "cell_type": "markdown",
   "metadata": {},
   "source": [
    "Creating a time array for forceplate data. \n",
    " Igor|_sr| = sampling rate. Plus rounding to the correct decimals place based upon the Igor sampling frequency (1000) force recording for a total of 10 seconds."
   ]
  },
  {
   "cell_type": "code",
   "execution_count": 271,
   "metadata": {},
   "outputs": [
    {
     "name": "stdout",
     "output_type": "stream",
     "text": [
      "10000\n"
     ]
    }
   ],
   "source": [
    "force_t = np.arange(1, igor_sr + 1)/1000\n",
    "\n",
    "force_time = np.round(force_t, 4)\n",
    "print(force_time.size)"
   ]
  },
  {
   "cell_type": "markdown",
   "metadata": {},
   "source": [
    "FL and HL Contact Timing\n",
    "  Defining relative to time when the forelimb and hindlimb are in contact with  the force plate.\n",
    "\n",
    " |fl_end| = last frame the front finger/hand is in contact with the force plate before leaving"
   ]
  },
  {
   "cell_type": "code",
   "execution_count": 272,
   "metadata": {},
   "outputs": [
    {
     "name": "stdout",
     "output_type": "stream",
     "text": [
      "270.0\n",
      "1.08\n"
     ]
    }
   ],
   "source": [
    "if 'Forelimb end frame' in parameters.columns:\n",
    "    fl_end = parameters['Forelimb end frame'].iloc[row_to_process]\n",
    "else:\n",
    "    print(\"Error: 'Forelimb end frame' not found in DataFrame\")\n",
    "print(fl_end)\n",
    "\n",
    "fl_end_sec = round((fl_end/fps),4); # converting to time\n",
    "print(fl_end_sec)"
   ]
  },
  {
   "cell_type": "markdown",
   "metadata": {},
   "source": [
    "hl_start:\n",
    " when a toe/foot touches the force plate/hindlind makes contact with the forceplate for the first time."
   ]
  },
  {
   "cell_type": "code",
   "execution_count": 273,
   "metadata": {},
   "outputs": [
    {
     "name": "stdout",
     "output_type": "stream",
     "text": [
      "239.0\n",
      "0.956\n"
     ]
    }
   ],
   "source": [
    "if 'Hindlimb Start frame' in parameters.columns:\n",
    "    hl_start = parameters['Hindlimb Start frame'].iloc[row_to_process]\n",
    "else:\n",
    "    print(\"Error: 'Hindlimb Start frame' not found in DataFrame\")\n",
    "print(hl_start)\n",
    "\n",
    "hl_start_sec = round((hl_start/fps),4); # converting to time\n",
    "print(hl_start_sec)"
   ]
  },
  {
   "cell_type": "markdown",
   "metadata": {},
   "source": [
    "hl_end:\n",
    " last frame back toe touches force plate before leaving"
   ]
  },
  {
   "cell_type": "code",
   "execution_count": 274,
   "metadata": {},
   "outputs": [
    {
     "name": "stdout",
     "output_type": "stream",
     "text": [
      "0.0\n",
      "0.0\n"
     ]
    }
   ],
   "source": [
    "if 'Hindlimb end frame' in parameters.columns:\n",
    "    hl_end = parameters['Hindlimb end frame'].iloc[row_to_process]\n",
    "else:\n",
    "    print(\"Error: 'Hindlimb end frame' not found in DataFrame\")\n",
    "print(hl_end)\n",
    "\n",
    "hl_end_sec = round((hl_end/fps),4); # converting to time\n",
    "print(hl_end_sec)"
   ]
  },
  {
   "cell_type": "markdown",
   "metadata": {},
   "source": [
    "Determining Periods of Overlap\n",
    " Isolating FL and HL contact only periods\n",
    " During most walks the FL and HL will both be in contact with the force plate\n",
    " midway between stride 1 and stride 2. Therefore, we only analyze the forces\n",
    " recorded when and individual limb is in contact with the force platform. More\n",
    " specifically, we only analyze the forelimb contact period during the time before\n",
    " the hindlimb touches down. And analyze the hindlimb contact during the time\n",
    " after the forelimb has left the force plate.\n",
    "\n",
    " |fl_only_end| = frame where only the FL leaves contact with the force plate,\n",
    " then converting to time (sec).\n"
   ]
  },
  {
   "cell_type": "code",
   "execution_count": 275,
   "metadata": {},
   "outputs": [
    {
     "name": "stdout",
     "output_type": "stream",
     "text": [
      "238.0\n",
      "0.952\n"
     ]
    }
   ],
   "source": [
    "# MAYBE DO TODO will need a conditional statement for walks where there isn't overlap\n",
    "fl_only_end = hl_start-1\n",
    "print(fl_only_end)\n",
    "fl_only_end_sec = round((fl_only_end/fps),4)\n",
    "print(fl_only_end_sec)\n"
   ]
  },
  {
   "cell_type": "markdown",
   "metadata": {},
   "source": [
    "hl_only_start:\n",
    " start frame where the HL is the only one that is in contact with the force plate, then converting frames to time (sec)."
   ]
  },
  {
   "cell_type": "code",
   "execution_count": 276,
   "metadata": {},
   "outputs": [
    {
     "name": "stdout",
     "output_type": "stream",
     "text": [
      "271.0\n",
      "1.084\n"
     ]
    }
   ],
   "source": [
    "hl_only_start = fl_end+1\n",
    "print(hl_only_start)\n",
    "hl_only_start_sec = round((hl_only_start/fps),4)\n",
    "print(hl_only_start_sec)"
   ]
  },
  {
   "cell_type": "markdown",
   "metadata": {},
   "source": [
    "Changing reference frame of the video land markers\n",
    "\n",
    "Finding the distance in time from the end of the video, to set-up and align time relative to the trigger time. And ultimately determine where force occurs relative to trigger and video timing. Example conversion equations provided:\n",
    "\n",
    "    time = t_video_length - t_event_start"
   ]
  },
  {
   "cell_type": "code",
   "execution_count": 277,
   "metadata": {},
   "outputs": [
    {
     "name": "stdout",
     "output_type": "stream",
     "text": [
      "2.3240000000000003 2.712 0.388\n",
      "1.7560000000000002\n",
      "1.6320000000000001\n",
      "delta_s1_end 1.5360000000000003\n",
      "1.5280000000000002\n",
      "2.712\n",
      "2.712\n",
      "1.7600000000000002\n",
      "1.6280000000000001\n"
     ]
    }
   ],
   "source": [
    "delta_s1_start = totalf_sec - startf_s1_sec\n",
    "print(delta_s1_start, totalf_sec, startf_s1_sec)\n",
    "delta_hl_on = totalf_sec-hl_start_sec\n",
    "print(delta_hl_on)\n",
    "delta_fl_end = totalf_sec-fl_end_sec\n",
    "print(delta_fl_end)\n",
    "delta_s1_end = totalf_sec-endf_s1_sec\n",
    "print(\"delta_s1_end\",delta_s1_end)\n",
    "delta_s2_start = totalf_sec-startf_s2_sec\n",
    "print(delta_s2_start)\n",
    "delta_hl_end = totalf_sec-hl_end_sec\n",
    "print(delta_hl_end)\n",
    "delta_s2_end = totalf_sec-endf_s2_sec\n",
    "print(delta_s2_end)\n",
    "\n",
    "delta_fl_only_end = totalf_sec - fl_only_end_sec\n",
    "print(delta_fl_only_end)\n",
    "delta_hl_only_start = totalf_sec - hl_only_start_sec\n",
    "print(delta_hl_only_start)\n"
   ]
  },
  {
   "cell_type": "markdown",
   "metadata": {},
   "source": [
    "Importing Digitized Data Points\n",
    "\n",
    "All videos for K. senegalensis were digitized with the assigned point number values.\n",
    "FIXIT Note: this will differ across different species unfortunately.\n",
    "Eye\n",
    "Elbow\n",
    "Wrist\n",
    "Shoulder\n",
    "Knee\n",
    "Ankle\n",
    "Hip\n",
    "Knee\n",
    "Tarsometatarsal (HL)\n",
    "Tarsometatarsal (LF)\n",
    "\n",
    "Importing digitized XYZ pts spreadsheet\n",
    "Imports xyz points as a struct/tuple named xyzpts"
   ]
  },
  {
   "cell_type": "code",
   "execution_count": 278,
   "metadata": {},
   "outputs": [
    {
     "name": "stdout",
     "output_type": "stream",
     "text": [
      "/Users/jenifer_dubon/Desktop/walking_frog_force/walking_frog_force/Datasets//Users/jenifer_dubon/Desktop/walking_frog_force/walking_frog_force/Datasets/20210706_pb4_walk2_xyzpts.csv\n",
      "(678, 30)\n",
      "<class 'tuple'>\n"
     ]
    },
    {
     "data": {
      "text/plain": [
       "pt1_X     -4.557530\n",
       "pt1_Y     50.729095\n",
       "pt1_Z     67.734753\n",
       "pt2_X     -8.742226\n",
       "pt2_Y     62.956456\n",
       "pt2_Z     73.954070\n",
       "pt3_X      2.106753\n",
       "pt3_Y     65.671171\n",
       "pt3_Z     75.870225\n",
       "pt4_X    -13.089889\n",
       "pt4_Y     54.091077\n",
       "pt4_Z     70.579872\n",
       "pt5_X    -42.744714\n",
       "pt5_Y     62.533530\n",
       "pt5_Z     72.008735\n",
       "pt6_X    -52.149068\n",
       "pt6_Y     54.476672\n",
       "pt6_Z     68.632958\n",
       "pt7_X    -42.480322\n",
       "pt7_Y     52.388633\n",
       "pt7_Z     66.629120\n",
       "pt8_X    -25.746847\n",
       "pt8_Y     45.479722\n",
       "pt8_Z     62.457404\n",
       "pt9_X    -53.772872\n",
       "pt9_Y     62.243892\n",
       "pt9_Z     73.924469\n",
       "pt10_X     6.756859\n",
       "pt10_Y    63.859504\n",
       "pt10_Z    76.432015\n",
       "Name: 97, dtype: float64"
      ]
     },
     "metadata": {},
     "output_type": "display_data"
    }
   ],
   "source": [
    "xyzfile = walk_seq + '_xyzpts.csv'\n",
    "xyzfile = '/Users/jenifer_dubon/Desktop/walking_frog_force/walking_frog_force/Datasets/' + xyzfile\n",
    "print('/Users/jenifer_dubon/Desktop/walking_frog_force/walking_frog_force/Datasets/' + xyzfile)\n",
    "xyzpts = pd.read_csv(xyzfile)\n",
    "\n",
    "print(xyzpts.shape) #different than matalab (matlab = 311x30, but this is the same as excel sheet)\n",
    "\n",
    "print(type(xyzpts.shape))\n",
    "\n",
    "#this is to check that row 97 in python is the same as row 98 in matlab, it is!\n",
    "for i, row in enumerate(xyzpts.iterrows()):\n",
    "    if i == 97:\n",
    "        display(row[1])\n",
    "        break\n",
    "    \n"
   ]
  },
  {
   "cell_type": "markdown",
   "metadata": {},
   "source": [
    "Assigning points as variables from the imported spreadsheet matrix xyzpts struct/Tuple\n",
    "\n",
    "\n",
    "In order to make sure that MATLAB orients the data correctly, we assign the point values to the individual columns, and specify the frame number range separated by a column that we want to grab data from. Importanting relative to stride 1 and 2. The number designates the excel sheet row to look for.x"
   ]
  },
  {
   "cell_type": "code",
   "execution_count": 279,
   "metadata": {},
   "outputs": [
    {
     "name": "stdout",
     "output_type": "stream",
     "text": [
      "97.0\n",
      "294.0\n",
      "<class 'tuple'>\n"
     ]
    },
    {
     "data": {
      "text/plain": [
       "97     73.954070\n",
       "98     73.936965\n",
       "99     73.965687\n",
       "100    74.061839\n",
       "101    74.689817\n",
       "         ...    \n",
       "290    75.110863\n",
       "291    75.562327\n",
       "292    75.944462\n",
       "293    76.058882\n",
       "294    76.427859\n",
       "Name: pt2_Z, Length: 198, dtype: float64"
      ]
     },
     "metadata": {},
     "output_type": "display_data"
    }
   ],
   "source": [
    "#display(xyzpts)\n",
    "print( startf_s1)\n",
    "print(endf_s1)\n",
    "print(type( xyzpts.iloc[1].shape))\n",
    "\n",
    "for col in xyzpts.columns:\n",
    "    row_section_s1 = xyzpts[col][int(startf_s1):int(endf_s1) + 1]\n",
    "    #display('row_section_s1', row_section_s1)\n",
    "    if 'pt1_X' in col:\n",
    "        pt1_X_s1 = row_section_s1 \n",
    "    elif 'pt1_Y' in col:\n",
    "        pt1_Y_s1 = row_section_s1\n",
    "    elif 'pt1_Z' in col:\n",
    "        pt1_Z_s1 = row_section_s1\n",
    "        \n",
    "    elif 'pt2_X' in col:\n",
    "        pt2_X_s1 = row_section_s1 \n",
    "    elif 'pt2_Y' in col:\n",
    "        pt2_Y_s1 = row_section_s1\n",
    "    elif 'pt2_Z' in col:\n",
    "        pt2_Z_s1 = row_section_s1 \n",
    "        \n",
    "    elif 'pt3_X' in col:\n",
    "        pt3_X_s1 = row_section_s1\n",
    "    elif 'pt3_Y' in col:\n",
    "        pt3_Y_s1 = row_section_s1\n",
    "    elif 'pt3_Z' in col:\n",
    "        pt3_Z_s1 = row_section_s1  \n",
    "        \n",
    "    elif 'pt4_X' in col:\n",
    "        pt4_X_s1 = row_section_s1     \n",
    "    elif 'pt4_Y' in col:\n",
    "        pt4_Y_s1 = row_section_s1\n",
    "    elif 'pt4_Z' in col:\n",
    "        pt4_Z_s1 = row_section_s1\n",
    "    \n",
    "    elif 'pt5_X' in col:\n",
    "        pt5_X_s1 = row_section_s1\n",
    "    elif 'pt5_Y' in col:\n",
    "        pt5_Y_s1 = row_section_s1\n",
    "    elif 'pt5_Z' in col:\n",
    "        pt5_Z_s1 = row_section_s1\n",
    "    \n",
    "    elif 'pt6_X' in col:\n",
    "        pt6_X_s1 = row_section_s1\n",
    "    elif 'pt6_Y' in col:\n",
    "        pt6_Y_s1 = row_section_s1\n",
    "    elif 'pt6_Z' in col:\n",
    "        pt6_Z_s1 = row_section_s1\n",
    "    \n",
    "    elif 'pt7_X' in col:\n",
    "        pt7_X_s1 = row_section_s1\n",
    "    elif 'pt7_Y' in col:\n",
    "        pt7_Y_s1 = row_section_s1\n",
    "    elif 'pt7_Z' in col:\n",
    "        pt7_Z_s1 = row_section_s1\n",
    "        \n",
    "    elif 'pt8_X' in col:\n",
    "        pt8_X_s1 = row_section_s1\n",
    "    elif 'pt8_Y' in col:\n",
    "        pt8_Y_s1 = row_section_s1\n",
    "    elif 'pt8_Z' in col:\n",
    "        pt8_Z_s1 = row_section_s1\n",
    "        \n",
    "    elif 'pt9_X' in col:\n",
    "        pt9_X_s1 = row_section_s1\n",
    "    elif 'pt9_Y' in col:\n",
    "        pt9_Y_s1 = row_section_s1\n",
    "    elif 'pt9_Z' in col:\n",
    "        pt9_Z_s1 = row_section_s1\n",
    "        \n",
    "    elif 'pt10_X' in col:\n",
    "        pt10_X_s1 = row_section_s1\n",
    "    elif 'pt10_Y' in col:\n",
    "        pt10_Y_s1 = row_section_s1\n",
    "    elif 'pt10_Z' in col:\n",
    "        pt10_Z_s1 = row_section_s1\n",
    "        \n",
    "#print(xyzpts.columns)\n",
    "#display('row_section_s1', row_section_s1)\n",
    "#print(row_section) check the sections are correct\n",
    "display(pt2_Z_s1)\n"
   ]
  },
  {
   "cell_type": "markdown",
   "metadata": {},
   "source": [
    "If data set has hindlimb data\n"
   ]
  },
  {
   "cell_type": "code",
   "execution_count": 280,
   "metadata": {},
   "outputs": [
    {
     "name": "stdout",
     "output_type": "stream",
     "text": [
      "startf_s2 = 296.0\n",
      "endf_s2 = 0\n",
      "Error: not hl data in file \n"
     ]
    }
   ],
   "source": [
    "print('startf_s2 =', startf_s2)\n",
    "print('endf_s2 =', endf_s2)\n",
    "print\n",
    "\n",
    "#xyzpts FILES HAS NO HL DATA SO THIS IS NOT USED FOR THAT(RETURNS NOTHING)\n",
    "\n",
    "###CHECK THIS WITH HL DATA \n",
    "#display(xyzpts.columns)\n",
    "\n",
    "\n",
    "\"\"\"if HL == 1:\n",
    "    for col in xyzpts.columns:\n",
    "        row_section_s2 = xyzpts[col][int(startf_s2):int(endf_s2) + 1]\n",
    "        display('row_section_s2', row_section_s2)\n",
    "        if 'pt1_X' in col:\n",
    "            pt1_X_s2 = row_section_s2\n",
    "        #elif 'pt1_Y' in col:\n",
    "         #   pt1_Y_s2 = row_section_s2\n",
    "            \n",
    "display('row_section_s2', pt1_X_sn1)\n",
    "\"\"\"\n",
    "if HL == 1:\n",
    "    for col in xyzpts.columns:\n",
    "        row_section_s2 = xyzpts[col][int(startf_s2):int(endf_s2) + 1]\n",
    "        display('row_section_s2', row_section_s2)\n",
    "        if 'pt1_X' in col:\n",
    "            pt1_X_s2 = row_section_s2 \n",
    "        elif 'pt1_Y' in col:\n",
    "            pt1_Y_s2 = row_section_s2\n",
    "        elif 'pt1_Z' in col:\n",
    "            pt1_Z_s2 = row_section_s2\n",
    "            \n",
    "        elif 'pt2_X' in col:\n",
    "            pt2_X_s2 = row_section_s2 \n",
    "        elif 'pt2_Y' in col:\n",
    "            pt2_Y_s2 = row_section_s2\n",
    "        elif 'pt2_Z' in col:\n",
    "            pt2_Z_s2 = row_section_s2 \n",
    "            \n",
    "        elif 'pt3_X' in col:\n",
    "            pt3_X_s2 = row_section_s2\n",
    "        elif 'pt3_Y' in col:\n",
    "            pt3_Y_s2 = row_section_s2\n",
    "        elif 'pt3_Z' in col:\n",
    "            pt3_Z_s2 = row_section_s2  \n",
    "            \n",
    "        elif 'pt4_X' in col:\n",
    "            pt4_X_s2 = row_section_s2     \n",
    "        elif 'pt4_Y' in col:\n",
    "            pt4_Y_s2 = row_section_s2\n",
    "        elif 'pt4_Z' in col:\n",
    "            pt4_Z_s2 = row_section_s2\n",
    "        \n",
    "        elif 'pt5_X' in col:\n",
    "            pt5_X_s2 = row_section_s2\n",
    "        elif 'pt5_Y' in col:\n",
    "            pt5_Y_s2 = row_section_s2\n",
    "        elif 'pt5_Z' in col:\n",
    "            pt5_Z_s2 = row_section_s2\n",
    "        \n",
    "        elif 'pt6_X' in col:\n",
    "            pt6_X_s2 = row_section_s2\n",
    "        elif 'pt6_Y' in col:\n",
    "            pt6_Y_s2 = row_section_s2\n",
    "        elif 'pt6_Z' in col:\n",
    "            pt6_Z_s2 = row_section_s2\n",
    "        \n",
    "        elif 'pt7_X' in col:\n",
    "            pt7_X_s2 = row_section_s2\n",
    "        elif 'pt7_Y' in col:\n",
    "            pt7_Y_s2 = row_section_s2\n",
    "        elif 'pt7_Z' in col:\n",
    "            pt7_Z_s2 = row_section_s2\n",
    "            \n",
    "        elif 'pt8_X' in col:\n",
    "            pt8_X_s2 = row_section_s2\n",
    "        elif 'pt8_Y' in col:\n",
    "            pt8_Y_s2 = row_section_s2\n",
    "        elif 'pt8_Z' in col:\n",
    "            pt8_Z_s2 = row_section_s2\n",
    "            \n",
    "        elif 'pt9_X' in col:\n",
    "            pt9_X_s2 = row_section_s2\n",
    "        elif 'pt9_Y' in col:\n",
    "            pt9_Y_s2 = row_section_s2\n",
    "        elif 'pt9_Z' in col:\n",
    "            pt9_Z_s2 = row_section_s2\n",
    "            \n",
    "        elif 'pt10_X' in col:\n",
    "            pt10_X_s2 = row_section_s2\n",
    "        elif 'pt10_Y' in col:\n",
    "            pt10_Y_s2 = row_section_s2\n",
    "        elif 'pt10_Z' in col:\n",
    "            pt10_Z_s2 = row_section_s2\n",
    "        #if 'pt1_\n",
    "else: \n",
    "    print('Error: not hl data in file ' ) #not sure if its needed\n",
    "        \n",
    "#display(row_section_s2)"
   ]
  },
  {
   "cell_type": "markdown",
   "metadata": {},
   "source": [
    "Both stride 1 and 2 digitized points concatinated into one array\n",
    "\n",
    "TODO maybe make the cat the final version so even if there is only one FL data that's where we're getting all the calculations from."
   ]
  },
  {
   "cell_type": "code",
   "execution_count": 281,
   "metadata": {},
   "outputs": [],
   "source": [
    "if HL == 1:\n",
    "    pt1_X = np.concatenate(pt1_X_s1, pt1_X_s2)\n",
    "    print(pt1_X)\n",
    "    pt1_Y = np.concatenate(1, pt1_Y_s1, pt1_Y_s2)\n",
    "    pt1_Z = np.concatenate(1, pt1_Z_s1, pt1_Z_s2)\n",
    "    \n",
    "    pt2_X = np.concatenate(1, pt2_X_s1, pt2_X_s2)\n",
    "    pt2_Y = np.concatenate(1, pt2_Y_s1, pt2_Y_s2)\n",
    "    pt2_Z = np.concatenate(1, pt2_Z_s1, pt2_Z_s2)\n",
    "    \n",
    "    pt3_X = np.concatenate(1, pt3_X_s1, pt3_X_s2)\n",
    "    pt3_Y = np.concatenate(1, pt3_Y_s1, pt3_Y_s2)\n",
    "    pt3_Z = np.concatenate(1, pt3_Z_s1, pt3_Z_s2)\n",
    "    \n",
    "    pt4_X = np.concatenate(1, pt4_X_s1, pt4_X_s2)\n",
    "    pt4_Y = np.concatenate(1, pt4_Y_s1, pt4_Y_s2)\n",
    "    pt4_Z = np.concatenate(1, pt4_Z_s1, pt4_Z_s2)\n",
    "    \n",
    "    pt5_X = np.concatenate(1, pt5_X_s1, pt5_X_s2)\n",
    "    pt5_Y = np.concatenate(1, pt5_Y_s1, pt5_Y_s2)\n",
    "    pt5_Z = np.concatenate(1, pt5_Z_s1, pt5_Z_s2)\n",
    "    \n",
    "    pt6_X = np.concatenate(1, pt6_X_s1, pt6_X_s2)\n",
    "    pt6_Y = np.concatenate(1, pt6_Y_s1, pt6_Y_s2)\n",
    "    pt6_Z = np.concatenate(1, pt6_Z_s1, pt6_Z_s2)\n",
    "    \n",
    "    pt7_X = np.concatenate(1, pt7_X_s1, pt7_X_s2)\n",
    "    pt7_Y = np.concatenate(1, pt7_Y_s1, pt7_Y_s2)\n",
    "    pt7_Z = np.concatenate(1, pt7_Z_s1, pt7_Z_s2)\n",
    "    \n",
    "    pt8_X = np.concatenate(1, pt8_X_s1, pt8_X_s2)\n",
    "    pt8_Y = np.concatenate(1, pt8_Y_s1, pt8_Y_s2)\n",
    "    pt8_Z = np.concatenate(1, pt8_Z_s1, pt8_Z_s2)\n",
    "    \n",
    "    pt9_X = np.concatenate(1, pt9_X_s1, pt9_X_s2)\n",
    "    pt9_Y = np.concatenate(1, pt9_Y_s1, pt9_Y_s2)\n",
    "    pt9_Z = np.concatenate(1, pt9_Y_s1, pt9_Y_s2)\n",
    "    \n",
    "    pt10_X = np.concatenate(1, pt10_X_s1, pt10_X_s2)\n",
    "    pt10_Y = np.concatenate(1, pt10_Y_s1, pt10_Y_s2)\n",
    "    pt10_Z = np.concatenate(1, pt10_Y_s1, pt10_Y_s2)\n",
    "    "
   ]
  },
  {
   "cell_type": "markdown",
   "metadata": {},
   "source": [
    "Timing and Percent Stride\n",
    "\n",
    "Creating Percent Stride for Digitized Data (Stride 1 and 2) Finding percent stride for stride 1 and 2\n",
    "size finds the array size from the start of the stride to the end using the first and last frame of the strides"
   ]
  },
  {
   "cell_type": "code",
   "execution_count": 282,
   "metadata": {},
   "outputs": [
    {
     "name": "stdout",
     "output_type": "stream",
     "text": [
      "198\n"
     ]
    }
   ],
   "source": [
    "stride1array = np.arange(startf_s1, endf_s1 + 1)\n",
    "\n",
    "stride1size = stride1array.size #(97, 294)- python \n",
    "print(stride1size)              #(98, 295)- matlab \n"
   ]
  },
  {
   "cell_type": "markdown",
   "metadata": {},
   "source": [
    "Calculates the percent stride array use to standardize across different walking trials, changes the time component usually at the x-axis values to plot y-axis variables of interest (e.g. force, torques, etc.) since every stride is going to be a different length in time."
   ]
  },
  {
   "cell_type": "code",
   "execution_count": 283,
   "metadata": {},
   "outputs": [
    {
     "data": {
      "text/plain": [
       "array([  0.50505051,   1.01010101,   1.51515152,   2.02020202,\n",
       "         2.52525253,   3.03030303,   3.53535354,   4.04040404,\n",
       "         4.54545455,   5.05050505,   5.55555556,   6.06060606,\n",
       "         6.56565657,   7.07070707,   7.57575758,   8.08080808,\n",
       "         8.58585859,   9.09090909,   9.5959596 ,  10.1010101 ,\n",
       "        10.60606061,  11.11111111,  11.61616162,  12.12121212,\n",
       "        12.62626263,  13.13131313,  13.63636364,  14.14141414,\n",
       "        14.64646465,  15.15151515,  15.65656566,  16.16161616,\n",
       "        16.66666667,  17.17171717,  17.67676768,  18.18181818,\n",
       "        18.68686869,  19.19191919,  19.6969697 ,  20.2020202 ,\n",
       "        20.70707071,  21.21212121,  21.71717172,  22.22222222,\n",
       "        22.72727273,  23.23232323,  23.73737374,  24.24242424,\n",
       "        24.74747475,  25.25252525,  25.75757576,  26.26262626,\n",
       "        26.76767677,  27.27272727,  27.77777778,  28.28282828,\n",
       "        28.78787879,  29.29292929,  29.7979798 ,  30.3030303 ,\n",
       "        30.80808081,  31.31313131,  31.81818182,  32.32323232,\n",
       "        32.82828283,  33.33333333,  33.83838384,  34.34343434,\n",
       "        34.84848485,  35.35353535,  35.85858586,  36.36363636,\n",
       "        36.86868687,  37.37373737,  37.87878788,  38.38383838,\n",
       "        38.88888889,  39.39393939,  39.8989899 ,  40.4040404 ,\n",
       "        40.90909091,  41.41414141,  41.91919192,  42.42424242,\n",
       "        42.92929293,  43.43434343,  43.93939394,  44.44444444,\n",
       "        44.94949495,  45.45454545,  45.95959596,  46.46464646,\n",
       "        46.96969697,  47.47474747,  47.97979798,  48.48484848,\n",
       "        48.98989899,  49.49494949,  50.        ,  50.50505051,\n",
       "        51.01010101,  51.51515152,  52.02020202,  52.52525253,\n",
       "        53.03030303,  53.53535354,  54.04040404,  54.54545455,\n",
       "        55.05050505,  55.55555556,  56.06060606,  56.56565657,\n",
       "        57.07070707,  57.57575758,  58.08080808,  58.58585859,\n",
       "        59.09090909,  59.5959596 ,  60.1010101 ,  60.60606061,\n",
       "        61.11111111,  61.61616162,  62.12121212,  62.62626263,\n",
       "        63.13131313,  63.63636364,  64.14141414,  64.64646465,\n",
       "        65.15151515,  65.65656566,  66.16161616,  66.66666667,\n",
       "        67.17171717,  67.67676768,  68.18181818,  68.68686869,\n",
       "        69.19191919,  69.6969697 ,  70.2020202 ,  70.70707071,\n",
       "        71.21212121,  71.71717172,  72.22222222,  72.72727273,\n",
       "        73.23232323,  73.73737374,  74.24242424,  74.74747475,\n",
       "        75.25252525,  75.75757576,  76.26262626,  76.76767677,\n",
       "        77.27272727,  77.77777778,  78.28282828,  78.78787879,\n",
       "        79.29292929,  79.7979798 ,  80.3030303 ,  80.80808081,\n",
       "        81.31313131,  81.81818182,  82.32323232,  82.82828283,\n",
       "        83.33333333,  83.83838384,  84.34343434,  84.84848485,\n",
       "        85.35353535,  85.85858586,  86.36363636,  86.86868687,\n",
       "        87.37373737,  87.87878788,  88.38383838,  88.88888889,\n",
       "        89.39393939,  89.8989899 ,  90.4040404 ,  90.90909091,\n",
       "        91.41414141,  91.91919192,  92.42424242,  92.92929293,\n",
       "        93.43434343,  93.93939394,  94.44444444,  94.94949495,\n",
       "        95.45454545,  95.95959596,  96.46464646,  96.96969697,\n",
       "        97.47474747,  97.97979798,  98.48484848,  98.98989899,\n",
       "        99.49494949, 100.        ])"
      ]
     },
     "metadata": {},
     "output_type": "display_data"
    }
   ],
   "source": [
    "stride1_a = np.arange(1, stride1size + 1)\n",
    "\n",
    "p_stride1 = (stride1_a/ stride1size) * 100\n",
    "display(p_stride1)  #197 rows python"
   ]
  },
  {
   "cell_type": "markdown",
   "metadata": {},
   "source": [
    "Provides percent stride for stride 2 and concatenates stride 1 and 2 together"
   ]
  },
  {
   "cell_type": "code",
   "execution_count": 284,
   "metadata": {},
   "outputs": [
    {
     "data": {
      "text/plain": [
       "array([  0.50505051,   1.01010101,   1.51515152,   2.02020202,\n",
       "         2.52525253,   3.03030303,   3.53535354,   4.04040404,\n",
       "         4.54545455,   5.05050505,   5.55555556,   6.06060606,\n",
       "         6.56565657,   7.07070707,   7.57575758,   8.08080808,\n",
       "         8.58585859,   9.09090909,   9.5959596 ,  10.1010101 ,\n",
       "        10.60606061,  11.11111111,  11.61616162,  12.12121212,\n",
       "        12.62626263,  13.13131313,  13.63636364,  14.14141414,\n",
       "        14.64646465,  15.15151515,  15.65656566,  16.16161616,\n",
       "        16.66666667,  17.17171717,  17.67676768,  18.18181818,\n",
       "        18.68686869,  19.19191919,  19.6969697 ,  20.2020202 ,\n",
       "        20.70707071,  21.21212121,  21.71717172,  22.22222222,\n",
       "        22.72727273,  23.23232323,  23.73737374,  24.24242424,\n",
       "        24.74747475,  25.25252525,  25.75757576,  26.26262626,\n",
       "        26.76767677,  27.27272727,  27.77777778,  28.28282828,\n",
       "        28.78787879,  29.29292929,  29.7979798 ,  30.3030303 ,\n",
       "        30.80808081,  31.31313131,  31.81818182,  32.32323232,\n",
       "        32.82828283,  33.33333333,  33.83838384,  34.34343434,\n",
       "        34.84848485,  35.35353535,  35.85858586,  36.36363636,\n",
       "        36.86868687,  37.37373737,  37.87878788,  38.38383838,\n",
       "        38.88888889,  39.39393939,  39.8989899 ,  40.4040404 ,\n",
       "        40.90909091,  41.41414141,  41.91919192,  42.42424242,\n",
       "        42.92929293,  43.43434343,  43.93939394,  44.44444444,\n",
       "        44.94949495,  45.45454545,  45.95959596,  46.46464646,\n",
       "        46.96969697,  47.47474747,  47.97979798,  48.48484848,\n",
       "        48.98989899,  49.49494949,  50.        ,  50.50505051,\n",
       "        51.01010101,  51.51515152,  52.02020202,  52.52525253,\n",
       "        53.03030303,  53.53535354,  54.04040404,  54.54545455,\n",
       "        55.05050505,  55.55555556,  56.06060606,  56.56565657,\n",
       "        57.07070707,  57.57575758,  58.08080808,  58.58585859,\n",
       "        59.09090909,  59.5959596 ,  60.1010101 ,  60.60606061,\n",
       "        61.11111111,  61.61616162,  62.12121212,  62.62626263,\n",
       "        63.13131313,  63.63636364,  64.14141414,  64.64646465,\n",
       "        65.15151515,  65.65656566,  66.16161616,  66.66666667,\n",
       "        67.17171717,  67.67676768,  68.18181818,  68.68686869,\n",
       "        69.19191919,  69.6969697 ,  70.2020202 ,  70.70707071,\n",
       "        71.21212121,  71.71717172,  72.22222222,  72.72727273,\n",
       "        73.23232323,  73.73737374,  74.24242424,  74.74747475,\n",
       "        75.25252525,  75.75757576,  76.26262626,  76.76767677,\n",
       "        77.27272727,  77.77777778,  78.28282828,  78.78787879,\n",
       "        79.29292929,  79.7979798 ,  80.3030303 ,  80.80808081,\n",
       "        81.31313131,  81.81818182,  82.32323232,  82.82828283,\n",
       "        83.33333333,  83.83838384,  84.34343434,  84.84848485,\n",
       "        85.35353535,  85.85858586,  86.36363636,  86.86868687,\n",
       "        87.37373737,  87.87878788,  88.38383838,  88.88888889,\n",
       "        89.39393939,  89.8989899 ,  90.4040404 ,  90.90909091,\n",
       "        91.41414141,  91.91919192,  92.42424242,  92.92929293,\n",
       "        93.43434343,  93.93939394,  94.44444444,  94.94949495,\n",
       "        95.45454545,  95.95959596,  96.46464646,  96.96969697,\n",
       "        97.47474747,  97.97979798,  98.48484848,  98.98989899,\n",
       "        99.49494949, 100.        ])"
      ]
     },
     "metadata": {},
     "output_type": "display_data"
    }
   ],
   "source": [
    "if HL == 1:\n",
    "    stride2array = np.arange(startf_s2, endf_s2 + 1)\n",
    "\n",
    "    stride2size = stride2array.size  \n",
    "    print(stride2size)\n",
    "    \n",
    "    stride2_a = np.arange(1, stride2size + 1)\n",
    "\n",
    "    p_stride2 = (stride2_a/ stride2size) * 100\n",
    "    display(p_stride2)  \n",
    "    \n",
    "    #% concatinating forelimb and hindlimb percent stride\n",
    "    total_digitized_pstride = np.concatenate(1, p_stride1, p_stride2 + 1)  # + 1 so it includes all of it  # Use for videos with both FL and HL digitized data\n",
    "    \n",
    "elif HL== 0:\n",
    "    total_digitized_pstride =  p_stride1 #  BC HL ==0 only use p_stride1 # use for videos with both FL and HL digitized data\n",
    "    display(total_digitized_pstride)\n"
   ]
  },
  {
   "cell_type": "markdown",
   "metadata": {},
   "source": [
    "Isolating Percent Stride Range for FL and HL Only Contact times\n",
    "\n",
    "Isolating the % stride timing in which the FL is only in contact and when the HL is only in contact\n",
    "TODO I think this is in terms of video %"
   ]
  },
  {
   "cell_type": "code",
   "execution_count": 285,
   "metadata": {},
   "outputs": [
    {
     "data": {
      "text/plain": [
       "(173,)"
      ]
     },
     "metadata": {},
     "output_type": "display_data"
    },
    {
     "data": {
      "text/plain": [
       "(141,)"
      ]
     },
     "metadata": {},
     "output_type": "display_data"
    }
   ],
   "source": [
    "stride1size_fl = np.arange(startf_s1, fl_end ) #rn its 97, 269 in py and   *** total time FL is in contact (includes overlap)\n",
    "display(stride1size_fl.shape)                     #i think fl_end should be 269 her but its 270 like matlab, (check thsi is correct when doing mat operations)\n",
    "\n",
    "stride1size_only_fl = np.arange(startf_s1, fl_only_end)  #total time only FL is in contact\n",
    "display(stride1size_only_fl.shape)\n",
    "\n",
    "if HL == 1:\n",
    "    stride1size_hl = np.arange(hl_start, hl_end)\n",
    "    stride1size1_only_hl = np.arange(hl_only_start, hl_end)\n",
    "\n"
   ]
  },
  {
   "cell_type": "markdown",
   "metadata": {},
   "source": [
    "Generating % stride for FL and FL only sequences\n"
   ]
  },
  {
   "cell_type": "code",
   "execution_count": 286,
   "metadata": {},
   "outputs": [
    {
     "name": "stdout",
     "output_type": "stream",
     "text": [
      "(173,)\n",
      "(198,)\n",
      "(173,)\n",
      "(141,)\n"
     ]
    }
   ],
   "source": [
    "print((stride1size_fl.shape))\n",
    "print(total_digitized_pstride.shape)\n",
    "\n",
    "stride1size_fl_len = len(stride1size_fl)\n",
    "\n",
    "# Slice total_digitized_pstride to extract FL sequence data\n",
    "pstride_fl = total_digitized_pstride[:stride1size_fl_len]\n",
    "print(pstride_fl.shape)\n",
    "\n",
    "stride1size_only_fl_len = len(stride1size_only_fl)\n",
    "pstride_flonly = total_digitized_pstride[:stride1size_only_fl_len]\n",
    "print(pstride_flonly.shape)\n"
   ]
  },
  {
   "cell_type": "markdown",
   "metadata": {},
   "source": [
    "Generating % stride for HL and HL only sequences"
   ]
  },
  {
   "cell_type": "code",
   "execution_count": 287,
   "metadata": {},
   "outputs": [],
   "source": [
    "if HL== 1 :\n",
    "    stride_hl_len = len(stride1size_only_fl + 1, stride1size_only_fl  + stride1size_hl)\n",
    "    # Slice total_digitized_pstride to extract HL sequence data\n",
    "    pstride_hl = total_digitized_pstride[:stride_hl_len]\n",
    "    print(stride_hl_len.shape)\n",
    "\n",
    "    strides_hlonly_len = len(stride1size_fl + 1, stride1size_fl +stride1size1_only_hl)\n",
    "    pstride_hlonly = total_digitized_pstride[:stride1size_only_fl_len]\n",
    "    print(pstride_hlonly.shape)\n",
    "    "
   ]
  },
  {
   "cell_type": "markdown",
   "metadata": {},
   "source": [
    "Generating time array for strides\n",
    "% Here we convert frames of video data to a time in order to generate a time\n",
    "% array if necessary for graphing data relative to time instead of percent stride.\n",
    "%\n",
    "% Generating at time array based upon digitized frames for strides 1 and 2"
   ]
  },
  {
   "cell_type": "code",
   "execution_count": 288,
   "metadata": {},
   "outputs": [
    {
     "data": {
      "text/plain": [
       "array([ 97.,  98.,  99., 100., 101., 102., 103., 104., 105., 106., 107.,\n",
       "       108., 109., 110., 111., 112., 113., 114., 115., 116., 117., 118.,\n",
       "       119., 120., 121., 122., 123., 124., 125., 126., 127., 128., 129.,\n",
       "       130., 131., 132., 133., 134., 135., 136., 137., 138., 139., 140.,\n",
       "       141., 142., 143., 144., 145., 146., 147., 148., 149., 150., 151.,\n",
       "       152., 153., 154., 155., 156., 157., 158., 159., 160., 161., 162.,\n",
       "       163., 164., 165., 166., 167., 168., 169., 170., 171., 172., 173.,\n",
       "       174., 175., 176., 177., 178., 179., 180., 181., 182., 183., 184.,\n",
       "       185., 186., 187., 188., 189., 190., 191., 192., 193., 194., 195.,\n",
       "       196., 197., 198., 199., 200., 201., 202., 203., 204., 205., 206.,\n",
       "       207., 208., 209., 210., 211., 212., 213., 214., 215., 216., 217.,\n",
       "       218., 219., 220., 221., 222., 223., 224., 225., 226., 227., 228.,\n",
       "       229., 230., 231., 232., 233., 234., 235., 236., 237., 238., 239.,\n",
       "       240., 241., 242., 243., 244., 245., 246., 247., 248., 249., 250.,\n",
       "       251., 252., 253., 254., 255., 256., 257., 258., 259., 260., 261.,\n",
       "       262., 263., 264., 265., 266., 267., 268., 269., 270., 271., 272.,\n",
       "       273., 274., 275., 276., 277., 278., 279., 280., 281., 282., 283.,\n",
       "       284., 285., 286., 287., 288., 289., 290., 291., 292., 293.])"
      ]
     },
     "metadata": {},
     "output_type": "display_data"
    }
   ],
   "source": [
    "video_s1_frame = np.arange(startf_s1,endf_s1) \n",
    "display(video_s1_frame) # frames    %FIXME THIS PART IS NOT NEEDED?\n",
    "\n",
    "if HL == 1:\n",
    "    video_s2_frame = np.arange(startf_s2, endf_s2) #frames"
   ]
  },
  {
   "cell_type": "markdown",
   "metadata": {},
   "source": [
    "Converting frame array to time by dividing by fps"
   ]
  },
  {
   "cell_type": "code",
   "execution_count": 289,
   "metadata": {},
   "outputs": [
    {
     "name": "stdout",
     "output_type": "stream",
     "text": [
      "[0.388 0.392 0.396 0.4   0.404 0.408 0.412 0.416 0.42  0.424 0.428 0.432\n",
      " 0.436 0.44  0.444 0.448 0.452 0.456 0.46  0.464 0.468 0.472 0.476 0.48\n",
      " 0.484 0.488 0.492 0.496 0.5   0.504 0.508 0.512 0.516 0.52  0.524 0.528\n",
      " 0.532 0.536 0.54  0.544 0.548 0.552 0.556 0.56  0.564 0.568 0.572 0.576\n",
      " 0.58  0.584 0.588 0.592 0.596 0.6   0.604 0.608 0.612 0.616 0.62  0.624\n",
      " 0.628 0.632 0.636 0.64  0.644 0.648 0.652 0.656 0.66  0.664 0.668 0.672\n",
      " 0.676 0.68  0.684 0.688 0.692 0.696 0.7   0.704 0.708 0.712 0.716 0.72\n",
      " 0.724 0.728 0.732 0.736 0.74  0.744 0.748 0.752 0.756 0.76  0.764 0.768\n",
      " 0.772 0.776 0.78  0.784 0.788 0.792 0.796 0.8   0.804 0.808 0.812 0.816\n",
      " 0.82  0.824 0.828 0.832 0.836 0.84  0.844 0.848 0.852 0.856 0.86  0.864\n",
      " 0.868 0.872 0.876 0.88  0.884 0.888 0.892 0.896 0.9   0.904 0.908 0.912\n",
      " 0.916 0.92  0.924 0.928 0.932 0.936 0.94  0.944 0.948 0.952 0.956 0.96\n",
      " 0.964 0.968 0.972 0.976 0.98  0.984 0.988 0.992 0.996 1.    1.004 1.008\n",
      " 1.012 1.016 1.02  1.024 1.028 1.032 1.036 1.04  1.044 1.048 1.052 1.056\n",
      " 1.06  1.064 1.068 1.072 1.076 1.08  1.084 1.088 1.092 1.096 1.1   1.104\n",
      " 1.108 1.112 1.116 1.12  1.124 1.128 1.132 1.136 1.14  1.144 1.148 1.152\n",
      " 1.156 1.16  1.164 1.168 1.172]\n"
     ]
    }
   ],
   "source": [
    "s1_frame_t = video_s1_frame /fps # * THIS ONE STARST AT 97 = 0.388, NUT IN MATLAB IS 98 = .3920)   #% seconds\n",
    "print(s1_frame_t)\n",
    "if HL == 1:\n",
    "    s2_frame_t = video_s2_frame /fps;  #% seconds"
   ]
  },
  {
   "cell_type": "markdown",
   "metadata": {},
   "source": [
    "Defining the start of the time array as the start set a 0 sec"
   ]
  },
  {
   "cell_type": "code",
   "execution_count": 290,
   "metadata": {},
   "outputs": [],
   "source": [
    "s1_time_sec = s1_frame_t - s1_frame_t[0]\n",
    "\n",
    "if HL == 1:\n",
    "    s2_time_sec = s2_frame_t - s2_frame_t[0]\n"
   ]
  },
  {
   "cell_type": "markdown",
   "metadata": {},
   "source": [
    "Both Stride 1 and Stride 2 time frames combined"
   ]
  },
  {
   "cell_type": "code",
   "execution_count": 291,
   "metadata": {},
   "outputs": [],
   "source": [
    "if HL == 1:\n",
    "    s1_2_time = np.concatenate(1, s1_frame_t, s2_frame_t)\n",
    "elif HL == 0:\n",
    "    s1_2_time =  s1_frame_t\n",
    "\n",
    "\n",
    "if HL == 1:\n",
    "    s1_2_time_sec = s1_2_time - s1_2_time(0)\n",
    "\n",
    "#%t_force = datavalues(s1_start_force_c:s2_end_force_c);"
   ]
  },
  {
   "cell_type": "markdown",
   "metadata": {},
   "source": [
    "Generating time array for FL only contact time and HL only contact time\n",
    "Time generated based upon video frames"
   ]
  },
  {
   "cell_type": "code",
   "execution_count": 292,
   "metadata": {},
   "outputs": [
    {
     "name": "stdout",
     "output_type": "stream",
     "text": [
      "(141,)\n"
     ]
    }
   ],
   "source": [
    "fl_only_time = np.arange(startf_s1, fl_only_end)\n",
    "\n",
    "fl_only_v_time = fl_only_time / fps\n",
    "#print(fl_only_v_time)\n",
    "\n",
    "fl_only_v_t_sec = fl_only_v_time - fl_only_v_time[0]\n",
    "print(fl_only_v_t_sec.shape)\n",
    "if HL == 1:\n",
    "    hl_only_time =np.arange(hl_only_start, hl_end)\n",
    "    hl_only_v_time = hl_only_time/fps\n",
    "    hl_only_v_t_sec = hl_only_v_time - hl_only_v_time[0]\n"
   ]
  },
  {
   "cell_type": "markdown",
   "metadata": {},
   "source": [
    "Limb Kinematics \n",
    "\n",
    "Trig Based Joint Angle Measurements In the Forelimb\n",
    "\n",
    "When figuring out joint angles, first we have to figure out the distances between three points, which form a triangle around the joint. For example, we use point 3 (shoulder), point 4 (elbow), and point 5 (wrist), to calculate 3D elbow angle. Here, W indicates wrist angle, S will indicate shoulder angle, and E will indicate elbow angle. Here's a resource for understanding the law of cosines and following trig opperations.\n",
    "\n",
    "The distance formula was used to calculate the linear 3D distance between two points, making up once side of the triangle. In three-dimensional Cartesian space, points have three coordinates each. To find the distance between A(x1, y1, z1) and B(x2,y2,z2), using the following distance formula.\n",
    "\n",
    "AB= √(x2-x1)^2 + (y2-y1)^2 + (z2-z1)^2\n",
    "\n",
    "Distance from point 3 (shoulder) to point 4 (elbow) will be denoted as d|_se|\n",
    "\n",
    "Distance from point 4 (elbow) to point 5 (wrist) will be denoted as d|_ew|\n",
    "\n",
    "Distance from point 5 (wrist) to point 3 (shoulder) will be denoted as d|_ws|\n",
    "\n",
    "Equation was re-written as:\n",
    "    d_a= √ {(pt3_x -pt4_x)^2 + (pt3_y -pt4_y)^2 + (pt3_z -pt4_z)^2}\n"
   ]
  },
  {
   "cell_type": "markdown",
   "metadata": {},
   "source": [
    "Distance between shoulder and elbow (d_se)"
   ]
  },
  {
   "cell_type": "code",
   "execution_count": 293,
   "metadata": {},
   "outputs": [
    {
     "name": "stdout",
     "output_type": "stream",
     "text": [
      "97     10.434670\n",
      "98     10.485833\n",
      "99     10.480943\n",
      "100    10.488629\n",
      "101    10.706293\n",
      "         ...    \n",
      "290    11.029302\n",
      "291    10.922460\n",
      "292    11.543521\n",
      "293    11.515742\n",
      "294    11.740342\n",
      "Length: 198, dtype: float64\n"
     ]
    }
   ],
   "source": [
    "d_se = np.sqrt((pt2_X_s1 - pt4_X_s1)**2 + (pt2_Y_s1 - pt4_Y_s1)**2 + (pt2_Z_s1 - pt4_Z_s1)**2)\n",
    "print(d_se)"
   ]
  },
  {
   "cell_type": "markdown",
   "metadata": {},
   "source": [
    "Distance between elbow and wrist (d_ew)"
   ]
  },
  {
   "cell_type": "code",
   "execution_count": 294,
   "metadata": {},
   "outputs": [
    {
     "name": "stdout",
     "output_type": "stream",
     "text": [
      "97     11.346439\n",
      "98     11.563057\n",
      "99     12.150724\n",
      "100    12.529657\n",
      "101    12.243161\n",
      "         ...    \n",
      "290    12.339478\n",
      "291    12.466379\n",
      "292    12.556513\n",
      "293    12.792347\n",
      "294    13.074975\n",
      "Length: 198, dtype: float64\n"
     ]
    }
   ],
   "source": [
    "d_ew = np.sqrt((pt3_X_s1 - pt2_X_s1)**2 + (pt3_Y_s1 - pt2_Y_s1)**2 + (pt3_Z_s1 - pt2_Z_s1)**2)\n",
    "print(d_ew)"
   ]
  },
  {
   "cell_type": "markdown",
   "metadata": {},
   "source": [
    "Distance between wrist and shoulder (d_sw)\n"
   ]
  },
  {
   "cell_type": "code",
   "execution_count": 295,
   "metadata": {},
   "outputs": [
    {
     "name": "stdout",
     "output_type": "stream",
     "text": [
      "97     19.824841\n",
      "98     20.284021\n",
      "99     20.849156\n",
      "100    21.228850\n",
      "101    21.339639\n",
      "         ...    \n",
      "290    19.148573\n",
      "291    19.431165\n",
      "292    19.973082\n",
      "293    20.461171\n",
      "294    20.525893\n",
      "Length: 198, dtype: float64\n"
     ]
    }
   ],
   "source": [
    "d_sw = np.sqrt((pt4_X_s1 - pt3_X_s1)**2 + (pt4_Y_s1 - pt3_Y_s1)**2 + (pt4_Z_s1 - pt3_Z_s1)**2)\n",
    "print(d_sw)"
   ]
  },
  {
   "cell_type": "markdown",
   "metadata": {},
   "source": [
    "Distance between wrist and phalange (TMT joint) (d_wp)\n"
   ]
  },
  {
   "cell_type": "code",
   "execution_count": 296,
   "metadata": {},
   "outputs": [
    {
     "name": "stdout",
     "output_type": "stream",
     "text": [
      "97     5.022074\n",
      "98     5.648293\n",
      "99     5.409781\n",
      "100    4.945566\n",
      "101    5.028208\n",
      "         ...   \n",
      "290    4.975828\n",
      "291    4.957265\n",
      "292    4.484152\n",
      "293    4.832337\n",
      "294    4.730640\n",
      "Length: 198, dtype: float64\n"
     ]
    }
   ],
   "source": [
    "d_wp = np.sqrt((pt10_X_s1 - pt3_X_s1)**2 + (pt10_Y_s1 - pt3_Y_s1)**2 + (pt10_Z_s1 - pt3_Z_s1)**2)\n",
    "print(d_wp)"
   ]
  },
  {
   "cell_type": "markdown",
   "metadata": {},
   "source": [
    "Distance between elbow and phalange (TMT joint) (d_ep)"
   ]
  },
  {
   "cell_type": "code",
   "execution_count": 297,
   "metadata": {},
   "outputs": [
    {
     "name": "stdout",
     "output_type": "stream",
     "text": [
      "97     15.721875\n",
      "98     16.134112\n",
      "99     16.227933\n",
      "100    16.624564\n",
      "101    16.641173\n",
      "         ...    \n",
      "290    16.243558\n",
      "291    16.569640\n",
      "292    16.274394\n",
      "293    16.849684\n",
      "294    17.266272\n",
      "Length: 198, dtype: float64\n"
     ]
    }
   ],
   "source": [
    "d_ep = np.sqrt((pt10_X_s1 - pt2_X_s1)**2 + (pt10_Y_s1 - pt2_Y_s1)**2 + (pt10_Z_s1 - pt2_Z_s1)**2)\n",
    "print(d_ep)"
   ]
  },
  {
   "cell_type": "markdown",
   "metadata": {},
   "source": [
    "Distance between hip and shoulder (d_hs)"
   ]
  },
  {
   "cell_type": "code",
   "execution_count": 298,
   "metadata": {},
   "outputs": [
    {
     "name": "stdout",
     "output_type": "stream",
     "text": [
      "97     29.703608\n",
      "98     29.532628\n",
      "99     29.585870\n",
      "100    29.250776\n",
      "101    29.051593\n",
      "         ...    \n",
      "290    30.608095\n",
      "291    30.802748\n",
      "292    30.974762\n",
      "293    30.910394\n",
      "294    31.111715\n",
      "Length: 198, dtype: float64\n"
     ]
    }
   ],
   "source": [
    "d_hs = np.sqrt((pt7_X_s1 - pt4_X_s1)**2 + (pt7_Y_s1 - pt4_Y_s1)**2 + (pt7_Z_s1 - pt4_Z_s1)**2)\n",
    "print(d_hs)"
   ]
  },
  {
   "cell_type": "markdown",
   "metadata": {},
   "source": [
    "Distance between hip and elbow (d_he)\n"
   ]
  },
  {
   "cell_type": "code",
   "execution_count": 299,
   "metadata": {},
   "outputs": [
    {
     "name": "stdout",
     "output_type": "stream",
     "text": [
      "97     36.105303\n",
      "98     36.019287\n",
      "99     36.124034\n",
      "100    35.744183\n",
      "101    35.954438\n",
      "         ...    \n",
      "290    33.515842\n",
      "291    34.024882\n",
      "292    35.022086\n",
      "293    35.149320\n",
      "294    35.130167\n",
      "Length: 198, dtype: float64\n"
     ]
    }
   ],
   "source": [
    "d_he = np.sqrt((pt7_X_s1 - pt2_X_s1)**2 + (pt7_Y_s1 - pt2_Y_s1)**2 + (pt7_Z_s1 - pt2_Z_s1)**2)\n",
    "print(d_he)"
   ]
  },
  {
   "cell_type": "markdown",
   "metadata": {},
   "source": [
    "In order to find the measurements of all of the angles, we need to use the law of cosines when given all of the lengths of the sides, using the following formula:\n",
    "\n",
    "    C = arccos({ a^2 + b^2 - c^2}/{2ab})\n",
    "\n",
    "Therefore the formula for each joint is as follows given our defined variables specific to the FL.\n",
    "    adj_s =arccos({ {d_se}^2 + {d_hs}^2 - {d_he}^2}/{2 * d_se * d_hs})\n",
    "\n",
    "    E =arccos({{d_se}^2 + {d_ew}^2 - {d_sw}^2} /{2 * d_se * d_ew})\n",
    "\n",
    "    W =arccos({ {d_ew}^2 + {d_wp}^2 - {d_ep}^2} /{2 * d_ew * d_wp})\n",
    "\n",
    "Note: the shoulder was calculated from the adjacent angle created from the hip, shoulder, and elbow points."
   ]
  },
  {
   "cell_type": "code",
   "execution_count": 300,
   "metadata": {},
   "outputs": [
    {
     "name": "stdout",
     "output_type": "stream",
     "text": [
      "97     144.877051\n",
      "98     136.469061\n",
      "99     131.110303\n",
      "100    139.990922\n",
      "101    145.732740\n",
      "          ...    \n",
      "290    135.000072\n",
      "291    139.917914\n",
      "292    140.651525\n",
      "293    141.618791\n",
      "294    147.896664\n",
      "Length: 198, dtype: float64\n"
     ]
    }
   ],
   "source": [
    "#bc arccos is in rad, we gottta change it to deggres \n",
    "shoulder_adj = np.degrees(np.arccos((d_se** 2+ d_hs **2- d_he**2)/(2* d_se *d_hs)))\n",
    "#print(shoulder_adj)\n",
    "\n",
    "shoulder = 180 - shoulder_adj\n",
    "#print(shoulder)\n",
    "\n",
    "elbow = np.degrees(np.arccos((d_se** 2+ d_ew **2- d_sw**2)/(2* d_se *d_ew))) \n",
    "#print(elbow)\n",
    "\n",
    "wrist = np.degrees(np.arccos((d_ew** 2+ d_wp **2- d_ep**2)/(2* d_ew *d_wp))) \n",
    "print(wrist)\n"
   ]
  },
  {
   "cell_type": "markdown",
   "metadata": {},
   "source": [
    "% Graphing FL 3D Joint Angles (using trig)\n",
    "% *TODO graph for only contact time/period hindlimb + forelimb same graph?*\n"
   ]
  },
  {
   "cell_type": "code",
   "execution_count": 301,
   "metadata": {},
   "outputs": [
    {
     "data": {
      "image/png": "[encoded data removed]",
      "text/plain": [
       "<Figure size 640x480 with 1 Axes>"
      ]
     },
     "metadata": {},
     "output_type": "display_data"
    }
   ],
   "source": [
    "plt.figure(1)\n",
    "\n",
    "plt.plot(p_stride1, elbow, label='Elbow Angle')\n",
    "plt.plot(p_stride1, wrist, label='Wrist Angle')\n",
    "plt.plot(p_stride1, shoulder, label='Shoulder Angle')\n",
    "plt.xlabel('Percent Stride (%)')\n",
    "plt.ylabel('Forelimb Joint Angle (degrees)')\n",
    "plt.legend()\n",
    "plt.show()"
   ]
  },
  {
   "cell_type": "markdown",
   "metadata": {},
   "source": []
  },
  {
   "cell_type": "markdown",
   "metadata": {},
   "source": [
    "Vector Based 3D Joint Angle Calculations\n",
    "\n",
    "Note: these calculations are used to varify the trig based calculations are correct\n",
    "The results from vector based joint calculations will be (should be) identical to those performed via trig. in the section above, just cross varifying with matrix math. Here's a resource to understand the matrix math operations.\n",
    "Forelimb Elbow Joint\n",
    "A = shoulder point (X, Y, Z) = [pt4_X, pt4_Y, pt4_Z]\n",
    "B = elbow point (X, Y, Z) = [pt2_X, pt2_Y, pt2_Z]\n",
    "C = wrist point (X, Y, Z) = [pt3_X, pt3_Y, pt3_Z]"
   ]
  },
  {
   "cell_type": "code",
   "execution_count": 302,
   "metadata": {},
   "outputs": [
    {
     "data": {
      "text/plain": [
       "array([[-1.3089889e+01,  5.4091077e+01,  7.0579872e+01],\n",
       "       [-1.3047094e+01,  5.4124996e+01,  7.0586657e+01],\n",
       "       [-1.2996292e+01,  5.4344594e+01,  7.0615487e+01],\n",
       "       [-1.2941999e+01,  5.4578458e+01,  7.0646167e+01],\n",
       "       [-1.2897702e+01,  5.4850277e+01,  7.0680575e+01],\n",
       "       [-1.2860900e+01,  5.5044347e+01,  7.0705457e+01],\n",
       "       [-1.2381262e+01,  5.5162732e+01,  7.0857484e+01],\n",
       "       [-1.2206794e+01,  5.5284002e+01,  7.1001008e+01],\n",
       "       [-1.1908329e+01,  5.5265460e+01,  7.1192899e+01],\n",
       "       [-1.1770258e+01,  5.5260592e+01,  7.1320154e+01],\n",
       "       [-1.1741784e+01,  5.5304397e+01,  7.1327046e+01],\n",
       "       [-1.1721290e+01,  5.5343012e+01,  7.1332832e+01],\n",
       "       [-1.1684917e+01,  5.5472684e+01,  7.1350271e+01],\n",
       "       [-1.1646241e+01,  5.5626338e+01,  7.1370648e+01],\n",
       "       [-1.1606686e+01,  5.5652044e+01,  7.1376020e+01],\n",
       "       [-1.1564849e+01,  5.5683957e+01,  7.1382230e+01],\n",
       "       [-1.1533829e+01,  5.5769378e+01,  7.1229187e+01],\n",
       "       [-1.1074841e+01,  5.5762191e+01,  7.1366431e+01],\n",
       "       [-1.0749702e+01,  5.5884065e+01,  7.1371272e+01],\n",
       "       [-1.0189215e+01,  5.6001949e+01,  7.1403592e+01],\n",
       "       [-9.6995020e+00,  5.6120336e+01,  7.1433972e+01],\n",
       "       [-9.2990480e+00,  5.6134522e+01,  7.1449525e+01],\n",
       "       [-8.8407470e+00,  5.6142511e+01,  7.1508929e+01],\n",
       "       [-8.7761180e+00,  5.6186020e+01,  7.1517402e+01],\n",
       "       [-8.7089120e+00,  5.6231848e+01,  7.1526215e+01],\n",
       "       [-8.6418740e+00,  5.6362126e+01,  7.1544885e+01],\n",
       "       [-8.1964370e+00,  5.6354356e+01,  7.1559343e+01],\n",
       "       [-7.8477500e+00,  5.6351743e+01,  7.1571272e+01],\n",
       "       [-7.7315100e+00,  5.6387477e+01,  7.1477119e+01],\n",
       "       [-7.5501890e+00,  5.6405955e+01,  7.1465613e+01],\n",
       "       [-7.1764240e+00,  5.6425504e+01,  7.1378371e+01],\n",
       "       [-6.9923970e+00,  5.6467716e+01,  7.1328460e+01],\n",
       "       [-6.9933340e+00,  5.6555027e+01,  7.1276585e+01],\n",
       "       [-6.9535960e+00,  5.6641730e+01,  7.1288464e+01],\n",
       "       [-6.4819130e+00,  5.6759621e+01,  7.1298211e+01],\n",
       "       [-6.2497580e+00,  5.6919949e+01,  7.1222150e+01],\n",
       "       [-6.2064670e+00,  5.6980634e+01,  7.1210395e+01],\n",
       "       [-6.1386520e+00,  5.7017049e+01,  7.1217279e+01],\n",
       "       [-5.8245280e+00,  5.7021947e+01,  7.1249735e+01],\n",
       "       [-5.6230650e+00,  5.7043235e+01,  7.1259537e+01],\n",
       "       [-5.5320150e+00,  5.7109000e+01,  7.1270563e+01],\n",
       "       [-5.3743300e+00,  5.7208761e+01,  7.1287873e+01],\n",
       "       [-5.1695320e+00,  5.7338219e+01,  7.1351637e+01],\n",
       "       [-5.1294200e+00,  5.7499873e+01,  7.1372014e+01],\n",
       "       [-5.0865960e+00,  5.7544243e+01,  7.1378750e+01],\n",
       "       [-4.7141390e+00,  5.7564468e+01,  7.1394377e+01],\n",
       "       [-4.3396150e+00,  5.7575585e+01,  7.1450446e+01],\n",
       "       [-3.9486020e+00,  5.7622062e+01,  7.1428604e+01],\n",
       "       [-3.4265570e+00,  5.7763627e+01,  7.1236574e+01],\n",
       "       [-3.2605840e+00,  5.7925827e+01,  7.1199261e+01],\n",
       "       [-3.0978900e+00,  5.8065776e+01,  7.1221357e+01],\n",
       "       [-3.0059820e+00,  5.7407192e+01,  7.1148093e+01],\n",
       "       [-2.8441810e+00,  5.7404274e+01,  7.1215558e+01],\n",
       "       [-2.7987780e+00,  5.7524646e+01,  7.1230945e+01],\n",
       "       [-2.5231050e+00,  5.7589393e+01,  7.1434732e+01],\n",
       "       [-2.0515910e+00,  5.7632988e+01,  7.1643436e+01],\n",
       "       [-2.0068220e+00,  5.7800604e+01,  7.1664398e+01],\n",
       "       [-1.9387750e+00,  5.7950106e+01,  7.1684103e+01],\n",
       "       [-1.7559600e+00,  5.8003548e+01,  7.1738299e+01],\n",
       "       [-1.6422520e+00,  5.8055343e+01,  7.1768921e+01],\n",
       "       [-1.5052590e+00,  5.8177781e+01,  7.1788083e+01],\n",
       "       [-1.3436440e+00,  5.8211925e+01,  7.1797745e+01],\n",
       "       [-9.8951300e-01,  5.8231762e+01,  7.1813167e+01],\n",
       "       [-6.2321500e-01,  5.8248553e+01,  7.1828567e+01],\n",
       "       [-5.1653300e-01,  5.8350853e+01,  7.1843814e+01],\n",
       "       [-4.7286600e-01,  5.8377621e+01,  7.1847887e+01],\n",
       "       [-2.6493100e-01,  5.8395618e+01,  7.1836719e+01],\n",
       "       [-2.2270600e-01,  5.8429873e+01,  7.1841592e+01],\n",
       "       [ 5.9188000e-02,  5.8476919e+01,  7.1753844e+01],\n",
       "       [ 5.3047700e-01,  5.8558600e+01,  7.1760707e+01],\n",
       "       [ 8.3889400e-01,  5.8611098e+01,  7.1674631e+01],\n",
       "       [ 1.0624750e+00,  5.8695173e+01,  7.1609276e+01],\n",
       "       [ 1.4882660e+00,  5.8792789e+01,  7.1533293e+01],\n",
       "       [ 1.5794590e+00,  5.8918811e+01,  7.1550729e+01],\n",
       "       [ 1.6222520e+00,  5.8983313e+01,  7.1558931e+01],\n",
       "       [ 1.6647110e+00,  5.9055493e+01,  7.1568009e+01],\n",
       "       [ 1.8575140e+00,  5.9185425e+01,  7.1588495e+01],\n",
       "       [ 1.9009570e+00,  5.9334078e+01,  7.1606546e+01],\n",
       "       [ 1.9425970e+00,  5.9417759e+01,  7.1616901e+01],\n",
       "       [ 2.2977610e+00,  5.9474681e+01,  7.1637230e+01],\n",
       "       [ 2.5600940e+00,  5.9571448e+01,  7.1713844e+01],\n",
       "       [ 2.7285590e+00,  5.9690484e+01,  7.1733664e+01],\n",
       "       [ 2.7736510e+00,  5.9753968e+01,  7.1741591e+01],\n",
       "       [ 2.8180710e+00,  5.9811357e+01,  7.1748766e+01],\n",
       "       [ 2.8193290e+00,  5.9654517e+01,  7.1730234e+01],\n",
       "       [ 2.8602310e+00,  5.9637632e+01,  7.1728564e+01],\n",
       "       [ 3.1897680e+00,  5.9687900e+01,  7.1746905e+01],\n",
       "       [ 3.3970780e+00,  5.9809440e+01,  7.1685101e+01],\n",
       "       [ 3.8213260e+00,  5.9911174e+01,  7.1741463e+01],\n",
       "       [ 4.0178490e+00,  5.9938037e+01,  7.1834967e+01],\n",
       "       [ 4.4045660e+00,  5.9955275e+01,  7.1935613e+01],\n",
       "       [ 4.4539970e+00,  6.0098614e+01,  7.1952849e+01],\n",
       "       [ 4.6294060e+00,  6.0225510e+01,  7.1973654e+01],\n",
       "       [ 4.7343080e+00,  6.0298961e+01,  7.1985287e+01],\n",
       "       [ 4.7741240e+00,  6.0384890e+01,  7.1995598e+01],\n",
       "       [ 4.8163870e+00,  6.0514423e+01,  7.2011089e+01],\n",
       "       [ 4.8585890e+00,  6.0655631e+01,  7.2027952e+01],\n",
       "       [ 4.8957190e+00,  6.0717174e+01,  7.2007501e+01],\n",
       "       [ 5.0845420e+00,  6.0741715e+01,  7.2017402e+01],\n",
       "       [ 5.2176670e+00,  6.0794816e+01,  7.1972287e+01],\n",
       "       [ 5.4803400e+00,  6.0916527e+01,  7.1968757e+01],\n",
       "       [ 5.5227240e+00,  6.1063772e+01,  7.1986221e+01],\n",
       "       [ 5.5632470e+00,  6.1134388e+01,  7.1994545e+01],\n",
       "       [ 5.5999480e+00,  6.1182377e+01,  7.2000164e+01],\n",
       "       [ 5.6406140e+00,  6.1249067e+01,  7.2007980e+01],\n",
       "       [ 5.7742120e+00,  6.1342131e+01,  7.2106721e+01],\n",
       "       [ 5.8143180e+00,  6.1373529e+01,  7.2110297e+01],\n",
       "       [ 5.8552740e+00,  6.1407087e+01,  7.2114105e+01],\n",
       "       [ 5.8937040e+00,  6.1428147e+01,  7.2116408e+01],\n",
       "       [ 5.9335120e+00,  6.1441759e+01,  7.2117791e+01],\n",
       "       [ 6.2565880e+00,  6.1404372e+01,  7.2125832e+01],\n",
       "       [ 6.5771500e+00,  6.1373776e+01,  7.2134770e+01],\n",
       "       [ 6.6091920e+00,  6.1371698e+01,  7.2134262e+01],\n",
       "       [ 6.7662460e+00,  6.1360952e+01,  7.2138462e+01],\n",
       "       [ 6.7917720e+00,  6.1364733e+01,  7.2138685e+01],\n",
       "       [ 6.8095550e+00,  6.1372021e+01,  7.2139392e+01],\n",
       "       [ 7.1538590e+00,  6.1366072e+01,  7.2069307e+01],\n",
       "       [ 7.1732390e+00,  6.1381722e+01,  7.2070986e+01],\n",
       "       [ 7.1998620e+00,  6.1397616e+01,  7.2072612e+01],\n",
       "       [ 7.3248540e+00,  6.1401989e+01,  7.2077167e+01],\n",
       "       [ 7.6741070e+00,  6.1393861e+01,  7.2090422e+01],\n",
       "       [ 7.7104660e+00,  6.1414839e+01,  7.2092503e+01],\n",
       "       [ 7.7487900e+00,  6.1438331e+01,  7.2094842e+01],\n",
       "       [ 7.7890790e+00,  6.1458492e+01,  7.2096733e+01],\n",
       "       [ 7.8323150e+00,  6.1479506e+01,  7.2098661e+01],\n",
       "       [ 7.8765320e+00,  6.1498818e+01,  7.2100343e+01],\n",
       "       [ 8.3703360e+00,  6.1481924e+01,  7.2034581e+01],\n",
       "       [ 8.5832050e+00,  6.1486483e+01,  7.1985931e+01],\n",
       "       [ 8.7897300e+00,  6.1481714e+01,  7.1991997e+01],\n",
       "       [ 9.0287810e+00,  6.1491123e+01,  7.2001243e+01],\n",
       "       [ 9.0850530e+00,  6.1578836e+01,  7.2010755e+01],\n",
       "       [ 9.1293060e+00,  6.1575234e+01,  7.2009470e+01],\n",
       "       [ 9.7450740e+00,  6.1509256e+01,  7.2027810e+01],\n",
       "       [ 1.0048915e+01,  6.1480635e+01,  7.2035515e+01],\n",
       "       [ 1.0355745e+01,  6.1437398e+01,  7.2041415e+01],\n",
       "       [ 1.0412100e+01,  6.1382178e+01,  7.2033462e+01],\n",
       "       [ 1.0811954e+01,  6.1350518e+01,  7.2045422e+01],\n",
       "       [ 1.1121711e+01,  6.1309092e+01,  7.2135039e+01],\n",
       "       [ 1.1553346e+01,  6.1265468e+01,  7.2147246e+01],\n",
       "       [ 1.1930945e+01,  6.1234290e+01,  7.2157652e+01],\n",
       "       [ 1.2235449e+01,  6.1217033e+01,  7.2166879e+01],\n",
       "       [ 1.2297729e+01,  6.1226984e+01,  7.2166323e+01],\n",
       "       [ 1.2362939e+01,  6.1247492e+01,  7.2166907e+01],\n",
       "       [ 1.2511944e+01,  6.1260369e+01,  7.2171634e+01],\n",
       "       [ 1.2636663e+01,  6.1264153e+01,  7.2173382e+01],\n",
       "       [ 1.2974362e+01,  6.1257629e+01,  7.2185356e+01],\n",
       "       [ 1.3192806e+01,  6.1255436e+01,  7.2191178e+01],\n",
       "       [ 1.3244626e+01,  6.1275342e+01,  7.2191857e+01],\n",
       "       [ 1.3307909e+01,  6.1328095e+01,  7.2196118e+01],\n",
       "       [ 1.3736255e+01,  6.1316535e+01,  7.2212482e+01],\n",
       "       [ 1.3819142e+01,  6.1357623e+01,  7.2217291e+01],\n",
       "       [ 1.4292735e+01,  6.1377131e+01,  7.2210871e+01],\n",
       "       [ 1.4660497e+01,  6.1459428e+01,  7.2319144e+01],\n",
       "       [ 1.5090648e+01,  6.1468345e+01,  7.2338319e+01],\n",
       "       [ 1.5434801e+01,  6.1507614e+01,  7.2355948e+01],\n",
       "       [ 1.5679797e+01,  6.1626649e+01,  7.2378571e+01],\n",
       "       [ 1.6023447e+01,  6.1734624e+01,  7.2404810e+01],\n",
       "       [ 1.6083782e+01,  6.1786002e+01,  7.2408630e+01],\n",
       "       [ 1.6230816e+01,  6.1814271e+01,  7.2415024e+01],\n",
       "       [ 1.6386757e+01,  6.1840124e+01,  7.2420698e+01],\n",
       "       [ 1.6439519e+01,  6.1859770e+01,  7.2420781e+01],\n",
       "       [ 1.6506221e+01,  6.1890265e+01,  7.2421530e+01],\n",
       "       [ 1.7016105e+01,  6.1867964e+01,  7.2439775e+01],\n",
       "       [ 1.7545278e+01,  6.1809800e+01,  7.2483906e+01],\n",
       "       [ 1.7903571e+01,  6.1812247e+01,  7.2412847e+01],\n",
       "       [ 1.8065558e+01,  6.1825007e+01,  7.2388525e+01],\n",
       "       [ 1.8316317e+01,  6.1809916e+01,  7.2394158e+01],\n",
       "       [ 1.8786639e+01,  6.1766299e+01,  7.2408782e+01],\n",
       "       [ 1.8846989e+01,  6.1770826e+01,  7.2406168e+01],\n",
       "       [ 1.9089741e+01,  6.1746964e+01,  7.2411085e+01],\n",
       "       [ 1.9339468e+01,  6.1723964e+01,  7.2415718e+01],\n",
       "       [ 2.0142185e+01,  6.1512016e+01,  7.2374543e+01],\n",
       "       [ 2.0668854e+01,  6.1382187e+01,  7.2354983e+01],\n",
       "       [ 2.1357091e+01,  6.1305500e+01,  7.2490533e+01],\n",
       "       [ 2.1616967e+01,  6.1379699e+01,  7.2507046e+01],\n",
       "       [ 2.1939161e+01,  6.1476500e+01,  7.2530242e+01],\n",
       "       [ 2.2355830e+01,  6.1575988e+01,  7.2559541e+01],\n",
       "       [ 2.2486216e+01,  6.1743493e+01,  7.2580509e+01],\n",
       "       [ 2.2783775e+01,  6.1891346e+01,  7.2607948e+01],\n",
       "       [ 2.3235263e+01,  6.1947078e+01,  7.2633575e+01],\n",
       "       [ 2.3185705e+01,  6.2189624e+01,  7.2529143e+01],\n",
       "       [ 2.3380315e+01,  6.2363281e+01,  7.2554565e+01],\n",
       "       [ 2.4082602e+01,  6.2432354e+01,  7.2746503e+01],\n",
       "       [ 2.4380540e+01,  6.2383442e+01,  7.3161575e+01],\n",
       "       [ 2.4442641e+01,  6.2300579e+01,  7.3856431e+01],\n",
       "       [ 2.4503230e+01,  6.2374811e+01,  7.3862045e+01],\n",
       "       [ 2.5140273e+01,  6.2418418e+01,  7.4123494e+01],\n",
       "       [ 2.5554963e+01,  6.2460063e+01,  7.4483266e+01],\n",
       "       [ 2.5769307e+01,  6.2544047e+01,  7.4575835e+01],\n",
       "       [ 2.6001121e+01,  6.2485249e+01,  7.4764574e+01],\n",
       "       [ 2.6161896e+01,  6.2454634e+01,  7.4766086e+01],\n",
       "       [ 2.6205043e+01,  6.2540649e+01,  7.4774530e+01],\n",
       "       [ 2.6628312e+01,  6.2602949e+01,  7.4804001e+01],\n",
       "       [ 2.6678333e+01,  6.2769757e+01,  7.4822774e+01],\n",
       "       [ 2.6942571e+01,  6.2915868e+01,  7.4852085e+01],\n",
       "       [ 2.7122377e+01,  6.3086662e+01,  7.4879315e+01],\n",
       "       [ 2.7178686e+01,  6.3244341e+01,  7.4822390e+01],\n",
       "       [ 2.7620218e+01,  6.3394246e+01,  7.4788606e+01]])"
      ]
     },
     "metadata": {},
     "output_type": "display_data"
    },
    {
     "name": "stdout",
     "output_type": "stream",
     "text": [
      "(198, 3)\n",
      "(198, 3)\n"
     ]
    }
   ],
   "source": [
    "#np.array creates teh array and .T trsnaposes the original array  \n",
    "\n",
    "A = np.array([pt4_X_s1, pt4_Y_s1, pt4_Z_s1]).T  #% shoulder\n",
    "#A = np.transpose(A)\n",
    "display(A)\n",
    "B = np.array([pt2_X_s1, pt2_Y_s1, pt2_Z_s1]).T   #% elbow\n",
    "print(B.shape)\n",
    "C = np.array([pt3_X_s1, pt3_Y_s1, pt3_Z_s1]).T   #% wrist\n",
    "\n",
    "print(C.shape)"
   ]
  },
  {
   "cell_type": "markdown",
   "metadata": {},
   "source": [
    "Example Calculation 1\n",
    "Determining the 2 vectors to characterize the 3D angle by making the elbow (or joint of interest) the origin. The elbow pt is set as the origin for the two vectors by subtracting the elbow point from the should and wrist point."
   ]
  },
  {
   "cell_type": "code",
   "execution_count": 303,
   "metadata": {},
   "outputs": [
    {
     "name": "stdout",
     "output_type": "stream",
     "text": [
      "[[10.848979  2.714715  1.916155]\n",
      " [10.882797  3.197577  2.246002]\n",
      " [11.246091  3.120279  3.380738]\n",
      " [11.443566  3.124283  4.034348]\n",
      " [11.126209  3.088156  4.070106]\n",
      " [11.14547   3.047091  4.275707]\n",
      " [11.355999  2.999538  4.315572]\n",
      " [11.479494  3.09452   4.078757]\n",
      " [11.16972   3.199738  3.98247 ]\n",
      " [11.173013  3.108148  3.971039]\n",
      " [11.174273  3.037358  3.962266]\n",
      " [11.177346  2.988954  3.956401]\n",
      " [11.174566  2.934713  3.949417]\n",
      " [11.039752  2.78531   3.992444]\n",
      " [10.900674  2.600876  4.197489]\n",
      " [10.850916  2.496059  4.182748]\n",
      " [10.832546  2.394478  4.169343]\n",
      " [10.818929  2.248882  4.250996]\n",
      " [10.813422  2.156419  4.30663 ]\n",
      " [10.813007  2.112552  4.301631]\n",
      " [10.805852  2.001256  4.287914]\n",
      " [10.769946  1.616714  4.236749]\n",
      " [10.727037  1.44927   4.214267]\n",
      " [10.729278  1.401846  4.2089  ]\n",
      " [10.729395  1.319835  4.199174]\n",
      " [10.733219  1.31871   4.19991 ]\n",
      " [10.727981  1.241679  4.190151]\n",
      " [10.725236  1.193119  4.184015]\n",
      " [10.721621  1.164302  4.180331]\n",
      " [10.717065  1.141362  4.177291]\n",
      " [10.709996  1.107851  4.172822]\n",
      " [10.688106  1.029228  4.161994]\n",
      " [10.6845    0.990384  4.157045]\n",
      " [10.652082  0.858357  4.139046]\n",
      " [10.636454  0.748045  4.124681]\n",
      " [10.619402  0.642333  4.110674]\n",
      " [10.494633  0.606135  4.135413]\n",
      " [10.363787  0.491968  4.519427]\n",
      " [10.359985  0.467246  4.516259]\n",
      " [10.353591  0.415752  4.509594]\n",
      " [10.352309  0.407624  4.508667]\n",
      " [10.268994  0.431514  4.677605]\n",
      " [10.265616  0.416749  4.675638]\n",
      " [10.26483   0.402663  4.673831]\n",
      " [10.107328  0.387748  4.700073]\n",
      " [10.103022  0.362776  4.696872]\n",
      " [10.092263  0.308638  4.689622]\n",
      " [10.08558   0.249222  4.681918]\n",
      " [ 9.967149  0.247525  4.677636]\n",
      " [ 9.966064  0.233342  4.67586 ]\n",
      " [ 9.96267   0.220622  4.67408 ]\n",
      " [ 9.958969  0.215828  4.67336 ]\n",
      " [ 9.954355  0.198873  4.67099 ]\n",
      " [ 9.947857  0.185562  4.669058]\n",
      " [ 9.93465   0.168748  4.666383]\n",
      " [ 9.931075  0.157971  4.664912]\n",
      " [ 9.61721   0.156913  4.721065]\n",
      " [ 9.612452  0.153813  4.720529]\n",
      " [ 9.609915  0.1554    4.720509]\n",
      " [ 9.601235  0.167366  4.721655]\n",
      " [ 9.587827  0.170637  4.7213  ]\n",
      " [ 9.579587  0.202792  4.724996]\n",
      " [ 9.57307   0.245357  4.729996]\n",
      " [ 9.555888  0.272114  4.799858]\n",
      " [ 9.308756  0.291951  5.265205]\n",
      " [ 9.015928  0.032517  5.323936]\n",
      " [ 8.62591   0.145694  5.526256]\n",
      " [ 8.615412  0.237093  5.536908]\n",
      " [ 8.610198  0.335761  5.54859 ]\n",
      " [ 8.672597  0.397835  5.828469]\n",
      " [ 8.730584  0.404355  5.966333]\n",
      " [ 8.724189  0.438746  5.970238]\n",
      " [ 8.720915  0.479901  5.975033]\n",
      " [ 8.712063  0.57092   6.103316]\n",
      " [ 8.701679  0.591078  6.164176]\n",
      " [ 8.558329  0.691223  5.99346 ]\n",
      " [ 8.55462   0.802157  6.006586]\n",
      " [ 8.546337  0.822248  6.008702]\n",
      " [ 8.521379  0.79239   6.173007]\n",
      " [ 8.2384    0.778457  6.397817]\n",
      " [ 8.228721  0.770613  6.464136]\n",
      " [ 8.208307  0.79577   6.466368]\n",
      " [ 8.203419  0.824536  6.469446]\n",
      " [ 8.20031   0.959312  6.485361]\n",
      " [ 8.181953  1.106411  6.502056]\n",
      " [ 7.852053  1.256155  6.642987]\n",
      " [ 7.84617   1.294598  6.64723 ]\n",
      " [ 7.801666  1.32494   6.649121]\n",
      " [ 7.635084  1.316428  6.844748]\n",
      " [ 7.613616  1.343308  6.846925]\n",
      " [ 7.589206  1.464949  6.860264]\n",
      " [ 7.40722   1.529849  6.928914]\n",
      " [ 7.241247  1.525286  7.057496]\n",
      " [ 7.113417  1.527753  7.222293]\n",
      " [ 7.107     1.558017  7.225585]\n",
      " [ 7.080813  1.591403  7.228575]\n",
      " [ 6.702236  1.622251  7.42135 ]\n",
      " [ 6.676741  1.654823  7.458115]\n",
      " [ 6.51748   1.776891  7.534172]\n",
      " [ 6.513657  1.825538  7.539734]\n",
      " [ 6.388327  1.862318  7.641061]\n",
      " [ 6.380852  1.985153  7.655037]\n",
      " [ 6.365256  2.135832  7.672132]\n",
      " [ 6.331249  2.110799  7.972793]\n",
      " [ 6.013138  2.173605  8.00195 ]\n",
      " [ 6.003259  2.214637  8.006352]\n",
      " [ 5.980036  2.337295  8.01967 ]\n",
      " [ 5.956931  2.469984  8.034178]\n",
      " [ 5.931893  2.572552  8.045149]\n",
      " [ 5.347636  2.57713   8.497838]\n",
      " [ 5.332919  2.62263   8.502396]\n",
      " [ 5.301946  2.667848  8.506534]\n",
      " [ 5.279017  2.776333  8.517943]\n",
      " [ 5.264572  2.909035  8.532788]\n",
      " [ 5.273297  2.94595   8.537212]\n",
      " [ 5.294429  3.000054  8.544006]\n",
      " [ 5.300076  3.030394  8.547432]\n",
      " [ 5.039818  3.059496  8.573837]\n",
      " [ 4.789866  3.017155  8.760821]\n",
      " [ 4.810374  2.933511  8.749285]\n",
      " [ 4.775423  3.184026  8.776063]\n",
      " [ 4.772756  3.189249  8.776746]\n",
      " [ 4.74593   3.504574  8.81225 ]\n",
      " [ 4.722293  3.523711  8.814608]\n",
      " [ 4.217278  4.032876  9.024824]\n",
      " [ 4.179818  4.075904  9.030244]\n",
      " [ 4.15557   4.321524  9.059267]\n",
      " [ 4.110589  4.308743  9.056898]\n",
      " [ 3.535415  4.16951   9.05447 ]\n",
      " [ 3.146264  4.183613  9.209991]\n",
      " [ 3.038612  4.162298  9.205432]\n",
      " [ 2.632575  4.153254  9.391557]\n",
      " [ 2.579398  4.383336  9.41646 ]\n",
      " [ 2.417891  4.49771   9.42365 ]\n",
      " [ 2.360755  4.5443    9.42792 ]\n",
      " [ 2.294891  4.530948  9.42547 ]\n",
      " [ 1.868089  4.525246  9.406553]\n",
      " [ 1.79955   4.536527  9.404886]\n",
      " [ 1.822017  4.533218  9.40471 ]\n",
      " [ 1.789213  4.520442  9.402772]\n",
      " [ 1.015103  4.64281   9.41963 ]\n",
      " [ 0.898262  4.724215  9.710132]\n",
      " [ 0.756608  4.785859  9.713513]\n",
      " [ 0.551323  4.829529  9.709332]\n",
      " [ 0.432342  4.795388  9.701031]\n",
      " [ 0.359756  4.735687  9.692692]\n",
      " [ 0.307054  4.782235  9.697527]\n",
      " [-0.411154  4.89732   9.37782 ]\n",
      " [-0.663418  5.063106  9.38554 ]\n",
      " [-1.100781  5.081149  9.372393]\n",
      " [-1.342458  5.164192  9.371925]\n",
      " [-1.592275  5.412647  9.165192]\n",
      " [-1.833987  5.370524  9.050339]\n",
      " [-2.002285  5.071983  8.87539 ]\n",
      " [-2.274655  5.052428  8.862039]\n",
      " [-2.511018  4.957807  8.841558]\n",
      " [-2.860226  4.910707  8.822876]\n",
      " [-3.050188  4.715311  8.793867]\n",
      " [-3.437796  4.658163  8.769774]\n",
      " [-2.909368  4.761083  8.419889]\n",
      " [-2.903176  4.78684   8.423396]\n",
      " [-3.122731  4.778566  8.518943]\n",
      " [-3.429947  4.752258  8.220962]\n",
      " [-3.53079   4.720338  8.001769]\n",
      " [-3.618249  5.26381   7.812538]\n",
      " [-3.680373  5.77915   7.873025]\n",
      " [-3.585273  6.056057  7.728501]\n",
      " [-3.692591  6.138867  7.714513]\n",
      " [-3.272349  7.060827  7.637417]\n",
      " [-3.058291  8.091861  7.381349]\n",
      " [-1.952597  9.101564  7.098886]\n",
      " [-2.372727  9.164847  7.369033]\n",
      " [-1.203727 10.361538  7.449103]\n",
      " [ 0.262621 10.562302  7.152166]\n",
      " [ 1.869957 10.270556  6.481668]\n",
      " [ 3.206405 10.599257  6.218678]\n",
      " [ 4.349662 10.456027  6.155648]\n",
      " [ 5.17746  10.131297  6.043901]\n",
      " [ 5.750427 10.594753  6.126719]\n",
      " [ 6.478247  9.54608   6.08725 ]\n",
      " [ 7.797671  8.168106  5.502122]\n",
      " [ 8.369919  6.151648  4.600319]\n",
      " [ 9.372664  5.970057  3.82967 ]\n",
      " [ 9.864749  6.096882  2.797047]\n",
      " [ 9.962963  6.028872  2.222408]\n",
      " [10.394243  5.875049  1.957652]\n",
      " [10.782073  5.355586  1.60571 ]\n",
      " [10.520188  4.69434   0.942961]\n",
      " [10.275832  3.933305  0.801679]\n",
      " [11.024534  4.21204   1.101355]\n",
      " [11.554548  3.487526  1.307215]\n",
      " [12.045936  3.850991  1.880089]\n",
      " [11.497101  4.319959  1.889852]\n",
      " [11.259504  4.652585  1.959525]\n",
      " [11.336268  4.760921  2.057491]\n",
      " [11.580944  4.090329  2.61093 ]\n",
      " [11.630165  4.444387  2.937827]\n",
      " [11.983903  3.966611  3.406909]]\n"
     ]
    }
   ],
   "source": [
    "A0 = A - B #% vector from elbow (origin) to shoulder\n",
    "#print(A0.shape)\n",
    "B0 = B - B  #% origin (0,0,0)\n",
    "#print(B0)\n",
    "C0 = C - B  #% vector from elbow (origin) to wrist\n",
    "print(C0)"
   ]
  },
  {
   "cell_type": "markdown",
   "metadata": {},
   "source": [
    "Calculating the angle between two vectors, using the following formula,\n",
    "    a • b=a *b * cos (a) \n",
    "\n",
    "Which can be re-arranged to,\n",
    "    a = arccos {(a • b)/ |a| * |b|}.\n",
    "\n",
    "\n",
    "Using the algebraic formula for the dot product (the sum of the products of the vectors' components), and substitute in the magnitudes, the equation is:\n",
    "    a = arccos((x_a * x_b+ y_a * y_b + z_a + z_b)/ √(x_a^2 + y_a^2 + z_a^2) * √x_b^2+y_b^2 +zb^2) "
   ]
  },
  {
   "cell_type": "code",
   "execution_count": 304,
   "metadata": {},
   "outputs": [
    {
     "data": {
      "text/plain": [
       "array([134.8985536 , 137.97833643, 138.33289572, 138.78340583,\n",
       "       143.2873476 , 146.19340668, 142.90135844, 142.82379815,\n",
       "       143.49148072, 141.18827434, 140.39273457, 139.82213297,\n",
       "       139.60613243, 139.37512165, 137.97575362, 137.17276869,\n",
       "       136.9469595 , 132.6916053 , 130.36468773, 127.24294283,\n",
       "       123.92363494, 119.42957779, 115.81879977, 115.12036449,\n",
       "       114.18204102, 113.88973779, 110.93961843, 108.72233403,\n",
       "       108.18491912, 107.13306962, 105.15336793, 103.97524676,\n",
       "       103.9610464 , 103.2197431 , 100.19204995,  98.70586204,\n",
       "        99.12581012,  98.80460669,  96.97567846,  95.66570786,\n",
       "        95.16608197,  94.90859025,  93.66462105,  93.36741268,\n",
       "        94.03118697,  91.93579201,  89.67419669,  87.48761197,\n",
       "        85.97566689,  85.09579296,  84.09893777,  84.26227037,\n",
       "        83.30515636,  82.96293502,  81.17895722,  78.51168196,\n",
       "        79.84518909,  79.35204865,  78.35339825,  77.79589685,\n",
       "        77.07344077,  76.45800291,  75.02670571,  73.58867397,\n",
       "        74.24584414,  74.6438417 ,  76.21836448,  76.3953711 ,\n",
       "        75.82325261,  73.40844147,  71.99152029,  71.36964923,\n",
       "        70.05470577,  69.9466522 ,  69.85813217,  69.84389207,\n",
       "        69.16662536,  68.75878585,  68.33076966,  68.28449575,\n",
       "        66.95628569,  66.29390764,  66.06039053,  66.07462785,\n",
       "        66.87211687,  68.74819104,  67.67987081,  67.33140019,\n",
       "        66.3246101 ,  65.55087886,  64.5153419 ,  64.96725483,\n",
       "        64.82978101,  64.75359443,  64.48873297,  64.19407056,\n",
       "        65.34204499,  65.3049801 ,  65.65752966,  65.5486253 ,\n",
       "        65.25004952,  64.82463728,  64.72389266,  63.80275844,\n",
       "        65.13200948,  64.23504452,  64.20783059,  64.16819601,\n",
       "        64.17295408,  65.37887356,  65.16122612,  65.03997914,\n",
       "        65.06721069,  65.00883463,  65.00507643,  64.94666045,\n",
       "        65.10729225,  66.26620641,  66.55402437,  66.06809871,\n",
       "        65.82673851,  65.7621162 ,  65.58892355,  65.66078287,\n",
       "        66.81537093,  67.01848764,  67.35594853,  67.78135108,\n",
       "        70.61502134,  71.70795605,  71.97774162,  72.96321445,\n",
       "        73.05245426,  73.73322623,  74.11920876,  74.72756676,\n",
       "        77.04631036,  77.12443057,  77.18741924,  77.50730895,\n",
       "        81.20588754,  80.51932221,  81.09999865,  82.0782042 ,\n",
       "        82.27282223,  82.74246106,  82.98213346,  88.07148275,\n",
       "        88.78128432,  91.09199655,  91.92078413,  93.47034363,\n",
       "        94.80415237,  97.55635658,  98.83638252,  99.85880625,\n",
       "       101.30636837, 102.5566807 , 104.33971859, 100.75322816,\n",
       "       100.69526385, 100.79587619, 103.11008323, 102.54417459,\n",
       "       101.78637882,  99.77492178,  97.7989814 ,  97.86465471,\n",
       "        93.50833903,  93.27680888,  89.7688642 ,  91.49164809,\n",
       "        86.16203415,  81.47423729,  73.93698721,  69.29418376,\n",
       "        63.73758641,  62.68789632,  63.19911929,  65.48385943,\n",
       "        65.14091843,  68.34343821,  68.41276243,  71.93426667,\n",
       "        79.87098128,  84.3772524 ,  82.46887415,  88.01453018,\n",
       "        91.90847643,  93.26709627,  94.03367091,  97.38862569,\n",
       "       103.81217679, 109.95663577, 112.31158292, 112.0665311 ,\n",
       "       114.82524367, 111.86371893])"
      ]
     },
     "metadata": {},
     "output_type": "display_data"
    },
    {
     "name": "stdout",
     "output_type": "stream",
     "text": [
      "(198,)\n"
     ]
    }
   ],
   "source": [
    "dot_product = (A0[:,0] * C0[:,0]) + (A0[:,1] * C0[:,1]) + (A0[:,2] * C0[:,2])  #this gives the right results\n",
    "\n",
    "# Calculate the magnitudes of A0 and C0 vectors\n",
    "mag_A0 = np.sqrt(A0[:,0]**2 + A0[:,1]**2 + A0[:,2]) #in the matlab it does not have the ** (.^2)which gives different result, however based on the equation, there should be a **\n",
    "mag_C0 = np.sqrt(C0[:,0]**2 + C0[:,1]**2 + C0[:,2]**2)\n",
    "\n",
    "# Calculate the cosine of the angle between A0 and C0 vectors\n",
    "cos_angle = dot_product / (mag_A0 * mag_C0)\n",
    "\n",
    "# Calculate the angle in degrees using arccosine\n",
    "alpha = np.degrees(np.arccos(cos_angle) )\n",
    "#alpha = np.degrees(alpha_)\n",
    "\n",
    "display(alpha)\n",
    "print(alpha.shape)\n"
   ]
  },
  {
   "cell_type": "markdown",
   "metadata": {},
   "source": [
    "Example Calculation 2\n",
    "Another way to perform this calculation, after determining the two vectors from their start and end point. Find the dot product of the two vectors\n",
    "\n",
    "Finding the total length of the array allows us to calculate the dot product throughout the array.\n",
    "\n",
    "\n",
    "//WILL LEAVE THIS HERE BC ITS NOT USED IN THE MATLAB SCRIPT BUT JUST IN CASE WE USE IT IN THE FUTURE \n",
    "\n",
    "    %[length,~] = size(A0);\n",
    "    %c = dot(A0,C0,length);\n",
    "\n",
    "Calculating the sum across the x, y, z pts/matrix rows to find the dot product. 2 sums across successive elements across rows.\n",
    "    %VaVb_dotprod = sum(c,2);"
   ]
  },
  {
   "cell_type": "markdown",
   "metadata": {},
   "source": [
    "Or, it might be best to perform the dot product as such\n"
   ]
  },
  {
   "cell_type": "code",
   "execution_count": 305,
   "metadata": {},
   "outputs": [
    {
     "data": {
      "text/plain": [
       "(198,)"
      ]
     },
     "metadata": {},
     "output_type": "display_data"
    }
   ],
   "source": [
    "VaVb_dotprod = np.sum(A0 * C0, axis=1) \n",
    "display(VaVb_dotprod.shape)"
   ]
  },
  {
   "cell_type": "markdown",
   "metadata": {},
   "source": [
    "Next determine the magnitude of the vectors\n",
    "\n",
    "    |Va| = √(Xa^2 + ya^2 + za^2)\n",
    "    |Vb| = √(Xb^2 + yb^2 + zb^2)"
   ]
  },
  {
   "cell_type": "code",
   "execution_count": 306,
   "metadata": {},
   "outputs": [],
   "source": [
    "A0_mag = np.sqrt(A0[:,0]**2+A0[:,1]** 2+A0[:,2]) #SHOULDNT TIS BE **2 ? BASED ON THE EQUATION\n",
    "C0_mag = np.sqrt(C0[:,0]**2+C0[:,1]**2+C0[:,2]**2)"
   ]
  },
  {
   "cell_type": "markdown",
   "metadata": {},
   "source": [
    "Finally, use the transformed dot product equation:"
   ]
  },
  {
   "cell_type": "code",
   "execution_count": 307,
   "metadata": {},
   "outputs": [],
   "source": [
    "alpha2 = np.degrees(np.arccos(VaVb_dotprod/(A0_mag*C0_mag)))\n"
   ]
  },
  {
   "cell_type": "markdown",
   "metadata": {},
   "source": [
    "Example Calculation 3\n",
    "Setting up your two vectors, one originating from the elbow to the shoulder and the other originating from the elbow to the wrist.\n",
    "\n",
    "\n",
    "Where,\n",
    "Va = vector from the elbow to the shoulder (pt 4 and pt 3)\n",
    "Vb = vector from the elbow to the wrist (pt 4 and pt 5)."
   ]
  },
  {
   "cell_type": "code",
   "execution_count": 308,
   "metadata": {},
   "outputs": [
    {
     "data": {
      "text/plain": [
       "array([[ -4.347663,  -8.865379,  -3.374198],\n",
       "       [ -4.399606,  -8.909074,  -3.350308],\n",
       "       [ -4.400949,  -8.902695,  -3.3502  ],\n",
       "       [ -4.393129,  -8.890722,  -3.415672],\n",
       "       [ -4.680533,  -8.754616,  -4.009242],\n",
       "       [ -4.780371,  -8.660725,  -4.500841],\n",
       "       [ -4.338146,  -8.777353,  -4.579534],\n",
       "       [ -4.297699,  -8.781511,  -4.656021],\n",
       "       [ -4.351675,  -8.875119,  -4.585422],\n",
       "       [ -4.229127,  -9.03504 ,  -4.478448],\n",
       "       [ -4.209983,  -9.10907 ,  -4.486843],\n",
       "       [ -4.197489,  -9.168045,  -4.493731],\n",
       "       [ -4.167424,  -9.10364 ,  -4.484816],\n",
       "       [ -4.2617  ,  -9.112802,  -4.423205],\n",
       "       [ -4.363155,  -9.294053,  -4.215865],\n",
       "       [ -4.370392,  -9.388703,  -4.227334],\n",
       "       [ -4.360853,  -9.435721,  -4.398004],\n",
       "       [ -3.915286,  -9.626361,  -4.184234],\n",
       "       [ -3.602687,  -9.680868,  -4.135221],\n",
       "       [ -3.046379,  -9.663858,  -4.115674],\n",
       "       [ -2.567693,  -9.715807,  -4.107061],\n",
       "       [ -2.176498,  -9.861624,  -4.1119  ],\n",
       "       [ -1.744881, -10.013295,  -4.073707],\n",
       "       [ -1.68145 , -10.068124,  -4.077544],\n",
       "       [ -1.616553, -10.156918,  -4.085617],\n",
       "       [ -1.549302, -10.102688,  -4.07641 ],\n",
       "       [ -1.11146 , -10.204161,  -4.074001],\n",
       "       [ -0.766697, -10.26367 ,  -4.069354],\n",
       "       [ -0.654129, -10.264754,  -4.168275],\n",
       "       [ -0.478061, -10.275412,  -4.18367 ],\n",
       "       [ -0.111688, -10.295459,  -4.27621 ],\n",
       "       [  0.049752, -10.338066,  -4.337797],\n",
       "       [  0.04526 , -10.295572,  -4.39543 ],\n",
       "       [  0.051509, -10.347204,  -4.402419],\n",
       "       [  0.507184, -10.353712,  -4.40895 ],\n",
       "       [  0.721913, -10.299207,  -4.499039],\n",
       "       [  0.640537, -10.286667,  -4.487672],\n",
       "       [  0.57665 , -10.366671,  -4.09709 ],\n",
       "       [  0.885312, -10.396972,  -4.069244],\n",
       "       [  1.081237, -10.424926,  -4.06579 ],\n",
       "       [  1.16854 , -10.385991,  -4.058258],\n",
       "       [  1.240793, -10.336838,  -3.882131],\n",
       "       [  1.442587, -10.222033,  -3.820314],\n",
       "       [  1.480791, -10.074801,  -3.801804],\n",
       "       [  1.365955, -10.0414  ,  -3.768294],\n",
       "       [  1.734156, -10.052121,  -3.756677],\n",
       "       [  2.095304, -10.095924,  -3.707999],\n",
       "       [  2.478728, -10.105141,  -3.737053],\n",
       "       [  2.883622,  -9.968883,  -3.933837],\n",
       "       [  3.047547,  -9.825147,  -3.973519],\n",
       "       [  3.206689,  -9.693972,  -3.95267 ],\n",
       "       [  3.29468 , -10.361408,  -4.027207],\n",
       "       [  3.451335, -10.377447,  -3.961599],\n",
       "       [  3.488903, -10.274778,  -3.948757],\n",
       "       [  3.750887, -10.228985,  -3.747942],\n",
       "       [  4.218718, -10.198196,  -3.540985],\n",
       "       [  3.949996, -10.031526,  -3.46385 ],\n",
       "       [  4.013818,  -9.888958,  -3.445193],\n",
       "       [  4.192442,  -9.83043 ,  -3.390565],\n",
       "       [  4.299231,  -9.76814 ,  -3.358973],\n",
       "       [  4.420523,  -9.637126,  -3.339478],\n",
       "       [  4.574588,  -9.578607,  -3.327165],\n",
       "       [  4.922734,  -9.520039,  -3.307255],\n",
       "       [  5.271369,  -9.478632,  -3.22229 ],\n",
       "       [  5.132256,  -9.352102,  -2.741083],\n",
       "       [  4.884432,  -9.580376,  -2.677666],\n",
       "       [  4.70406 ,  -9.444698,  -2.48588 ],\n",
       "       [  4.735945,  -9.322989,  -2.470888],\n",
       "       [  5.011878,  -9.177499,  -2.546994],\n",
       "       [  5.546953,  -9.035326,  -2.260448],\n",
       "       [  5.913465,  -8.974279,  -2.208383],\n",
       "       [  6.131665,  -8.857507,  -2.270049],\n",
       "       [  6.554182,  -8.718736,  -2.341237],\n",
       "       [  6.641258,  -8.471956,  -2.309493],\n",
       "       [  6.676915,  -8.373165,  -2.297483],\n",
       "       [  6.704625,  -8.256448,  -2.283692],\n",
       "       [  6.892598,  -8.015914,  -2.250141],\n",
       "       [  6.927544,  -7.851228,  -2.230526],\n",
       "       [  6.944492,  -7.799323,  -2.056122],\n",
       "       [  7.014861,  -7.762863,  -1.811892],\n",
       "       [  7.266287,  -7.676301,  -1.669296],\n",
       "       [  7.415245,  -7.535834,  -1.647736],\n",
       "       [  7.45513 ,  -7.43569 ,  -1.635666],\n",
       "       [  7.49596 ,  -7.245664,  -1.612872],\n",
       "       [  7.479822,  -7.251126,  -1.614117],\n",
       "       [  7.18981 ,  -7.11657 ,  -1.47464 ],\n",
       "       [  7.512931,  -7.024023,  -1.451543],\n",
       "       [  7.675577,  -6.868194,  -1.510924],\n",
       "       [  7.932069,  -6.769328,  -1.258186],\n",
       "       [  8.104829,  -6.710273,  -1.161816],\n",
       "       [  8.465001,  -6.570029,  -1.047675],\n",
       "       [  8.332232,  -6.365848,  -0.962341],\n",
       "       [  8.34028 ,  -6.241928,  -0.812758],\n",
       "       [  8.316871,  -6.16815 ,  -0.636624],\n",
       "       [  8.349522,  -6.052178,  -0.623061],\n",
       "       [  8.366613,  -5.890956,  -0.604796],\n",
       "       [  8.028528,  -5.7234  ,  -0.395791],\n",
       "       [  8.039309,  -5.631535,  -0.379793],\n",
       "       [  8.069618,  -5.484705,  -0.293795],\n",
       "       [  8.19844 ,  -5.385096,  -0.333644],\n",
       "       [  8.335835,  -5.232581,  -0.236656],\n",
       "       [  8.372453,  -4.958001,  -0.204584],\n",
       "       [  8.397433,  -4.742682,  -0.179974],\n",
       "       [  8.401836,  -4.715226,   0.126939],\n",
       "       [  8.125353,  -4.581451,   0.164504],\n",
       "       [  8.249072,  -4.447355,   0.267647],\n",
       "       [  8.266916,  -4.28902 ,   0.285134],\n",
       "       [  8.283753,  -4.121076,   0.303666],\n",
       "       [  8.295757,  -3.995862,   0.317137],\n",
       "       [  7.752965,  -3.967196,   0.77265 ],\n",
       "       [  8.060257,  -3.95141 ,   0.786274],\n",
       "       [  8.351555,  -3.932288,   0.799982],\n",
       "       [  8.359549,  -3.812233,   0.812717],\n",
       "       [  8.498473,  -3.697358,   0.830754],\n",
       "       [  8.507522,  -3.674092,   0.83271 ],\n",
       "       [  8.516536,  -3.635487,   0.836743],\n",
       "       [  8.836267,  -3.625962,   0.767699],\n",
       "       [  8.561118,  -3.575257,   0.796186],\n",
       "       [  8.300435,  -3.556655,   0.990487],\n",
       "       [  8.409827,  -3.546519,   0.995252],\n",
       "       [  8.696649,  -3.288102,   1.037184],\n",
       "       [  8.733008,  -3.267124,   1.039265],\n",
       "       [  8.745463,  -2.938019,   1.0758  ],\n",
       "       [  8.785752,  -2.917858,   1.077691],\n",
       "       [  8.355295,  -2.414553,   1.286519],\n",
       "       [  8.399512,  -2.395241,   1.288201],\n",
       "       [  8.901778,  -2.222871,   1.244203],\n",
       "       [  9.101432,  -2.221771,   1.194834],\n",
       "       [  8.759588,  -2.345899,   1.201503],\n",
       "       [  8.608312,  -2.330722,   1.365126],\n",
       "       [  8.558745,  -2.271779,   1.369092],\n",
       "       [  8.197923,  -2.280147,   1.554524],\n",
       "       [  8.759607,  -2.112316,   1.59826 ],\n",
       "       [  8.901356,  -2.016749,   1.614478],\n",
       "       [  9.14507 ,  -2.015158,   1.624333],\n",
       "       [  9.108812,  -2.095593,   1.611987],\n",
       "       [  9.044707,  -2.139853,   1.603648],\n",
       "       [  9.25117 ,  -2.180148,   1.689822],\n",
       "       [  9.669561,  -2.227481,   1.701407],\n",
       "       [  9.98094 ,  -2.277125,   1.708754],\n",
       "       [  9.478185,  -2.179589,   1.733481],\n",
       "       [  9.258231,  -2.053117,   1.903864],\n",
       "       [  9.143864,  -1.991919,   1.904641],\n",
       "       [  9.049288,  -1.95639 ,   1.902007],\n",
       "       [  9.1409  ,  -1.838532,   1.916365],\n",
       "       [  9.412262,  -1.864547,   1.925527],\n",
       "       [  9.580994,  -1.819325,   1.93633 ],\n",
       "       [  8.913593,  -1.682631,   1.617524],\n",
       "       [  8.702234,  -1.476564,   1.627604],\n",
       "       [  8.66598 ,  -1.48394 ,   1.628697],\n",
       "       [  8.482629,  -1.364885,   1.632141],\n",
       "       [  8.905042,  -1.145897,   1.579379],\n",
       "       [  9.028907,  -1.098349,   1.573782],\n",
       "       [  9.291884,  -1.373666,   1.419959],\n",
       "       [  9.366237,  -1.319252,   1.428966],\n",
       "       [  9.376001,  -1.252556,   1.436856],\n",
       "       [  9.37147 ,  -1.137442,   1.451781],\n",
       "       [  9.242553,  -1.219325,   1.43503 ],\n",
       "       [  9.004721,  -1.161527,   1.429117],\n",
       "       [  8.849011,  -1.050882,   1.636846],\n",
       "       [  8.901773,  -1.031236,   1.636929],\n",
       "       [  8.655819,  -0.975354,   1.733678],\n",
       "       [  8.970749,  -0.99909 ,   1.778662],\n",
       "       [  8.870501,  -1.063022,   2.099646],\n",
       "       [  8.972806,  -0.58015 ,   2.142894],\n",
       "       [  8.843615,  -0.634164,   2.571707],\n",
       "       [  8.791193,  -0.426517,   2.768517],\n",
       "       [  8.8891  ,  -0.394187,   2.877048],\n",
       "       [  8.442633,  -0.295717,   3.136653],\n",
       "       [  8.338562,  -0.553957,   3.30902 ],\n",
       "       [  8.551186,  -0.718943,   3.332192],\n",
       "       [  8.385057,  -1.061009,   3.652217],\n",
       "       [  8.384832,  -1.042008,   3.803103],\n",
       "       [  8.897046,  -1.228028,   3.919183],\n",
       "       [  8.500447,  -1.10531 ,   3.913746],\n",
       "       [  8.741105,  -1.086811,   3.862233],\n",
       "       [  8.963885,  -0.981469,   3.885363],\n",
       "       [  8.513452,  -1.463034,   3.821891],\n",
       "       [  8.426577,  -1.647395,   3.695905],\n",
       "       [  8.369867,  -2.815238,   3.535462],\n",
       "       [  7.950809,  -3.795168,   2.982729],\n",
       "       [  7.493785,  -5.587249,   2.475666],\n",
       "       [  7.612635,  -6.153404,   2.137408],\n",
       "       [  6.725052,  -6.131919,   1.816008],\n",
       "       [  5.326153,  -6.598308,   2.092831],\n",
       "       [  4.808285,  -7.343082,   1.887028],\n",
       "       [  5.138234,  -8.043427,   1.884701],\n",
       "       [  4.141662,  -8.755062,   1.525118],\n",
       "       [  3.198199,  -9.530438,   1.132543],\n",
       "       [  2.913865,  -9.515252,   1.08554 ],\n",
       "       [  2.407753, -10.990712,   0.670349],\n",
       "       [  1.974225, -11.449661,   0.619145],\n",
       "       [  1.281365, -11.142066,   0.063473],\n",
       "       [  0.48251 , -11.014976,  -0.288089],\n",
       "       [  0.169039, -10.898033,  -0.710242],\n",
       "       [ -0.365248, -11.48847 ,  -1.065147],\n",
       "       [ -0.580372, -11.434447,  -1.236492],\n",
       "       [ -0.382838, -11.619032,  -1.639253]])"
      ]
     },
     "metadata": {},
     "output_type": "display_data"
    },
    {
     "data": {
      "text/plain": [
       "array([[10.848979,  2.714715,  1.916155],\n",
       "       [10.882797,  3.197577,  2.246002],\n",
       "       [11.246091,  3.120279,  3.380738],\n",
       "       [11.443566,  3.124283,  4.034348],\n",
       "       [11.126209,  3.088156,  4.070106],\n",
       "       [11.14547 ,  3.047091,  4.275707],\n",
       "       [11.355999,  2.999538,  4.315572],\n",
       "       [11.479494,  3.09452 ,  4.078757],\n",
       "       [11.16972 ,  3.199738,  3.98247 ],\n",
       "       [11.173013,  3.108148,  3.971039],\n",
       "       [11.174273,  3.037358,  3.962266],\n",
       "       [11.177346,  2.988954,  3.956401],\n",
       "       [11.174566,  2.934713,  3.949417],\n",
       "       [11.039752,  2.78531 ,  3.992444],\n",
       "       [10.900674,  2.600876,  4.197489],\n",
       "       [10.850916,  2.496059,  4.182748],\n",
       "       [10.832546,  2.394478,  4.169343],\n",
       "       [10.818929,  2.248882,  4.250996],\n",
       "       [10.813422,  2.156419,  4.30663 ],\n",
       "       [10.813007,  2.112552,  4.301631],\n",
       "       [10.805852,  2.001256,  4.287914],\n",
       "       [10.769946,  1.616714,  4.236749],\n",
       "       [10.727037,  1.44927 ,  4.214267],\n",
       "       [10.729278,  1.401846,  4.2089  ],\n",
       "       [10.729395,  1.319835,  4.199174],\n",
       "       [10.733219,  1.31871 ,  4.19991 ],\n",
       "       [10.727981,  1.241679,  4.190151],\n",
       "       [10.725236,  1.193119,  4.184015],\n",
       "       [10.721621,  1.164302,  4.180331],\n",
       "       [10.717065,  1.141362,  4.177291],\n",
       "       [10.709996,  1.107851,  4.172822],\n",
       "       [10.688106,  1.029228,  4.161994],\n",
       "       [10.6845  ,  0.990384,  4.157045],\n",
       "       [10.652082,  0.858357,  4.139046],\n",
       "       [10.636454,  0.748045,  4.124681],\n",
       "       [10.619402,  0.642333,  4.110674],\n",
       "       [10.494633,  0.606135,  4.135413],\n",
       "       [10.363787,  0.491968,  4.519427],\n",
       "       [10.359985,  0.467246,  4.516259],\n",
       "       [10.353591,  0.415752,  4.509594],\n",
       "       [10.352309,  0.407624,  4.508667],\n",
       "       [10.268994,  0.431514,  4.677605],\n",
       "       [10.265616,  0.416749,  4.675638],\n",
       "       [10.26483 ,  0.402663,  4.673831],\n",
       "       [10.107328,  0.387748,  4.700073],\n",
       "       [10.103022,  0.362776,  4.696872],\n",
       "       [10.092263,  0.308638,  4.689622],\n",
       "       [10.08558 ,  0.249222,  4.681918],\n",
       "       [ 9.967149,  0.247525,  4.677636],\n",
       "       [ 9.966064,  0.233342,  4.67586 ],\n",
       "       [ 9.96267 ,  0.220622,  4.67408 ],\n",
       "       [ 9.958969,  0.215828,  4.67336 ],\n",
       "       [ 9.954355,  0.198873,  4.67099 ],\n",
       "       [ 9.947857,  0.185562,  4.669058],\n",
       "       [ 9.93465 ,  0.168748,  4.666383],\n",
       "       [ 9.931075,  0.157971,  4.664912],\n",
       "       [ 9.61721 ,  0.156913,  4.721065],\n",
       "       [ 9.612452,  0.153813,  4.720529],\n",
       "       [ 9.609915,  0.1554  ,  4.720509],\n",
       "       [ 9.601235,  0.167366,  4.721655],\n",
       "       [ 9.587827,  0.170637,  4.7213  ],\n",
       "       [ 9.579587,  0.202792,  4.724996],\n",
       "       [ 9.57307 ,  0.245357,  4.729996],\n",
       "       [ 9.555888,  0.272114,  4.799858],\n",
       "       [ 9.308756,  0.291951,  5.265205],\n",
       "       [ 9.015928,  0.032517,  5.323936],\n",
       "       [ 8.62591 ,  0.145694,  5.526256],\n",
       "       [ 8.615412,  0.237093,  5.536908],\n",
       "       [ 8.610198,  0.335761,  5.54859 ],\n",
       "       [ 8.672597,  0.397835,  5.828469],\n",
       "       [ 8.730584,  0.404355,  5.966333],\n",
       "       [ 8.724189,  0.438746,  5.970238],\n",
       "       [ 8.720915,  0.479901,  5.975033],\n",
       "       [ 8.712063,  0.57092 ,  6.103316],\n",
       "       [ 8.701679,  0.591078,  6.164176],\n",
       "       [ 8.558329,  0.691223,  5.99346 ],\n",
       "       [ 8.55462 ,  0.802157,  6.006586],\n",
       "       [ 8.546337,  0.822248,  6.008702],\n",
       "       [ 8.521379,  0.79239 ,  6.173007],\n",
       "       [ 8.2384  ,  0.778457,  6.397817],\n",
       "       [ 8.228721,  0.770613,  6.464136],\n",
       "       [ 8.208307,  0.79577 ,  6.466368],\n",
       "       [ 8.203419,  0.824536,  6.469446],\n",
       "       [ 8.20031 ,  0.959312,  6.485361],\n",
       "       [ 8.181953,  1.106411,  6.502056],\n",
       "       [ 7.852053,  1.256155,  6.642987],\n",
       "       [ 7.84617 ,  1.294598,  6.64723 ],\n",
       "       [ 7.801666,  1.32494 ,  6.649121],\n",
       "       [ 7.635084,  1.316428,  6.844748],\n",
       "       [ 7.613616,  1.343308,  6.846925],\n",
       "       [ 7.589206,  1.464949,  6.860264],\n",
       "       [ 7.40722 ,  1.529849,  6.928914],\n",
       "       [ 7.241247,  1.525286,  7.057496],\n",
       "       [ 7.113417,  1.527753,  7.222293],\n",
       "       [ 7.107   ,  1.558017,  7.225585],\n",
       "       [ 7.080813,  1.591403,  7.228575],\n",
       "       [ 6.702236,  1.622251,  7.42135 ],\n",
       "       [ 6.676741,  1.654823,  7.458115],\n",
       "       [ 6.51748 ,  1.776891,  7.534172],\n",
       "       [ 6.513657,  1.825538,  7.539734],\n",
       "       [ 6.388327,  1.862318,  7.641061],\n",
       "       [ 6.380852,  1.985153,  7.655037],\n",
       "       [ 6.365256,  2.135832,  7.672132],\n",
       "       [ 6.331249,  2.110799,  7.972793],\n",
       "       [ 6.013138,  2.173605,  8.00195 ],\n",
       "       [ 6.003259,  2.214637,  8.006352],\n",
       "       [ 5.980036,  2.337295,  8.01967 ],\n",
       "       [ 5.956931,  2.469984,  8.034178],\n",
       "       [ 5.931893,  2.572552,  8.045149],\n",
       "       [ 5.347636,  2.57713 ,  8.497838],\n",
       "       [ 5.332919,  2.62263 ,  8.502396],\n",
       "       [ 5.301946,  2.667848,  8.506534],\n",
       "       [ 5.279017,  2.776333,  8.517943],\n",
       "       [ 5.264572,  2.909035,  8.532788],\n",
       "       [ 5.273297,  2.94595 ,  8.537212],\n",
       "       [ 5.294429,  3.000054,  8.544006],\n",
       "       [ 5.300076,  3.030394,  8.547432],\n",
       "       [ 5.039818,  3.059496,  8.573837],\n",
       "       [ 4.789866,  3.017155,  8.760821],\n",
       "       [ 4.810374,  2.933511,  8.749285],\n",
       "       [ 4.775423,  3.184026,  8.776063],\n",
       "       [ 4.772756,  3.189249,  8.776746],\n",
       "       [ 4.74593 ,  3.504574,  8.81225 ],\n",
       "       [ 4.722293,  3.523711,  8.814608],\n",
       "       [ 4.217278,  4.032876,  9.024824],\n",
       "       [ 4.179818,  4.075904,  9.030244],\n",
       "       [ 4.15557 ,  4.321524,  9.059267],\n",
       "       [ 4.110589,  4.308743,  9.056898],\n",
       "       [ 3.535415,  4.16951 ,  9.05447 ],\n",
       "       [ 3.146264,  4.183613,  9.209991],\n",
       "       [ 3.038612,  4.162298,  9.205432],\n",
       "       [ 2.632575,  4.153254,  9.391557],\n",
       "       [ 2.579398,  4.383336,  9.41646 ],\n",
       "       [ 2.417891,  4.49771 ,  9.42365 ],\n",
       "       [ 2.360755,  4.5443  ,  9.42792 ],\n",
       "       [ 2.294891,  4.530948,  9.42547 ],\n",
       "       [ 1.868089,  4.525246,  9.406553],\n",
       "       [ 1.79955 ,  4.536527,  9.404886],\n",
       "       [ 1.822017,  4.533218,  9.40471 ],\n",
       "       [ 1.789213,  4.520442,  9.402772],\n",
       "       [ 1.015103,  4.64281 ,  9.41963 ],\n",
       "       [ 0.898262,  4.724215,  9.710132],\n",
       "       [ 0.756608,  4.785859,  9.713513],\n",
       "       [ 0.551323,  4.829529,  9.709332],\n",
       "       [ 0.432342,  4.795388,  9.701031],\n",
       "       [ 0.359756,  4.735687,  9.692692],\n",
       "       [ 0.307054,  4.782235,  9.697527],\n",
       "       [-0.411154,  4.89732 ,  9.37782 ],\n",
       "       [-0.663418,  5.063106,  9.38554 ],\n",
       "       [-1.100781,  5.081149,  9.372393],\n",
       "       [-1.342458,  5.164192,  9.371925],\n",
       "       [-1.592275,  5.412647,  9.165192],\n",
       "       [-1.833987,  5.370524,  9.050339],\n",
       "       [-2.002285,  5.071983,  8.87539 ],\n",
       "       [-2.274655,  5.052428,  8.862039],\n",
       "       [-2.511018,  4.957807,  8.841558],\n",
       "       [-2.860226,  4.910707,  8.822876],\n",
       "       [-3.050188,  4.715311,  8.793867],\n",
       "       [-3.437796,  4.658163,  8.769774],\n",
       "       [-2.909368,  4.761083,  8.419889],\n",
       "       [-2.903176,  4.78684 ,  8.423396],\n",
       "       [-3.122731,  4.778566,  8.518943],\n",
       "       [-3.429947,  4.752258,  8.220962],\n",
       "       [-3.53079 ,  4.720338,  8.001769],\n",
       "       [-3.618249,  5.26381 ,  7.812538],\n",
       "       [-3.680373,  5.77915 ,  7.873025],\n",
       "       [-3.585273,  6.056057,  7.728501],\n",
       "       [-3.692591,  6.138867,  7.714513],\n",
       "       [-3.272349,  7.060827,  7.637417],\n",
       "       [-3.058291,  8.091861,  7.381349],\n",
       "       [-1.952597,  9.101564,  7.098886],\n",
       "       [-2.372727,  9.164847,  7.369033],\n",
       "       [-1.203727, 10.361538,  7.449103],\n",
       "       [ 0.262621, 10.562302,  7.152166],\n",
       "       [ 1.869957, 10.270556,  6.481668],\n",
       "       [ 3.206405, 10.599257,  6.218678],\n",
       "       [ 4.349662, 10.456027,  6.155648],\n",
       "       [ 5.17746 , 10.131297,  6.043901],\n",
       "       [ 5.750427, 10.594753,  6.126719],\n",
       "       [ 6.478247,  9.54608 ,  6.08725 ],\n",
       "       [ 7.797671,  8.168106,  5.502122],\n",
       "       [ 8.369919,  6.151648,  4.600319],\n",
       "       [ 9.372664,  5.970057,  3.82967 ],\n",
       "       [ 9.864749,  6.096882,  2.797047],\n",
       "       [ 9.962963,  6.028872,  2.222408],\n",
       "       [10.394243,  5.875049,  1.957652],\n",
       "       [10.782073,  5.355586,  1.60571 ],\n",
       "       [10.520188,  4.69434 ,  0.942961],\n",
       "       [10.275832,  3.933305,  0.801679],\n",
       "       [11.024534,  4.21204 ,  1.101355],\n",
       "       [11.554548,  3.487526,  1.307215],\n",
       "       [12.045936,  3.850991,  1.880089],\n",
       "       [11.497101,  4.319959,  1.889852],\n",
       "       [11.259504,  4.652585,  1.959525],\n",
       "       [11.336268,  4.760921,  2.057491],\n",
       "       [11.580944,  4.090329,  2.61093 ],\n",
       "       [11.630165,  4.444387,  2.937827],\n",
       "       [11.983903,  3.966611,  3.406909]])"
      ]
     },
     "metadata": {},
     "output_type": "display_data"
    }
   ],
   "source": [
    "Va = A-B;   #  shoulder pt minus elbow pt; vector from shoulder to elbow\n",
    "display(Va)\n",
    "Vb = C-B;   # wrist pt minus elbow pt; vector from wrist to elbow\n",
    "display(Vb)"
   ]
  },
  {
   "cell_type": "markdown",
   "metadata": {},
   "source": [
    "Calculating the dot product\n",
    "\n",
    "Dot product squares v's and take the same across the matrix\n",
    "\n",
    "One way to calculate the dot product of the two vectors"
   ]
  },
  {
   "cell_type": "code",
   "execution_count": 309,
   "metadata": {},
   "outputs": [
    {
     "name": "stdout",
     "output_type": "stream",
     "text": [
      "[-77.70016831 -83.89226756 -88.59851364 -91.83020276 -95.43024824\n",
      " -98.91377614 -95.3552942  -95.50074955 -95.26635235 -93.11842412\n",
      " -92.48907147 -92.09865348 -90.99813375 -90.0894879  -89.43005662\n",
      " -88.53938593 -88.16955426 -81.79491322 -77.64224937 -71.06003086\n",
      " -64.80065195 -56.80527973 -50.39706007 -49.31667879 -47.90630822\n",
      " -47.07206848 -41.66469355 -37.49502413 -36.38936603 -34.32778264\n",
      " -30.44587575 -28.16235743 -27.98498961 -26.55473164 -20.5359155\n",
      " -17.44331882 -18.07128529 -17.64029179 -14.06388438 -11.47456035\n",
      " -10.43382596  -9.87786982  -7.31338315  -6.62567111  -7.79863443\n",
      "  -3.77108304   0.64125956   4.98441038   7.8728848    9.49981044\n",
      "  11.33338502  11.75474591  13.78743048  14.36352431  18.04829594\n",
      "  23.76700222  20.06080319  20.7984491   22.75616984  23.78316097\n",
      "  24.97208202  26.15935755  29.14656604  32.32680887  30.61219939\n",
      "  29.47043973  25.4631531   24.91062242  25.93959025  31.33696793\n",
      "  34.82325996  36.05487578  38.98536566  38.9266834   38.98908785\n",
      "  37.98612316  39.01786975  39.34690305  40.30408724  40.15602238\n",
      "  43.08623472  44.21494948  44.44470814  44.05828616  42.68174736\n",
      "  37.71923984  40.20570752  40.73602666  43.03871408  44.73822533\n",
      "  47.43055188  45.31191129  45.1372658   45.14007683  45.40867643\n",
      "  45.4957238   41.58699448  41.5246505   40.63434891  41.0555417\n",
      "  41.69900708  42.01489482  41.94145452  44.25327982  40.21695687\n",
      "  41.81491488  41.69843087  41.60645996  41.48139452  37.80190944\n",
      "  39.3068242   40.59382103  40.46885008  41.07372693  41.14802072\n",
      "  41.33267507  42.40664817  39.03436109  37.70447129  38.75840404\n",
      "  40.16316753  40.38220931  40.68906877  40.70663055  37.10961649\n",
      "  36.97842843  38.65733841  38.66069568  32.06650234  29.90598146\n",
      "  29.15396738  26.71101825  28.38547337  27.66603202  27.74586881\n",
      "  26.60244288  22.29775633  22.65022598  23.52168699  23.63144038\n",
      "  15.83066605  17.10372172  15.88603229  14.0078558   13.72623697\n",
      "  13.21974689  13.0190553    3.26360705   2.02672372  -1.81467802\n",
      "  -3.13979832  -5.90629993  -8.21434711 -12.96952065 -15.30683115\n",
      " -17.04919252 -19.5812828  -21.32155787 -23.83394282 -16.96630423\n",
      " -16.99127427 -16.92148372 -20.89481435 -19.53681709 -18.7782049\n",
      " -15.96561725 -12.70535176 -13.04864803  -5.75932129  -5.55926069\n",
      "   0.41432528  -2.70612869   7.43985181  17.39639592  29.91092433\n",
      "  40.52611707  52.64453057  52.35475605  53.64644417  48.86881968\n",
      "  47.4097971   39.74043765  42.80006468  34.03482314  17.93503528\n",
      "  10.53166028  15.34983229   3.90995192  -3.71402787  -6.75905336\n",
      "  -9.63360598 -19.14710576 -33.2813309  -46.37980644 -51.42971928\n",
      " -54.0025629  -61.2015293  -56.2608594 ]\n"
     ]
    }
   ],
   "source": [
    "dot_V = np.sum(Va * Vb, axis=1)\n",
    "\n",
    "print(dot_V)\n"
   ]
  },
  {
   "cell_type": "markdown",
   "metadata": {},
   "source": [
    "Characterizing the vector magnitude for Va and Vb"
   ]
  },
  {
   "cell_type": "code",
   "execution_count": 310,
   "metadata": {},
   "outputs": [],
   "source": [
    "sv_Va = Va*Va\n",
    "dp_Va = np.sum((sv_Va), axis=1)\n",
    "mag_Va = np.sqrt(dp_Va)\n",
    "\n",
    "sv_Vb = Vb*Vb\n",
    "dp_Vb = np.sum((sv_Vb), axis=1)\n",
    "mag_Vb = np.sqrt(dp_Vb)"
   ]
  },
  {
   "cell_type": "code",
   "execution_count": 311,
   "metadata": {},
   "outputs": [
    {
     "data": {
      "text/plain": [
       "array([131.016148  , 133.78107631, 134.08326846, 134.32755129,\n",
       "       136.72206693, 137.6226166 , 134.83001433, 134.55799845,\n",
       "       135.38304404, 134.00200569, 133.43105205, 133.02212198,\n",
       "       132.79178225, 132.80014916, 132.32265495, 131.72053096,\n",
       "       131.23333402, 128.07389339, 126.12105669, 123.32272913,\n",
       "       120.39744213, 116.47515476, 113.34179351, 112.7331763 ,\n",
       "       111.91766487, 111.63861302, 109.00743441, 107.02015557,\n",
       "       106.46808655, 105.51176892, 103.67955282, 102.5990919 ,\n",
       "       102.54687483, 101.89157038,  99.1753488 ,  97.80486974,\n",
       "        98.18161492,  98.02752893,  96.37377127,  95.1821259 ,\n",
       "        94.72442773,  94.51527967,  93.37432065,  93.09607095,\n",
       "        93.70797408,  91.7833761 ,  89.69881197,  87.67677791,\n",
       "        86.30680694,  85.51282315,  84.6037834 ,  84.71328059,\n",
       "        83.81259739,  83.50143011,  81.79583761,  79.22989315,\n",
       "        80.48315455,  80.0284354 ,  79.07375948,  78.54210006,\n",
       "        77.86736537,  77.28418244,  75.91853236,  74.50848116,\n",
       "        74.94288761,  75.28688532,  76.74587633,  76.91974693,\n",
       "        76.39840094,  73.95167351,  72.54709075,  71.96944296,\n",
       "        70.71737579,  70.61536551,  70.53104482,  70.5197127 ,\n",
       "        69.8585063 ,  69.46858512,  68.96976008,  68.80506118,\n",
       "        67.43433271,  66.77701966,  66.54705931,  66.55966303,\n",
       "        67.34037447,  69.14015009,  68.07050207,  67.75336732,\n",
       "        66.64980068,  65.84410842,  64.76896498,  65.1958862 ,\n",
       "        65.01192819,  64.88462641,  64.61850439,  64.32226098,\n",
       "        65.41674233,  65.37660304,  65.70927198,  65.60885382,\n",
       "        65.28995209,  64.8596888 ,  64.75478152,  63.78593698,\n",
       "        65.11104787,  64.20422276,  64.17534214,  64.13399182,\n",
       "        64.13759782,  65.34871836,  65.13379346,  65.01513538,\n",
       "        65.04339222,  64.98715747,  64.98359204,  64.9255064 ,\n",
       "        65.08148188,  66.24264276,  66.55260587,  66.06738597,\n",
       "        65.83240544,  65.76809623,  65.60121543,  65.67327578,\n",
       "        66.87393874,  67.0764107 ,  67.3983344 ,  67.81190727,\n",
       "        70.6442049 ,  71.7660244 ,  72.03648708,  73.06461908,\n",
       "        73.15238647,  73.83001438,  74.21094571,  74.81356641,\n",
       "        77.11820346,  77.20658368,  77.26434548,  77.57885948,\n",
       "        81.26381368,  80.60771699,  81.18514303,  82.15512345,\n",
       "        82.34852171,  82.81066032,  83.04710755,  88.08286524,\n",
       "        88.78903688,  91.08498066,  91.90777958,  93.45116224,\n",
       "        94.7785675 ,  97.53120359,  98.80650114,  99.82461135,\n",
       "       101.26511641, 102.51183351, 104.28646369, 100.68392625,\n",
       "       100.62707823, 100.70744317, 103.00047922, 102.36828054,\n",
       "       101.61383698,  99.53809007,  97.5700355 ,  97.61645878,\n",
       "        93.36027314,  93.11784671,  89.77971712,  91.40382575,\n",
       "        86.40854104,  82.00177993,  75.02978234,  70.62366448,\n",
       "        65.42008058,  64.51884781,  64.88690144,  66.80519493,\n",
       "        66.06090296,  68.7916161 ,  68.68869459,  72.09567557,\n",
       "        80.02555238,  84.43612863,  82.5358858 ,  88.02282129,\n",
       "        91.90707575,  93.26558057,  94.03718334,  97.39509378,\n",
       "       103.81550469, 109.92488171, 112.19163008, 111.87415766,\n",
       "       114.54773908, 111.50048542])"
      ]
     },
     "metadata": {},
     "output_type": "display_data"
    }
   ],
   "source": [
    "#Solving for theta:\n",
    "theta_e = np.degrees(np.arccos(dot_V /(mag_Va *mag_Vb)))\n",
    "display(theta_e)"
   ]
  },
  {
   "cell_type": "markdown",
   "metadata": {},
   "source": [
    "Hindlimb Knee Joint\n",
    "\n",
    "Points to generate vectors\n",
    "D = hip point (X, Y, Z) = [pt7_X, pt7_Y, pt7_Z]\n",
    "E = knee point (X, Y, Z) = [pt5_X, pt5_Y, pt5_Z]\n",
    "F = ankle point (X, Y, Z) = [pt6_X, pt6_Y, pt6_Z]"
   ]
  },
  {
   "cell_type": "code",
   "execution_count": 312,
   "metadata": {},
   "outputs": [
    {
     "data": {
      "text/plain": [
       "array([[-42.480322,  52.388633,  66.62912 ],\n",
       "       [-42.252849,  52.363345,  66.574604],\n",
       "       [-42.234747,  52.369198,  66.549254],\n",
       "       [-41.869682,  52.852388,  66.669014],\n",
       "       [-41.614914,  52.933284,  66.725585],\n",
       "       [-41.43077 ,  53.149338,  66.880551],\n",
       "       [-41.32581 ,  53.144328,  66.885608],\n",
       "       [-41.242316,  53.238299,  66.911648],\n",
       "       [-41.220803,  53.333547,  66.949667],\n",
       "       [-41.19153 ,  53.330639,  66.954562],\n",
       "       [-40.939097,  53.323687,  66.954968],\n",
       "       [-40.911943,  53.372211,  66.965496],\n",
       "       [-40.828158,  53.365881,  66.975273],\n",
       "       [-40.818401,  53.364934,  66.976889],\n",
       "       [-40.691612,  53.354808,  67.003843],\n",
       "       [-40.515757,  53.534475,  67.09771 ],\n",
       "       [-40.515757,  53.534475,  67.09771 ],\n",
       "       [-40.336457,  53.57232 ,  67.135208],\n",
       "       [-40.103849,  53.699153,  67.234493],\n",
       "       [-40.08433 ,  53.6974  ,  67.237685],\n",
       "       [-40.065133,  53.850769,  67.25475 ],\n",
       "       [-39.964046,  53.948734,  67.271049],\n",
       "       [-39.882455,  54.149357,  67.300207],\n",
       "       [-39.660959,  54.274319,  67.405911],\n",
       "       [-39.610351,  54.272856,  67.406047],\n",
       "       [-39.526587,  54.42228 ,  67.429545],\n",
       "       [-39.321032,  54.452805,  67.494012],\n",
       "       [-39.077269,  54.803612,  67.539263],\n",
       "       [-38.799995,  54.995525,  67.579781],\n",
       "       [-38.60086 ,  55.092196,  67.591846],\n",
       "       [-38.47356 ,  55.291326,  67.624213],\n",
       "       [-38.190466,  55.281083,  67.629741],\n",
       "       [-38.128758,  55.690624,  67.675641],\n",
       "       [-37.997819,  55.685213,  67.680645],\n",
       "       [-37.74032 ,  55.790641,  67.648268],\n",
       "       [-37.603446,  55.785648,  67.650295],\n",
       "       [-37.406838,  56.033942,  67.691538],\n",
       "       [-37.406838,  56.033942,  67.691538],\n",
       "       [-37.196499,  56.231559,  67.721167],\n",
       "       [-36.966907,  56.32574 ,  67.737993],\n",
       "       [-36.534001,  56.309486,  67.739884],\n",
       "       [-36.283425,  56.556802,  67.774011],\n",
       "       [-36.024057,  56.532916,  67.833568],\n",
       "       [-35.765055,  56.515416,  67.866183],\n",
       "       [-35.55693 ,  56.69346 ,  67.991473],\n",
       "       [-35.527622,  56.692248,  67.995955],\n",
       "       [-35.343869,  56.774791,  68.070948],\n",
       "       [-34.815222,  56.745821,  68.332161],\n",
       "       [-34.789733,  56.744725,  68.332304],\n",
       "       [-34.61292 ,  56.873115,  68.442844],\n",
       "       [-34.331637,  56.99006 ,  68.573904],\n",
       "       [-34.190773,  57.139808,  68.602005],\n",
       "       [-34.114731,  57.447184,  68.645711],\n",
       "       [-33.830079,  57.435386,  68.651638],\n",
       "       [-33.810514,  57.43487 ,  68.654521],\n",
       "       [-33.323995,  57.634509,  68.413276],\n",
       "       [-33.288677,  57.788814,  68.436326],\n",
       "       [-33.288677,  57.788814,  68.436326],\n",
       "       [-33.288677,  57.788814,  68.436326],\n",
       "       [-33.233787,  57.942657,  68.462188],\n",
       "       [-33.204445,  57.941959,  68.46643 ],\n",
       "       [-32.638454,  57.984134,  68.20924 ],\n",
       "       [-32.121607,  58.071952,  68.205316],\n",
       "       [-31.891541,  58.073843,  68.152762],\n",
       "       [-31.507371,  57.644772,  68.119039],\n",
       "       [-31.36843 ,  57.277949,  68.083932],\n",
       "       [-31.098628,  56.812058,  68.021815],\n",
       "       [-30.854564,  56.562204,  67.91537 ],\n",
       "       [-30.617367,  56.574291,  67.848999],\n",
       "       [-30.588092,  56.574367,  67.853074],\n",
       "       [-30.093846,  56.676927,  67.798898],\n",
       "       [-29.754351,  56.669418,  67.782317],\n",
       "       [-29.470379,  56.707753,  67.79425 ],\n",
       "       [-29.441107,  56.708192,  67.798257],\n",
       "       [-29.31495 ,  56.804457,  67.810754],\n",
       "       [-28.95989 ,  56.813714,  67.934136],\n",
       "       [-28.74388 ,  56.92647 ,  68.09351 ],\n",
       "       [-28.583864,  56.962776,  68.137641],\n",
       "       [-28.504938,  57.178278,  68.166391],\n",
       "       [-28.417559,  57.141261,  68.164828],\n",
       "       [-28.391979,  57.139826,  68.165072],\n",
       "       [-28.381689,  57.140086,  68.16645 ],\n",
       "       [-28.319198,  57.087184,  68.168645],\n",
       "       [-28.319198,  57.087184,  68.168645],\n",
       "       [-28.225091,  56.980418,  68.16878 ],\n",
       "       [-28.16037 ,  56.764088,  68.152699],\n",
       "       [-28.16037 ,  56.764088,  68.152699],\n",
       "       [-27.751261,  56.766045,  68.081798],\n",
       "       [-27.265575,  56.745693,  68.059707],\n",
       "       [-26.974028,  56.749376,  67.982754],\n",
       "       [-26.435447,  56.652877,  67.8201  ],\n",
       "       [-26.106537,  56.627444,  67.842324],\n",
       "       [-25.971458,  56.471298,  67.841689],\n",
       "       [-25.950427,  56.417983,  67.83834 ],\n",
       "       [-25.699526,  55.940273,  67.815447],\n",
       "       [-25.608547,  55.964449,  67.696282],\n",
       "       [-25.273242,  55.788599,  67.689124],\n",
       "       [-25.159777,  55.781924,  67.690454],\n",
       "       [-24.92917 ,  55.758361,  67.773206],\n",
       "       [-24.83026 ,  55.755851,  67.777753],\n",
       "       [-24.66409 ,  55.846099,  67.84313 ],\n",
       "       [-24.527923,  55.837908,  67.84478 ],\n",
       "       [-24.285432,  55.555586,  67.850726],\n",
       "       [-24.171958,  55.410783,  67.960175],\n",
       "       [-23.685627,  55.255217,  68.027306],\n",
       "       [-23.684588,  54.984062,  67.997272],\n",
       "       [-23.383389,  54.694298,  68.000512],\n",
       "       [-23.230829,  54.464046,  68.032844],\n",
       "       [-23.02734 ,  54.450559,  68.035477],\n",
       "       [-22.709138,  54.424537,  68.12114 ],\n",
       "       [-22.405368,  54.279194,  68.185915],\n",
       "       [-22.1177  ,  54.376909,  68.208274],\n",
       "       [-22.019041,  54.537343,  68.230913],\n",
       "       [-21.587272,  54.678184,  68.288365],\n",
       "       [-21.428918,  54.66688 ,  68.290564],\n",
       "       [-21.19387 ,  54.980309,  68.333257],\n",
       "       [-20.960878,  55.134666,  68.359887],\n",
       "       [-20.919182,  55.355635,  68.388806],\n",
       "       [-20.805864,  55.347345,  68.390421],\n",
       "       [-20.360551,  55.334525,  68.381037],\n",
       "       [-19.945625,  55.622897,  68.280359],\n",
       "       [-19.60387 ,  55.625872,  68.165273],\n",
       "       [-19.336567,  55.688665,  68.109177],\n",
       "       [-19.01855 ,  55.691532,  68.100829],\n",
       "       [-18.391454,  55.876281,  67.947532],\n",
       "       [-18.106547,  55.874373,  67.961511],\n",
       "       [-17.948131,  55.830307,  67.968263],\n",
       "       [-17.747811,  55.82291 ,  67.975148],\n",
       "       [-17.567194,  55.722874,  67.976009],\n",
       "       [-17.195606,  55.853134,  67.935712],\n",
       "       [-17.014526,  55.736833,  67.902748],\n",
       "       [-16.459821,  55.698627,  67.797503],\n",
       "       [-16.108101,  55.606824,  67.808637],\n",
       "       [-15.672932,  55.534692,  67.815887],\n",
       "       [-15.484986,  55.531065,  67.823101],\n",
       "       [-15.128692,  55.36137 ,  67.871152],\n",
       "       [-14.936645,  55.349248,  67.875434],\n",
       "       [-14.670263,  55.342096,  67.884741],\n",
       "       [-14.496806,  55.227604,  67.90447 ],\n",
       "       [-14.096263,  55.214841,  67.917679],\n",
       "       [-13.908908,  55.171846,  68.067815],\n",
       "       [-13.606387,  55.143485,  68.123854],\n",
       "       [-13.33943 ,  55.1141  ,  68.203969],\n",
       "       [-13.159893,  55.104545,  68.208844],\n",
       "       [-12.985408,  54.937349,  68.197017],\n",
       "       [-12.500794,  54.862684,  68.154562],\n",
       "       [-12.162318,  54.731517,  68.125322],\n",
       "       [-12.047641,  54.690739,  68.127664],\n",
       "       [-11.658156,  54.562124,  68.126899],\n",
       "       [-11.465055,  54.432227,  68.124911],\n",
       "       [-11.078322,  54.19619 ,  68.112112],\n",
       "       [-10.880312,  54.195229,  68.119854],\n",
       "       [-10.734063,  54.185566,  68.123539],\n",
       "       [-10.409371,  54.183125,  68.085337],\n",
       "       [-10.299987,  54.184526,  68.089991],\n",
       "       [-10.051261,  54.181048,  68.149596],\n",
       "       [ -9.792331,  54.1558  ,  68.179805],\n",
       "       [ -9.603881,  54.13594 ,  68.233613],\n",
       "       [ -9.292342,  54.055269,  68.456469],\n",
       "       [ -9.181067,  54.051054,  68.460031],\n",
       "       [ -9.045289,  54.038819,  68.463033],\n",
       "       [ -8.84353 ,  54.002606,  68.539458],\n",
       "       [ -8.666347,  54.227002,  68.596987],\n",
       "       [ -8.645574,  54.230992,  68.598522],\n",
       "       [ -8.360069,  54.193256,  68.728058],\n",
       "       [ -7.96747 ,  54.16019 ,  68.762517],\n",
       "       [ -7.799708,  54.590999,  68.816869],\n",
       "       [ -7.451377,  54.567412,  68.82641 ],\n",
       "       [ -7.280907,  54.748392,  68.976196],\n",
       "       [ -7.1817  ,  54.748397,  68.980018],\n",
       "       [ -6.833988,  54.718471,  69.013632],\n",
       "       [ -6.534503,  54.669389,  69.142158],\n",
       "       [ -6.222232,  54.621231,  69.246469],\n",
       "       [ -5.971196,  54.851781,  69.404952],\n",
       "       [ -5.805965,  54.912396,  69.349272],\n",
       "       [ -5.805965,  54.912396,  69.349272],\n",
       "       [ -5.697354,  55.16361 ,  69.480504],\n",
       "       [ -5.547045,  55.502375,  69.755148],\n",
       "       [ -5.547045,  55.502375,  69.755148],\n",
       "       [ -5.509967,  55.6723  ,  69.775992],\n",
       "       [ -5.367311,  56.189179,  69.840552],\n",
       "       [ -5.199614,  56.339466,  69.86363 ],\n",
       "       [ -5.010407,  56.818042,  70.057203],\n",
       "       [ -4.840234,  56.98869 ,  70.082933],\n",
       "       [ -4.744664,  57.333723,  70.125777],\n",
       "       [ -4.30198 ,  57.622776,  70.40597 ],\n",
       "       [ -4.152262,  57.789164,  70.430444],\n",
       "       [ -4.09147 ,  57.783148,  70.43197 ],\n",
       "       [ -3.939501,  57.767978,  70.435789],\n",
       "       [ -3.866165,  58.054981,  70.471224],\n",
       "       [ -3.624971,  58.015553,  70.541719],\n",
       "       [ -3.508392,  58.390249,  70.588925],\n",
       "       [ -3.436858,  58.623272,  70.618087],\n",
       "       [ -3.35493 ,  58.622113,  70.620914],\n",
       "       [ -3.263563,  58.612881,  70.623247],\n",
       "       [ -3.232035,  58.620387,  70.625149],\n",
       "       [ -3.122605,  58.787843,  70.648205],\n",
       "       [ -2.97254 ,  59.451483,  70.729473]])"
      ]
     },
     "metadata": {},
     "output_type": "display_data"
    },
    {
     "data": {
      "text/plain": [
       "array([[-42.744714,  62.53353 ,  72.008735],\n",
       "       [-42.672075,  62.506615,  71.975362],\n",
       "       [-42.672075,  62.506615,  71.975362],\n",
       "       [-42.672075,  62.506615,  71.975362],\n",
       "       [-42.672075,  62.506615,  71.975362],\n",
       "       [-42.672075,  62.506615,  71.975362],\n",
       "       [-42.672075,  62.506615,  71.975362],\n",
       "       [-42.644838,  62.949047,  72.036871],\n",
       "       [-42.644838,  62.949047,  72.036871],\n",
       "       [-42.644838,  62.949047,  72.036871],\n",
       "       [-42.644838,  62.949047,  72.036871],\n",
       "       [-42.644838,  62.949047,  72.036871],\n",
       "       [-42.627606,  63.194721,  72.071388],\n",
       "       [-42.609749,  63.638469,  72.131331],\n",
       "       [-42.609749,  63.638469,  72.131331],\n",
       "       [-42.609749,  63.638469,  72.131331],\n",
       "       [-42.609749,  63.638469,  72.131331],\n",
       "       [-42.590301,  63.834565,  72.159872],\n",
       "       [-42.573045,  64.080476,  72.194379],\n",
       "       [-42.340125,  64.197487,  72.326929],\n",
       "       [-42.147049,  64.21657 ,  72.445911],\n",
       "       [-42.147049,  64.21657 ,  72.445911],\n",
       "       [-42.131689,  64.512722,  72.486577],\n",
       "       [-42.0859  ,  64.75626 ,  72.525835],\n",
       "       [-42.061091,  65.051605,  72.56801 ],\n",
       "       [-41.707742,  64.994404,  72.788291],\n",
       "       [-41.707742,  64.994404,  72.788291],\n",
       "       [-41.707742,  64.994404,  72.788291],\n",
       "       [-41.707742,  64.994404,  72.788291],\n",
       "       [-41.637616,  65.335546,  72.844311],\n",
       "       [-41.637616,  65.335546,  72.844311],\n",
       "       [-41.637616,  65.335546,  72.844311],\n",
       "       [-41.66287 ,  65.934822,  72.916887],\n",
       "       [-41.66287 ,  65.934822,  72.916887],\n",
       "       [-41.632531,  66.329974,  72.972868],\n",
       "       [-41.632531,  66.329974,  72.972868],\n",
       "       [-41.632531,  66.329974,  72.972868],\n",
       "       [-41.632531,  66.329974,  72.972868],\n",
       "       [-41.632531,  66.329974,  72.972868],\n",
       "       [-41.310414,  66.371671,  72.98133 ],\n",
       "       [-41.039097,  66.438611,  73.108786],\n",
       "       [-40.337243,  66.394096,  73.220981],\n",
       "       [-40.337243,  66.394096,  73.220981],\n",
       "       [-40.23543 ,  66.436156,  73.243756],\n",
       "       [-40.197694,  66.433176,  73.249772],\n",
       "       [-40.169391,  66.430911,  73.254266],\n",
       "       [-40.150522,  66.429387,  73.257253],\n",
       "       [-40.150522,  66.429387,  73.257253],\n",
       "       [-40.150522,  66.429387,  73.257253],\n",
       "       [-40.150522,  66.429387,  73.257253],\n",
       "       [-40.150522,  66.429387,  73.257253],\n",
       "       [-40.126099,  66.52713 ,  73.273896],\n",
       "       [-40.126099,  66.52713 ,  73.273896],\n",
       "       [-39.809111,  66.493836,  73.385088],\n",
       "       [-39.809111,  66.493836,  73.385088],\n",
       "       [-39.809111,  66.493836,  73.385088],\n",
       "       [-39.694036,  66.684515,  73.42877 ],\n",
       "       [-39.694036,  66.684515,  73.42877 ],\n",
       "       [-39.637405,  66.679969,  73.437564],\n",
       "       [-39.471265,  66.765824,  73.47578 ],\n",
       "       [-38.730449,  66.622422,  73.576933],\n",
       "       [-38.730449,  66.622422,  73.576933],\n",
       "       [-38.672025,  66.568243,  73.579444],\n",
       "       [-38.668429,  66.468136,  73.567204],\n",
       "       [-38.642369,  66.266568,  73.545591],\n",
       "       [-38.138806,  66.032584,  73.146119],\n",
       "       [-37.821114,  65.905121,  72.982693],\n",
       "       [-37.575136,  65.654774,  72.921139],\n",
       "       [-37.541269,  65.669906,  72.847938],\n",
       "       [-37.43687 ,  65.674421,  72.811755],\n",
       "       [-37.173438,  65.530267,  72.734107],\n",
       "       [-37.042186,  65.375043,  72.724988],\n",
       "       [-36.811805,  65.174262,  72.677752],\n",
       "       [-36.70221 ,  65.021016,  72.66031 ],\n",
       "       [-36.563971,  65.04075 ,  72.551067],\n",
       "       [-36.563971,  65.04075 ,  72.551067],\n",
       "       [-36.180426,  65.042951,  72.479803],\n",
       "       [-36.180426,  65.042951,  72.479803],\n",
       "       [-36.077037,  65.038395,  72.49531 ],\n",
       "       [-36.025163,  65.185392,  72.521618],\n",
       "       [-35.987558,  65.183584,  72.527164],\n",
       "       [-35.749514,  65.17488 ,  72.532562],\n",
       "       [-35.750994,  65.224763,  72.538543],\n",
       "       [-35.647452,  65.245606,  72.428997],\n",
       "       [-35.209137,  65.087773,  72.388931],\n",
       "       [-35.1189  ,  64.884893,  72.37739 ],\n",
       "       [-34.62255 ,  64.517643,  72.126974],\n",
       "       [-34.458158,  64.378793,  72.044544],\n",
       "       [-34.105583,  64.332534,  71.972712],\n",
       "       [-33.840356,  64.239498,  71.891847],\n",
       "       [-33.623427,  64.04075 ,  71.838137],\n",
       "       [-33.415183,  64.065434,  71.692735],\n",
       "       [-33.310662,  64.069347,  71.656745],\n",
       "       [-33.276377,  64.084507,  71.583493],\n",
       "       [-32.997595,  64.097275,  71.475202],\n",
       "       [-32.788029,  64.09605 ,  71.439939],\n",
       "       [-32.648667,  64.106177,  71.367373],\n",
       "       [-32.371858,  64.192955,  70.927376],\n",
       "       [-32.011197,  64.031481,  70.928042],\n",
       "       [-31.885032,  64.027893,  70.936569],\n",
       "       [-31.528662,  64.065422,  70.960087],\n",
       "       [-31.453807,  64.065185,  70.970524],\n",
       "       [-31.418406,  64.164354,  70.987234],\n",
       "       [-31.390331,  64.164187,  70.991099],\n",
       "       [-30.913812,  64.144469,  71.002317],\n",
       "       [-30.5596  ,  64.18084 ,  71.020716],\n",
       "       [-30.155675,  64.313009,  71.048731],\n",
       "       [-29.754092,  64.745455,  71.116172],\n",
       "       [-29.671495,  64.84581 ,  71.138996],\n",
       "       [-29.332175,  64.986036,  71.175601],\n",
       "       [-29.063701,  65.028297,  71.195261],\n",
       "       [-28.454637,  65.152997,  71.228715],\n",
       "       [-27.868286,  65.44201 ,  71.252202],\n",
       "       [-27.347089,  65.796177,  70.970308],\n",
       "       [-26.56001 ,  66.138108,  71.150257],\n",
       "       [-25.697113,  66.304655,  71.200946],\n",
       "       [-24.328195,  66.537356,  71.311724],\n",
       "       [-23.690674,  66.724612,  71.594946],\n",
       "       [-22.495849,  66.652286,  71.743575],\n",
       "       [-21.704642,  66.627378,  71.79671 ],\n",
       "       [-21.610673,  66.634804,  71.807144],\n",
       "       [-20.14832 ,  66.585056,  71.856749],\n",
       "       [-19.350074,  66.003426,  72.020811],\n",
       "       [-18.220502,  65.942845,  71.939441],\n",
       "       [-17.702482,  66.119826,  71.782923],\n",
       "       [-17.068232,  66.12387 ,  71.779615],\n",
       "       [-16.455365,  65.900894,  71.776097],\n",
       "       [-15.510582,  65.578487,  71.677609],\n",
       "       [-14.921806,  65.233477,  71.355786],\n",
       "       [-14.067599,  64.807254,  71.231946],\n",
       "       [-13.416375,  64.348988,  71.138188],\n",
       "       [-12.519969,  64.097493,  71.209057],\n",
       "       [-11.807903,  63.729824,  71.226368],\n",
       "       [-10.897408,  63.03438 ,  71.179862],\n",
       "       [-10.351384,  62.866617,  71.179052],\n",
       "       [-10.260409,  62.489271,  71.141431],\n",
       "       [ -9.838226,  62.296803,  70.999029],\n",
       "       [ -9.058233,  62.238183,  70.949833],\n",
       "       [ -8.862967,  62.062418,  70.939616],\n",
       "       [ -8.774875,  62.079927,  70.946634],\n",
       "       [ -8.623865,  62.109389,  70.958317],\n",
       "       [ -8.598697,  62.114231,  70.960221],\n",
       "       [ -8.492719,  62.108217,  70.963239],\n",
       "       [ -7.554931,  62.214718,  71.108995],\n",
       "       [ -6.888864,  62.258049,  71.609702],\n",
       "       [ -6.76825 ,  62.215852,  71.743724],\n",
       "       [ -6.622449,  62.534033,  71.888186],\n",
       "       [ -6.622449,  62.534033,  71.888186],\n",
       "       [ -6.622449,  62.534033,  71.888186],\n",
       "       [ -6.622449,  62.534033,  71.888186],\n",
       "       [ -6.622449,  62.534033,  71.888186],\n",
       "       [ -6.508507,  62.952315,  71.942473],\n",
       "       [ -6.508507,  62.952315,  71.942473],\n",
       "       [ -6.405007,  63.433922,  72.0035  ],\n",
       "       [ -6.405007,  63.433922,  72.0035  ],\n",
       "       [ -6.405007,  63.433922,  72.0035  ],\n",
       "       [ -5.587845,  63.660163,  72.261995],\n",
       "       [ -5.147387,  63.605291,  72.372951],\n",
       "       [ -5.132369,  63.674383,  72.381731],\n",
       "       [ -5.132369,  63.674383,  72.381731],\n",
       "       [ -5.132369,  63.674383,  72.381731],\n",
       "       [ -4.982836,  64.060723,  72.534578],\n",
       "       [ -4.640186,  64.218239,  72.633327],\n",
       "       [ -4.513851,  64.576339,  72.68088 ],\n",
       "       [ -4.493907,  64.778032,  72.70548 ],\n",
       "       [ -4.468506,  64.783987,  72.707228],\n",
       "       [ -4.468506,  64.783987,  72.707228],\n",
       "       [ -3.976325,  64.972492,  72.950802],\n",
       "       [ -3.976325,  64.972492,  72.950802],\n",
       "       [ -3.976325,  64.972492,  72.950802],\n",
       "       [ -3.762809,  64.913343,  73.120835],\n",
       "       [ -3.395121,  65.264056,  73.345633],\n",
       "       [ -3.051142,  65.226711,  73.354111],\n",
       "       [ -3.02565 ,  65.233199,  73.355869],\n",
       "       [ -2.982135,  65.375565,  73.374517],\n",
       "       [ -2.982135,  65.375565,  73.374517],\n",
       "       [ -2.982135,  65.375565,  73.374517],\n",
       "       [ -2.858525,  66.261056,  73.484832],\n",
       "       [ -2.770898,  66.875116,  73.561342],\n",
       "       [ -2.724658,  67.084124,  73.587949],\n",
       "       [ -2.531456,  66.891051,  74.386507],\n",
       "       [ -2.294149,  66.779369,  74.788239],\n",
       "       [ -2.17567 ,  66.723424,  74.98883 ],\n",
       "       [ -2.149095,  67.059943,  75.031158],\n",
       "       [ -2.099635,  67.336552,  75.066906],\n",
       "       [ -2.066536,  68.137212,  75.166563],\n",
       "       [ -2.027084,  68.477708,  75.209817],\n",
       "       [ -2.018796,  68.678114,  75.234762],\n",
       "       [ -2.010505,  68.878578,  75.259714],\n",
       "       [ -2.010505,  68.878578,  75.259714],\n",
       "       [ -2.010505,  68.878578,  75.259714],\n",
       "       [ -2.010505,  68.878578,  75.259714],\n",
       "       [ -2.007741,  68.945412,  75.268033],\n",
       "       [ -1.618973,  69.838189,  75.767199],\n",
       "       [ -1.402961,  69.785952,  75.905225],\n",
       "       [ -1.247751,  69.754304,  75.9754  ],\n",
       "       [ -1.247751,  69.754304,  75.9754  ],\n",
       "       [ -1.247751,  69.754304,  75.9754  ]])"
      ]
     },
     "metadata": {},
     "output_type": "display_data"
    },
    {
     "name": "stdout",
     "output_type": "stream",
     "text": [
      "[[-52.149068  54.476672  68.632958]\n",
      " [-52.115222  54.461201  68.596014]\n",
      " [-52.115222  54.461201  68.596014]\n",
      " [-52.115222  54.461201  68.596014]\n",
      " [-52.115222  54.461201  68.596014]\n",
      " [-52.115222  54.461201  68.596014]\n",
      " [-51.841414  54.541667  68.254981]\n",
      " [-51.841414  54.541667  68.254981]\n",
      " [-51.841414  54.541667  68.254981]\n",
      " [-51.841414  54.541667  68.254981]\n",
      " [-51.7432    54.3199    68.290478]\n",
      " [-51.104098  54.430433  68.089553]\n",
      " [-51.025333  54.340077  68.09515 ]\n",
      " [-50.98098   54.332089  68.10372 ]\n",
      " [-50.98098   54.332089  68.10372 ]\n",
      " [-50.98098   54.332089  68.10372 ]\n",
      " [-50.98098   54.332089  68.10372 ]\n",
      " [-50.98098   54.332089  68.10372 ]\n",
      " [-50.98098   54.332089  68.10372 ]\n",
      " [-50.98098   54.332089  68.10372 ]\n",
      " [-50.98098   54.332089  68.10372 ]\n",
      " [-50.301949  54.333283  68.063066]\n",
      " [-50.101843  54.203432  67.880481]\n",
      " [-49.851097  54.200047  67.87951 ]\n",
      " [-49.424803  54.221177  67.764371]\n",
      " [-49.358455  54.210639  67.777168]\n",
      " [-49.33124   54.244478  67.787176]\n",
      " [-49.231995  54.419375  67.829994]\n",
      " [-49.12442   54.417856  67.829634]\n",
      " [-49.052697  54.416791  67.829395]\n",
      " [-49.016834  54.416244  67.829277]\n",
      " [-48.915779  54.550185  67.922093]\n",
      " [-48.450979  54.684443  68.294793]\n",
      " [-48.450979  54.684443  68.294793]\n",
      " [-48.450203  54.799223  68.309381]\n",
      " [-48.432475  54.873179  68.322374]\n",
      " [-48.360686  54.871802  68.322165]\n",
      " [-48.360686  54.871802  68.322165]\n",
      " [-48.361282  55.140098  68.355741]\n",
      " [-48.361282  55.140098  68.355741]\n",
      " [-48.361282  55.140098  68.355741]\n",
      " [-48.361282  55.140098  68.355741]\n",
      " [-48.365669  55.2174    68.364537]\n",
      " [-48.33835   55.25165   68.374519]\n",
      " [-48.155226  55.220288  68.487715]\n",
      " [-48.155226  55.220288  68.487715]\n",
      " [-48.155226  55.220288  68.487715]\n",
      " [-48.059755  55.474656  68.539424]\n",
      " [-47.878881  55.46203   68.576887]\n",
      " [-47.878881  55.46203   68.576887]\n",
      " [-47.878881  55.46203   68.576887]\n",
      " [-47.878881  55.46203   68.576887]\n",
      " [-47.819843  55.453392  68.58792 ]\n",
      " [-47.777713  55.485524  68.600567]\n",
      " [-47.716805  55.706603  68.640708]\n",
      " [-47.56952   55.676499  68.7542  ]\n",
      " [-47.491916  55.62902   68.943581]\n",
      " [-47.491916  55.62902   68.943581]\n",
      " [-47.491916  55.62902   68.943581]\n",
      " [-47.566085  55.64877   68.867938]\n",
      " [-47.566085  55.64877   68.867938]\n",
      " [-47.566085  55.64877   68.867938]\n",
      " [-47.451034  55.554867  68.87934 ]\n",
      " [-47.451034  55.554867  68.87934 ]\n",
      " [-47.451034  55.554867  68.87934 ]\n",
      " [-47.451034  55.554867  68.87934 ]\n",
      " [-47.451034  55.554867  68.87934 ]\n",
      " [-47.451034  55.554867  68.87934 ]\n",
      " [-47.451034  55.554867  68.87934 ]\n",
      " [-47.451034  55.554867  68.87934 ]\n",
      " [-47.451034  55.554867  68.87934 ]\n",
      " [-47.451034  55.554867  68.87934 ]\n",
      " [-47.451034  55.554867  68.87934 ]\n",
      " [-47.451034  55.554867  68.87934 ]\n",
      " [-47.091661  55.548921  68.87869 ]\n",
      " [-47.091661  55.548921  68.87869 ]\n",
      " [-46.888836  55.537892  68.889219]\n",
      " [-46.548355  55.615313  68.863722]\n",
      " [-46.510235  55.725354  68.885088]\n",
      " [-46.465958  55.719202  68.893099]\n",
      " [-46.421678  55.71299   68.901072]\n",
      " [-46.18243   55.821151  68.919437]\n",
      " [-46.145532  55.816052  68.926046]\n",
      " [-46.138153  55.815028  68.927365]\n",
      " [-46.104585  55.733474  68.923749]\n",
      " [-45.664386  55.778939  68.69821 ]\n",
      " [-45.352517  55.805724  68.369874]\n",
      " [-45.352517  55.805724  68.369874]\n",
      " [-45.308314  55.799835  68.377688]\n",
      " [-45.022107  55.81277   68.301405]\n",
      " [-44.472786  55.79807   68.283919]\n",
      " [-44.301791  55.403576  68.247981]\n",
      " [-44.251932  55.128463  68.223858]\n",
      " [-44.224263  55.00979   68.214611]\n",
      " [-43.764411  54.863959  68.099798]\n",
      " [-43.687188  54.885875  67.99337 ]\n",
      " [-43.150031  54.901624  67.879462]\n",
      " [-43.150031  54.901624  67.879462]\n",
      " [-42.573775  54.7164    67.755426]\n",
      " [-42.501754  54.714395  67.755477]\n",
      " [-42.203108  54.615188  67.636181]\n",
      " [-41.641777  54.613043  67.570636]\n",
      " [-41.429205  54.71755   67.596271]\n",
      " [-40.818525  54.778128  67.586228]\n",
      " [-40.712806  54.692164  67.594997]\n",
      " [-40.223875  54.68942   67.378645]\n",
      " [-39.842779  54.702279  67.27461 ]\n",
      " [-39.116999  54.611689  67.221314]\n",
      " [-38.651144  54.511222  67.08518 ]\n",
      " [-37.8265    54.420345  66.861999]\n",
      " [-36.972597  54.344498  66.578223]\n",
      " [-36.320982  54.095705  66.544304]\n",
      " [-35.337141  54.064304  66.392305]\n",
      " [-34.719103  53.961528  66.266538]\n",
      " [-33.600505  54.05305   66.239436]\n",
      " [-32.210077  54.379414  66.302036]\n",
      " [-31.009824  54.434044  66.267515]\n",
      " [-29.497258  54.300997  66.263734]\n",
      " [-29.352278  54.293835  66.265029]\n",
      " [-29.062722  54.282395  66.329179]\n",
      " [-27.985146  54.493164  66.189805]\n",
      " [-27.012261  54.484239  66.1045  ]\n",
      " [-26.055844  54.448832  66.136988]\n",
      " [-25.228405  54.384504  66.226776]\n",
      " [-25.124317  54.561403  66.179344]\n",
      " [-25.046564  54.564942  66.188801]\n",
      " [-24.494342  54.539712  66.202773]\n",
      " [-24.239051  54.992249  66.305931]\n",
      " [-23.748841  54.959302  66.561945]\n",
      " [-23.498742  55.447566  66.694996]\n",
      " [-22.954715  55.469546  67.133626]\n",
      " [-22.810529  55.9044    67.293799]\n",
      " [-22.549925  56.532463  67.51458 ]\n",
      " [-22.300951  57.232493  68.095634]\n",
      " [-22.205331  57.167944  68.3374  ]\n",
      " [-21.781117  57.475599  69.026561]\n",
      " [-21.725834  57.520465  69.530228]\n",
      " [-21.447684  57.678096  70.193739]\n",
      " [-21.167072  57.910216  70.549612]\n",
      " [-20.903801  58.449506  70.728896]\n",
      " [-20.698378  58.524812  71.517749]\n",
      " [-20.305472  58.675467  71.932865]\n",
      " [-19.926487  58.823653  72.176033]\n",
      " [-19.904696  59.109941  72.107261]\n",
      " [-19.923572  59.201352  71.732812]\n",
      " [-19.760387  59.214082  71.632897]\n",
      " [-19.760042  59.222112  71.598754]\n",
      " [-19.760042  59.222112  71.598754]\n",
      " [-19.760042  59.222112  71.598754]\n",
      " [-19.597841  59.210555  71.601239]\n",
      " [-19.532962  59.205873  71.602234]\n",
      " [-19.532962  59.205873  71.602234]\n",
      " [-18.877344  59.212448  71.525301]\n",
      " [-18.61459   59.049765  71.517216]\n",
      " [-18.329007  58.975997  71.534107]\n",
      " [-18.320585  58.769021  71.510477]\n",
      " [-18.290972  58.771989  71.513399]\n",
      " [-18.290972  58.771989  71.513399]\n",
      " [-18.127698  58.785225  71.413683]\n",
      " [-17.70659   58.747875  71.454872]\n",
      " [-17.477848  58.763711  71.322076]\n",
      " [-17.428959  58.717423  71.320856]\n",
      " [-17.399343  58.720789  71.323776]\n",
      " [-17.389471  58.721905  71.324745]\n",
      " [-16.944578  58.522928  71.212575]\n",
      " [-16.304219  58.552114  70.917524]\n",
      " [-16.265347  58.505255  70.915297]\n",
      " [-16.186392  58.515192  70.92288 ]\n",
      " [-16.186392  58.515192  70.92288 ]\n",
      " [-16.176523  58.516421  70.92382 ]\n",
      " [-16.156784  58.518868  70.925693]\n",
      " [-16.156784  58.518868  70.925693]\n",
      " [-16.126564  58.574422  70.934554]\n",
      " [-16.087084  58.579246  70.938255]\n",
      " [-16.025403  58.794057  70.968022]\n",
      " [-16.00566   58.796417  70.969839]\n",
      " [-15.717485  58.855428  70.916945]\n",
      " [-15.031823  58.987687  70.635062]\n",
      " [-14.649315  58.899674  70.918702]\n",
      " [-14.59003   58.907912  70.924111]\n",
      " [-14.579364  58.961191  70.931066]\n",
      " [-14.559602  58.963907  70.93285 ]\n",
      " [-14.548935  59.017182  70.939799]\n",
      " [-14.526811  59.175667  70.959757]\n",
      " [-13.804731  59.207579  71.091216]\n",
      " [-13.755272  59.214892  71.095649]\n",
      " [-13.74538   59.216346  71.09653 ]\n",
      " [-13.464236  59.214449  71.034684]\n",
      " [-13.103486  59.344327  70.84977 ]\n",
      " [-13.038415  59.338896  70.85103 ]\n",
      " [-13.038415  59.338896  70.85103 ]\n",
      " [-12.969162  59.34976   70.857153]\n",
      " [-12.968192  59.401683  70.863197]\n",
      " [-12.968192  59.401683  70.863197]\n",
      " [-12.968192  59.401683  70.863197]\n",
      " [-12.968192  59.401683  70.863197]\n",
      " [-12.968192  59.401683  70.863197]\n",
      " [-12.515054  59.697672  70.914272]]\n"
     ]
    }
   ],
   "source": [
    "D = np.array([pt7_X_s1, pt7_Y_s1, pt7_Z_s1]).T  #hip\n",
    "display(D)\n",
    "E = np.array([pt5_X_s1, pt5_Y_s1, pt5_Z_s1]).T    #knee\n",
    "display(E)\n",
    "F = np.array([pt6_X_s1, pt6_Y_s1, pt6_Z_s1]).T    #ankle\n",
    "print(F)"
   ]
  },
  {
   "cell_type": "markdown",
   "metadata": {},
   "source": [
    "Generating Vectors\n",
    "\n",
    "Vc = vector from the knee to the hip (pt 8 and pt 7)\n",
    "Vd = vector from the knee to the ankle (pt 8 and pt 9)"
   ]
  },
  {
   "cell_type": "code",
   "execution_count": 313,
   "metadata": {},
   "outputs": [],
   "source": [
    "Vc = D-E    # pt6- pt7; vector from hip to knee\n",
    "Vd = F-E    # pt8-pt7; vector from ankle to knee"
   ]
  },
  {
   "cell_type": "markdown",
   "metadata": {},
   "source": [
    "Calculating the dot product for vectors Vc and Vd"
   ]
  },
  {
   "cell_type": "code",
   "execution_count": 314,
   "metadata": {},
   "outputs": [
    {
     "data": {
      "text/plain": [
       "array([ 97.40993918,  95.89903447,  95.76667128,  88.02713452,\n",
       "        84.77930793,  80.77848115,  81.16159302,  88.12657797,\n",
       "        86.98416222,  86.72088716,  86.5780031 ,  86.94068969,\n",
       "        92.18297219, 101.37372004, 100.29801621,  96.77578425,\n",
       "        96.77578425,  98.98625623, 100.72951701, 105.58848085,\n",
       "       106.61007332, 106.35841693, 112.80111191, 115.60828815,\n",
       "       123.48812821, 124.17324519, 121.60362838, 114.00181636,\n",
       "       110.01501506, 115.66750808, 112.5065815 , 109.01934385,\n",
       "       115.48670427, 114.6356229 , 119.82180946, 118.15922282,\n",
       "       114.10448536, 114.10448536, 107.39882737, 106.45963482,\n",
       "       106.97553694, 104.68170959, 101.75098598, 100.92016248,\n",
       "        97.32163619,  97.17208563,  94.47976665,  87.11847169,\n",
       "        87.83560751,  84.54366655,  80.47382421,  79.80028216,\n",
       "        75.98658041,  74.72100841,  72.72971494,  68.53107771,\n",
       "        70.790212  ,  70.790212  ,  70.8650251 ,  70.69820211,\n",
       "        70.49595336,  66.24335555,  61.32562932,  57.47261487,\n",
       "        54.82594737,  50.2805362 ,  49.73474293,  45.69473996,\n",
       "        43.22703807,  43.00329331,  34.57850221,  28.64057577,\n",
       "        21.88513454,  19.02538893,  19.27025529,  14.9913226 ,\n",
       "        13.26340069,  13.11795892,   9.82874235,  12.52653392,\n",
       "        12.7433304 ,  14.06269474,  15.10028654,  14.97829836,\n",
       "        14.36790403,  16.10999471,  13.14111358,   6.75905403,\n",
       "         2.17680784,   0.37502249,  -2.80812306,  -1.87583213,\n",
       "         0.72971833,   1.98484876,   9.09236267,   9.54592455,\n",
       "        11.9369701 ,  10.28247624,  12.26940351,  12.19157783,\n",
       "        14.75949462,  17.83187158,  20.55435757,  24.42365062,\n",
       "        23.33179416,  31.86007376,  38.34334291,  55.12181288,\n",
       "        60.34955142,  68.50703524,  76.07545749,  83.45480599,\n",
       "        95.06608574, 101.7313362 , 116.54846858, 119.76464599,\n",
       "       130.40083455, 142.24350413, 146.49470568, 148.19544721,\n",
       "       142.89995391, 150.11229651, 142.10766282, 146.00951875,\n",
       "       145.0045791 , 148.10352895, 147.63637591, 142.69087222,\n",
       "       137.2666456 , 128.26329968, 123.7480385 , 122.71308772,\n",
       "       117.34287784, 108.34550148, 112.19280302,  98.73923952,\n",
       "        98.3798169 , 103.29422505,  98.88259405,  90.12539225,\n",
       "        87.06543817,  79.83587515,  75.04236795,  88.40034299,\n",
       "       101.42369693,  96.94829217,  99.71095404,  98.33874995,\n",
       "        93.64803868,  90.84074562,  86.35705776,  91.04889635,\n",
       "        86.64484102,  91.35390102,  89.51382891,  88.51102843,\n",
       "       102.92501084, 107.90051707, 104.88942796, 101.95349366,\n",
       "        99.77643396, 106.64317399, 111.58253924, 119.30087508,\n",
       "       120.28309898, 114.67875244, 110.26795516, 117.98328611,\n",
       "       114.42943951, 113.16240059, 112.27086369, 121.69891312,\n",
       "       121.95273185, 117.10231437, 115.38213392, 115.2943761 ,\n",
       "       110.73242725, 121.60875358, 133.73726846, 136.50865566,\n",
       "       134.73874613, 136.21579295, 131.3765335 , 132.86090079,\n",
       "       131.91744239, 139.32264206, 143.55287292, 147.00107533,\n",
       "       148.60280425, 144.82866419, 142.23413887, 136.91964151,\n",
       "       134.65772325, 161.99579257, 164.17434772, 165.87347571,\n",
       "       162.7394324 , 149.59570766])"
      ]
     },
     "metadata": {},
     "output_type": "display_data"
    }
   ],
   "source": [
    "VcVd_dotprod = np.sum(Vc*Vd,axis=1)\n",
    "display(VcVd_dotprod)"
   ]
  },
  {
   "cell_type": "markdown",
   "metadata": {},
   "source": [
    "Next determine the magnitude of the vectors\n",
    "    |Vc| = √(xc^2 + yc^2 + zc^2)\n",
    "    |Vc| = √(xd^2 + yd^2 + zd^2)"
   ]
  },
  {
   "cell_type": "code",
   "execution_count": 315,
   "metadata": {},
   "outputs": [],
   "source": [
    "Vc_mag = np.sqrt(Vc[:,0]**2+Vc[:,1]**2+Vc[:,2]) #missing the **2 at the end?\n",
    "Vd_mag = np.sqrt(Vd[:,0]**2+Vd[:,1]**2+Vd[:,2]**2)"
   ]
  },
  {
   "cell_type": "code",
   "execution_count": 316,
   "metadata": {},
   "outputs": [],
   "source": [
    "#Finally, use the transformed dot product equation:\n",
    "    \n",
    "beta = np.degrees(np.arccos(VcVd_dotprod/(Vc_mag*Vd_mag)))"
   ]
  },
  {
   "cell_type": "markdown",
   "metadata": {},
   "source": [
    "Old Way\n",
    "Calculating the dot product; squares v's and take the same across the matrix"
   ]
  },
  {
   "cell_type": "code",
   "execution_count": 317,
   "metadata": {},
   "outputs": [],
   "source": [
    "dot_V = np.sum((Vc*Vd), axis=1)"
   ]
  },
  {
   "cell_type": "markdown",
   "metadata": {},
   "source": [
    "Calculating the product of the vector magnitude"
   ]
  },
  {
   "cell_type": "code",
   "execution_count": 318,
   "metadata": {},
   "outputs": [
    {
     "name": "stderr",
     "output_type": "stream",
     "text": [
      "/var/folders/nv/ymy6nb1d6wq1m3352zph86040000gn/T/ipykernel_73491/3016443894.py:19: UserWarning: Legend does not support 'E' instances.\n",
      "A proxy artist may be used instead.\n",
      "See: https://matplotlib.org/users/legend_guide.html#creating-artists-specifically-for-adding-to-the-legend-aka-proxy-artists\n",
      "  plt.legend('Elbow Angle','Knee Angle')\n",
      "/var/folders/nv/ymy6nb1d6wq1m3352zph86040000gn/T/ipykernel_73491/3016443894.py:19: UserWarning: Legend does not support 'l' instances.\n",
      "A proxy artist may be used instead.\n",
      "See: https://matplotlib.org/users/legend_guide.html#creating-artists-specifically-for-adding-to-the-legend-aka-proxy-artists\n",
      "  plt.legend('Elbow Angle','Knee Angle')\n",
      "/var/folders/nv/ymy6nb1d6wq1m3352zph86040000gn/T/ipykernel_73491/3016443894.py:19: UserWarning: Legend does not support 'b' instances.\n",
      "A proxy artist may be used instead.\n",
      "See: https://matplotlib.org/users/legend_guide.html#creating-artists-specifically-for-adding-to-the-legend-aka-proxy-artists\n",
      "  plt.legend('Elbow Angle','Knee Angle')\n",
      "/var/folders/nv/ymy6nb1d6wq1m3352zph86040000gn/T/ipykernel_73491/3016443894.py:19: UserWarning: Legend does not support 'o' instances.\n",
      "A proxy artist may be used instead.\n",
      "See: https://matplotlib.org/users/legend_guide.html#creating-artists-specifically-for-adding-to-the-legend-aka-proxy-artists\n",
      "  plt.legend('Elbow Angle','Knee Angle')\n",
      "/var/folders/nv/ymy6nb1d6wq1m3352zph86040000gn/T/ipykernel_73491/3016443894.py:19: UserWarning: Legend does not support 'w' instances.\n",
      "A proxy artist may be used instead.\n",
      "See: https://matplotlib.org/users/legend_guide.html#creating-artists-specifically-for-adding-to-the-legend-aka-proxy-artists\n",
      "  plt.legend('Elbow Angle','Knee Angle')\n",
      "/var/folders/nv/ymy6nb1d6wq1m3352zph86040000gn/T/ipykernel_73491/3016443894.py:19: UserWarning: Legend does not support ' ' instances.\n",
      "A proxy artist may be used instead.\n",
      "See: https://matplotlib.org/users/legend_guide.html#creating-artists-specifically-for-adding-to-the-legend-aka-proxy-artists\n",
      "  plt.legend('Elbow Angle','Knee Angle')\n",
      "/var/folders/nv/ymy6nb1d6wq1m3352zph86040000gn/T/ipykernel_73491/3016443894.py:19: UserWarning: Legend does not support 'A' instances.\n",
      "A proxy artist may be used instead.\n",
      "See: https://matplotlib.org/users/legend_guide.html#creating-artists-specifically-for-adding-to-the-legend-aka-proxy-artists\n",
      "  plt.legend('Elbow Angle','Knee Angle')\n",
      "/var/folders/nv/ymy6nb1d6wq1m3352zph86040000gn/T/ipykernel_73491/3016443894.py:19: UserWarning: Legend does not support 'n' instances.\n",
      "A proxy artist may be used instead.\n",
      "See: https://matplotlib.org/users/legend_guide.html#creating-artists-specifically-for-adding-to-the-legend-aka-proxy-artists\n",
      "  plt.legend('Elbow Angle','Knee Angle')\n",
      "/var/folders/nv/ymy6nb1d6wq1m3352zph86040000gn/T/ipykernel_73491/3016443894.py:19: UserWarning: Legend does not support 'g' instances.\n",
      "A proxy artist may be used instead.\n",
      "See: https://matplotlib.org/users/legend_guide.html#creating-artists-specifically-for-adding-to-the-legend-aka-proxy-artists\n",
      "  plt.legend('Elbow Angle','Knee Angle')\n"
     ]
    },
    {
     "data": {
      "image/png": "[encoded data removed]",
      "text/plain": [
       "<Figure size 640x480 with 1 Axes>"
      ]
     },
     "metadata": {},
     "output_type": "display_data"
    }
   ],
   "source": [
    "sv_Vc = Vc*Vc\n",
    "dp_Vc = np.sum((sv_Vc), axis=1)\n",
    "mag_Vc = np.sqrt(dp_Vc)\n",
    "sv_Vd = Vd*Vd\n",
    "dp_Vd = np.sum((sv_Vd),axis=1)\n",
    "mag_Vd = np.sqrt(dp_Vd)\n",
    "theta_k = np.degrees(np.arccos(dot_V/(mag_Vc*mag_Vd)))\n",
    "\n",
    "#% Graphing FL & HL 3D Joint Angles (using matrix math)\n",
    "#% FIXIT something weird here with graph imaginary numbers\n",
    "\n",
    "#% Displaying |elbow| and |knee| angle over time.\n",
    "\n",
    "#this figure has been comented out in matlab but it appears to be okay here \n",
    "plt.figure(2)\n",
    "plt.plot(p_stride1,alpha2,p_stride1, beta)\n",
    "plt.xlabel('Percent Stride (%)')\n",
    "plt.ylabel('Joint Angle (degrees)')\n",
    "plt.legend('Elbow Angle','Knee Angle')\n",
    "plt.show()"
   ]
  },
  {
   "cell_type": "markdown",
   "metadata": {},
   "source": [
    "Finding Angle Measurements in the Hindlimb\n",
    "\n",
    "In this section we use the distance formula defined in the forelimb joint angle section to calculate hindlimb joint angles. Here, k will indicate knee angle, h will indicate hip angle, and a will indicate ankle angle."
   ]
  },
  {
   "cell_type": "markdown",
   "metadata": {},
   "source": [
    "Distance Between Hip and Knee (d_hk)"
   ]
  },
  {
   "cell_type": "code",
   "execution_count": 319,
   "metadata": {},
   "outputs": [
    {
     "data": {
      "text/plain": [
       "97     11.486039\n",
       "98     11.499124\n",
       "99     11.506569\n",
       "100    11.045599\n",
       "101    10.969340\n",
       "         ...    \n",
       "290    12.461868\n",
       "291    12.497946\n",
       "292    12.511062\n",
       "293    12.335208\n",
       "294    11.689430\n",
       "Length: 198, dtype: float64"
      ]
     },
     "metadata": {},
     "output_type": "display_data"
    }
   ],
   "source": [
    "d_hk = np.sqrt((pt7_X_s1-pt5_X_s1)**2+(pt7_Y_s1-pt5_Y_s1)**2+(pt7_Z_s1-pt5_Z_s1)**2)\n",
    "display(d_hk)"
   ]
  },
  {
   "cell_type": "markdown",
   "metadata": {},
   "source": [
    "Distance Between Knee and Ankle (d_ka)"
   ]
  },
  {
   "cell_type": "code",
   "execution_count": 320,
   "metadata": {},
   "outputs": [
    {
     "data": {
      "text/plain": [
       "97     12.835525\n",
       "98     12.857749\n",
       "99     12.857749\n",
       "100    12.857749\n",
       "101    12.857749\n",
       "         ...    \n",
       "290    16.179452\n",
       "291    16.340430\n",
       "292    16.452359\n",
       "293    16.452359\n",
       "294    15.928056\n",
       "Length: 198, dtype: float64"
      ]
     },
     "metadata": {},
     "output_type": "display_data"
    }
   ],
   "source": [
    "d_ka = np.sqrt((pt6_X_s1-pt5_X_s1)**2+(pt6_Y_s1-pt5_Y_s1)**2+(pt6_Z_s1-pt5_Z_s1)**2)\n",
    "display(d_ka)"
   ]
  },
  {
   "cell_type": "markdown",
   "metadata": {},
   "source": [
    "Distance Between Hip and Ankle (d_ha)"
   ]
  },
  {
   "cell_type": "code",
   "execution_count": 321,
   "metadata": {},
   "outputs": [
    {
     "data": {
      "text/plain": [
       "97     10.092568\n",
       "98     10.283652\n",
       "99     10.304828\n",
       "100    10.548587\n",
       "101    10.774484\n",
       "         ...    \n",
       "290     9.647862\n",
       "291     9.739590\n",
       "292     9.770355\n",
       "293     9.867046\n",
       "294     9.547478\n",
       "Length: 198, dtype: float64"
      ]
     },
     "metadata": {},
     "output_type": "display_data"
    }
   ],
   "source": [
    "d_ha = np.sqrt((pt7_X_s1-pt6_X_s1)**2+(pt7_Y_s1-pt6_Y_s1)**2+(pt7_Z_s1-pt6_Z_s1)**2)\n",
    "display(d_ha)"
   ]
  },
  {
   "cell_type": "markdown",
   "metadata": {},
   "source": []
  },
  {
   "cell_type": "markdown",
   "metadata": {},
   "source": [
    "Distance Between Ankle and Phalange (TMT joint) (d_ap)\n"
   ]
  },
  {
   "cell_type": "code",
   "execution_count": 322,
   "metadata": {},
   "outputs": [
    {
     "data": {
      "text/plain": [
       "97     9.537638\n",
       "98     9.538629\n",
       "99     9.538629\n",
       "100    9.498822\n",
       "101    9.498822\n",
       "         ...   \n",
       "290    8.955043\n",
       "291    8.854247\n",
       "292    8.854247\n",
       "293    8.854247\n",
       "294    8.749361\n",
       "Length: 198, dtype: float64"
      ]
     },
     "metadata": {},
     "output_type": "display_data"
    }
   ],
   "source": [
    "d_ap = np.sqrt((pt9_X_s1-pt6_X_s1)**2+(pt9_Y_s1-pt6_Y_s1)**2+(pt9_Z_s1-pt6_Z_s1)**2)\n",
    "display(d_ap)"
   ]
  },
  {
   "cell_type": "markdown",
   "metadata": {},
   "source": [
    "Distance Between Knee and Phalange (TMT joint) (d_kp)\n"
   ]
  },
  {
   "cell_type": "code",
   "execution_count": 323,
   "metadata": {},
   "outputs": [
    {
     "data": {
      "text/plain": [
       "97     11.197062\n",
       "98     11.242998\n",
       "99     11.242998\n",
       "100    11.162373\n",
       "101    11.162373\n",
       "         ...    \n",
       "290    14.568348\n",
       "291    14.582784\n",
       "292    14.721149\n",
       "293    14.721149\n",
       "294    14.721149\n",
       "Length: 198, dtype: float64"
      ]
     },
     "metadata": {},
     "output_type": "display_data"
    }
   ],
   "source": [
    "d_kp = np.sqrt((pt9_X_s1-pt5_X_s1)**2+(pt9_Y_s1-pt5_Y_s1)**2+(pt9_Z_s1-pt5_Z_s1)**2)\n",
    "display(d_kp)"
   ]
  },
  {
   "cell_type": "markdown",
   "metadata": {},
   "source": [
    "Distance Between Knee and Shoulder (d_ks)"
   ]
  },
  {
   "cell_type": "code",
   "execution_count": 324,
   "metadata": {},
   "outputs": [
    {
     "data": {
      "text/plain": [
       "97     30.866249\n",
       "98     30.819142\n",
       "99     30.807790\n",
       "100    30.797725\n",
       "101    30.770266\n",
       "         ...    \n",
       "290    29.182053\n",
       "291    29.185208\n",
       "292    29.163728\n",
       "293    29.185122\n",
       "294    29.584091\n",
       "Length: 198, dtype: float64"
      ]
     },
     "metadata": {},
     "output_type": "display_data"
    }
   ],
   "source": [
    "d_ks = np.sqrt((pt4_X_s1-pt5_X_s1)**2+(pt4_Y_s1-pt5_Y_s1)**2+(pt4_Z_s1-pt5_Z_s1)**2)\n",
    "display(d_ks)"
   ]
  },
  {
   "cell_type": "markdown",
   "metadata": {},
   "source": [
    "d_he distance between hip and shoulder has been previously defined for the forelimband can be used to calculate the hip angle here.\n",
    "\n",
    "The following equations were used to calculate the hindlimb joint angles:\n",
    "\n",
    "    adj_h = arccos((d_hs^2 + d_hk^2 - d_ks^2)/ \n",
    "    (2 * d_hs * d_hk))\n",
    "\n",
    "    K = arccos((d_ka^2 + d_hk^2 - d_ha^2)/ \n",
    "    (2 * d_ka * d_hk))\n",
    "\n",
    "    A = arccos((d_ka^2 + d_ap^2 - d_kp^2)/ \n",
    "    (2 * d_ka * d_ap))\n",
    "\n",
    "\n",
    "Note: the hip was calculated from the adjacent angle created from the shoulder, knee, and ankle points.\n"
   ]
  },
  {
   "cell_type": "code",
   "execution_count": 325,
   "metadata": {},
   "outputs": [
    {
     "data": {
      "text/plain": [
       "97     84.828276\n",
       "98     85.390231\n",
       "99     85.062195\n",
       "100    87.417712\n",
       "101    88.425517\n",
       "         ...    \n",
       "290    71.618770\n",
       "291    70.798163\n",
       "292    69.972044\n",
       "293    70.397420\n",
       "294    71.618781\n",
       "Length: 198, dtype: float64"
      ]
     },
     "metadata": {},
     "output_type": "display_data"
    },
    {
     "data": {
      "text/plain": [
       "97      95.171724\n",
       "98      94.609769\n",
       "99      94.937805\n",
       "100     92.582288\n",
       "101     91.574483\n",
       "          ...    \n",
       "290    108.381230\n",
       "291    109.201837\n",
       "292    110.027956\n",
       "293    109.602580\n",
       "294    108.381219\n",
       "Length: 198, dtype: float64"
      ]
     },
     "metadata": {},
     "output_type": "display_data"
    },
    {
     "data": {
      "text/plain": [
       "97     48.644974\n",
       "98     49.563017\n",
       "99     49.661882\n",
       "100    51.697347\n",
       "101    53.051507\n",
       "         ...    \n",
       "290    36.539542\n",
       "291    36.495639\n",
       "292    36.307508\n",
       "293    36.688442\n",
       "294    36.538430\n",
       "Length: 198, dtype: float64"
      ]
     },
     "metadata": {},
     "output_type": "display_data"
    },
    {
     "data": {
      "text/plain": [
       "97     57.835118\n",
       "98     58.022603\n",
       "99     58.022603\n",
       "100    57.581664\n",
       "101    57.581664\n",
       "         ...    \n",
       "290    63.404171\n",
       "291    62.692668\n",
       "292    62.978580\n",
       "293    62.978580\n",
       "294    65.960350\n",
       "Length: 198, dtype: float64"
      ]
     },
     "metadata": {},
     "output_type": "display_data"
    }
   ],
   "source": [
    "adj_hip = np.degrees(np.arccos((d_hs**2 + d_hk**2 - d_ks**2) / (2 * d_hs * d_hk)))\n",
    "display(adj_hip)\n",
    "hip = 180-adj_hip\n",
    "display(hip)\n",
    "knee = np.degrees(np.arccos((d_hk**2 + d_ka**2 - d_ha**2) / (2 * d_hk * d_ka)))\n",
    "display(knee)\n",
    "ankle = np.degrees(np.arccos(((d_ka**2 + d_ap**2 - d_kp**2) / (2 * d_ka * d_ap))))\n",
    "display(ankle)                 "
   ]
  },
  {
   "cell_type": "code",
   "execution_count": 326,
   "metadata": {},
   "outputs": [
    {
     "data": {
      "image/png": "[encoded data removed]",
      "text/plain": [
       "<Figure size 640x480 with 1 Axes>"
      ]
     },
     "metadata": {},
     "output_type": "display_data"
    },
    {
     "data": {
      "text/plain": [
       "\"saving graph as vector image\\n%    graphname4 = append(walk_seq, '_HLjointgraph.pdf');\\n%    ax1 = gca;\\n%    exportgraphics(ax1, graphname4,'ContentType','vector');\""
      ]
     },
     "execution_count": 326,
     "metadata": {},
     "output_type": "execute_result"
    }
   ],
   "source": [
    "# Graphing HL 3D Joint Angles (using trig)\n",
    "# *TODO graph for only contact time/period*\n",
    "\n",
    "plt.figure(3)\n",
    "plt.plot(p_stride1,knee,p_stride1, hip,p_stride1,ankle)\n",
    "plt.xlabel('Percent Stride')\n",
    "plt.ylabel('Angle Changes (degrees)')\n",
    "plt.legend({'Knee Angle','Hip Angle','Ankle Angle'})\n",
    "plt.show()\n",
    "   \n",
    "\"\"\"saving graph as vector image\n",
    "%    graphname4 = append(walk_seq, '_HLjointgraph.pdf');\n",
    "%    ax1 = gca;\n",
    "%    exportgraphics(ax1, graphname4,'ContentType','vector');\"\"\""
   ]
  },
  {
   "cell_type": "markdown",
   "metadata": {},
   "source": [
    "Analysing Force Plate Data\n",
    "\n",
    "This code analyzes the ground reaction force data that was taken as the frogs walked across a force plate.\n",
    "\n",
    "Conversion from video time to ground reaction force time\n",
    "\n",
    "Finding where the force data is based upon the tiggered video time calculated in the above section.\n",
    "If else statements are used to address issues with data wrap around. For example, if the trigger occurs earlier in the data sequence than the forces/stride sequence this suggests the data has wrapped around in time.\n",
    "Executes the following, if trigger occurs before s1_start in force time, if not, executes else function"
   ]
  },
  {
   "cell_type": "code",
   "execution_count": 327,
   "metadata": {},
   "outputs": [
    {
     "name": "stdout",
     "output_type": "stream",
     "text": [
      "8.5474 0.8714 2.3240000000000003\n"
     ]
    }
   ],
   "source": [
    "#POTENTIAL ISSUE: start startf_s1_sec is at 97 rn bc -1 but it makes delta_s1_start be slight;y diffe from 2.3200(matlab) to 2.3240 python, not ure how itll affect \n",
    "if trigger_t < delta_s1_start:\n",
    "    s1_start_force_t = trigger_t-delta_s1_start+(igor_sr/1000) #delta_s1_start has the wrong result\n",
    "else:\n",
    "    s1_start_force_t = trigger_t-delta_s1_start\n",
    "    \n",
    "print(s1_start_force_t, trigger_t, delta_s1_start)\n",
    "    "
   ]
  },
  {
   "cell_type": "markdown",
   "metadata": {},
   "source": [
    "Executes the following, if trigger occurs before s1_end in force time, if not, executes else function"
   ]
  },
  {
   "cell_type": "code",
   "execution_count": 328,
   "metadata": {},
   "outputs": [
    {
     "name": "stdout",
     "output_type": "stream",
     "text": [
      "9.3354 0.8714 1.5360000000000003\n"
     ]
    },
    {
     "data": {
      "text/plain": [
       "'% % executes the following if only trigger is wrapped around\\n% if trigger_t < delta_s1_start %&& trigger_t < delta_s1_end\\n%\\n%\\n% % executes the following if only trigger and part of the start force wrap around\\n% elseif trigger_t < delta_s1_start && trigger_t < delta_s1_end %||\\n%     s1_start_force_t = trigger_t-delta_s1_start+(igor_sr/1000);\\n%     s1_end_force_t = trigger_t-delta_s1_end;\\n% % executes if trigger is not wrapped around and all the force data is\\n% % inline  Ideal one to use\\n% else\\n%\\n%\\n% end'"
      ]
     },
     "execution_count": 328,
     "metadata": {},
     "output_type": "execute_result"
    }
   ],
   "source": [
    "if trigger_t < delta_s1_end: \n",
    "    s1_end_force_t = trigger_t-delta_s1_end+(igor_sr/1000)\n",
    "else:\n",
    "    s1_end_force_t = trigger_t-delta_s1_end\n",
    "\n",
    "print(s1_end_force_t, trigger_t, delta_s1_end) #delta_s1_end is 1.5320 (matlab), makes s1_end_force_t be different to 9.3394\n",
    "\n",
    "\n",
    "#is commented out in matlab code\n",
    "\"\"\"% % executes the following if only trigger is wrapped around\n",
    "% if trigger_t < delta_s1_start %&& trigger_t < delta_s1_end\n",
    "%\n",
    "%\n",
    "% % executes the following if only trigger and part of the start force wrap around\n",
    "% elseif trigger_t < delta_s1_start && trigger_t < delta_s1_end %||\n",
    "%     s1_start_force_t = trigger_t-delta_s1_start+(igor_sr/1000);\n",
    "%     s1_end_force_t = trigger_t-delta_s1_end;\n",
    "% % executes if trigger is not wrapped around and all the force data is\n",
    "% % inline  Ideal one to use\n",
    "% else\n",
    "%\n",
    "%\n",
    "% end\"\"\" "
   ]
  },
  {
   "cell_type": "markdown",
   "metadata": {},
   "source": [
    "Executes the following, if trigger occurs before fl_end in force time, if not, executes else function"
   ]
  },
  {
   "cell_type": "code",
   "execution_count": 329,
   "metadata": {},
   "outputs": [
    {
     "name": "stdout",
     "output_type": "stream",
     "text": [
      "9.2394 0.8714 1.6320000000000001\n"
     ]
    }
   ],
   "source": [
    "if trigger_t < delta_fl_end: \n",
    "    fl_end_force_t = trigger_t-delta_fl_end+(igor_sr/1000)\n",
    "else:\n",
    "    fl_end_force_t = trigger_t-delta_fl_end\n",
    "    \n",
    "print(fl_end_force_t, trigger_t, delta_fl_end)#this are the same results as matlab "
   ]
  },
  {
   "cell_type": "markdown",
   "metadata": {},
   "source": [
    "Executes the following, if trigger occurs before fl_only_end in force time, if not, executes else function"
   ]
  },
  {
   "cell_type": "code",
   "execution_count": 330,
   "metadata": {},
   "outputs": [
    {
     "name": "stdout",
     "output_type": "stream",
     "text": [
      "9.1114 0.8714 1.7600000000000002 10000\n"
     ]
    }
   ],
   "source": [
    "if trigger_t < delta_fl_only_end:\n",
    "    fl_only_end_force_t = trigger_t-delta_fl_only_end+(igor_sr/1000)\n",
    "else:\n",
    "    fl_only_end_force_t = trigger_t-delta_fl_only_end\n",
    "    \n",
    "print(fl_only_end_force_t, trigger_t, delta_fl_only_end, igor_sr) #same as matlab\n"
   ]
  },
  {
   "cell_type": "markdown",
   "metadata": {},
   "source": [
    "Executes the following. If the trigger occurs before hl_only_starts when is in contact, if not, execute else function"
   ]
  },
  {
   "cell_type": "code",
   "execution_count": 331,
   "metadata": {},
   "outputs": [
    {
     "name": "stdout",
     "output_type": "stream",
     "text": [
      "9.2434 0.8714 1.6280000000000001\n"
     ]
    }
   ],
   "source": [
    "if trigger_t < delta_hl_only_start:\n",
    "    hl_start_force_t_only = trigger_t-delta_hl_only_start+(igor_sr/1000)\n",
    "    #%elseif delta_hl_only_start < delta_s1_start\n",
    "    #%    hl_start_force_t_only = trigger_t-delta_hl_only_start+(igor_sr/1000);\n",
    "else:\n",
    "    hl_start_force_t_only = trigger_t-delta_hl_only_start\n",
    "\n",
    "print(hl_start_force_t_only, trigger_t, delta_hl_only_start) #same as matlab"
   ]
  },
  {
   "cell_type": "markdown",
   "metadata": {},
   "source": [
    "Executes the following, if trigger occurs before hl_on in force time, if not, executes else function"
   ]
  },
  {
   "cell_type": "code",
   "execution_count": 332,
   "metadata": {},
   "outputs": [
    {
     "name": "stdout",
     "output_type": "stream",
     "text": [
      "9.1154 0.8714 1.7560000000000002\n"
     ]
    }
   ],
   "source": [
    "if trigger_t < delta_hl_on:\n",
    "    hl_on_force_t = trigger_t-delta_hl_on+(igor_sr/1000)\n",
    "else:\n",
    "    hl_on_force_t = trigger_t-delta_hl_on\n",
    "    \n",
    "print(hl_on_force_t, trigger_t, delta_hl_on) #same as matlab\n"
   ]
  },
  {
   "cell_type": "markdown",
   "metadata": {},
   "source": [
    "Executes the following, if trigger occurs before hl_end in force time, if not, executes else funtion"
   ]
  },
  {
   "cell_type": "code",
   "execution_count": 333,
   "metadata": {},
   "outputs": [
    {
     "name": "stdout",
     "output_type": "stream",
     "text": [
      "8.1594 0.8714 2.712\n"
     ]
    }
   ],
   "source": [
    "if trigger_t < delta_hl_end:\n",
    "    hl_end_force_t = trigger_t-delta_hl_end+(igor_sr/1000)\n",
    "    #%elseif trigger_t > delta_hl_end && trigger_t < delta_hl_on\n",
    "    #%    hl_end_force_t = trigger_t-delta_hl_end+(igor_sr/1000);\n",
    "else:\n",
    "    hl_end_force_t = trigger_t-delta_hl_end\n",
    "\n",
    "print(hl_end_force_t, trigger_t, delta_hl_end)"
   ]
  },
  {
   "cell_type": "markdown",
   "metadata": {},
   "source": [
    "Executes the following, if trigger occurrs before start of stride 2, if not, executes else function"
   ]
  },
  {
   "cell_type": "code",
   "execution_count": 334,
   "metadata": {},
   "outputs": [
    {
     "name": "stdout",
     "output_type": "stream",
     "text": [
      "9.343399999999999 0.8714 1.5280000000000002\n"
     ]
    }
   ],
   "source": [
    "if endf_s2_sec != 0 or startf_s2_sec != 0:\n",
    "    if trigger_t < delta_s2_start:\n",
    "        s2_start_force_t = trigger_t-delta_s2_start+(igor_sr/1000)\n",
    "    else:\n",
    "        s2_start_force_t = trigger_t-delta_s2_start\n",
    "        \n",
    "print(s2_start_force_t, trigger_t, delta_s2_start) #same as matlab     \n"
   ]
  },
  {
   "cell_type": "markdown",
   "metadata": {},
   "source": [
    "Executes the following, if trigger occurs before end of stride 2, if not, executes else function"
   ]
  },
  {
   "cell_type": "code",
   "execution_count": 335,
   "metadata": {},
   "outputs": [],
   "source": [
    "#CHECK AGAIN WITH HL INFO\n",
    "if endf_s2_sec != 0:\n",
    "    if trigger_t < delta_s2_end:\n",
    "        s2_end_force_t = trigger_t-delta_s2_end+(igor_sr/1000);\n",
    "    else:\n",
    "        #%elseif trigger_t > delta_s2_end\n",
    "        #%s2_end_force_t = trigger_t-delta_s2_end+(igor_sr/1000);\n",
    "        s2_end_force_t = trigger_t-delta_s2_end\n",
    "    print(delta_s2_end)   \n",
    "    print(s2_end_force_t, trigger_t, delta_s2_end) #does not show anything cause there is no info \n",
    " "
   ]
  },
  {
   "cell_type": "markdown",
   "metadata": {},
   "source": [
    "Finding the column in the igor file that each event corresponds to:\n",
    "\n",
    "Note: 10,000 corresponds to the sampling rate in Igor, 10,000 samples/sec"
   ]
  },
  {
   "cell_type": "code",
   "execution_count": 336,
   "metadata": {},
   "outputs": [
    {
     "name": "stdout",
     "output_type": "stream",
     "text": [
      "91114.0\n",
      "92434.0\n",
      "85474.0 8.5474\n",
      "s1_end_force_c 93354.0\n",
      "92394.0\n",
      "91154.0\n",
      "81594.0\n",
      "93434.0\n"
     ]
    }
   ],
   "source": [
    "#%I think thsi tod is not necessary now - TODO this might be our issue I think jenifer added this in there?\n",
    "fl_only_end_force_c = np.round(fl_only_end_force_t *10000,4)\n",
    "print(fl_only_end_force_c)\n",
    "hl_only_start_force_c = np.round(hl_start_force_t_only *10000,4)\n",
    "print(hl_only_start_force_c)\n",
    "s1_start_force_c = np.round(s1_start_force_t*10000,4)\n",
    "print(s1_start_force_c, s1_start_force_t) #this is not the same as matlab(85514)\n",
    "s1_end_force_c = np.round(s1_end_force_t*10000,4)\n",
    "print(\"s1_end_force_c\" ,s1_end_force_c) #this is not the same as matlab(93394)\n",
    "fl_end_force_c = np.round(fl_end_force_t*10000,4)\n",
    "print(fl_end_force_c)\n",
    "hl_on_force_c = np.round(hl_on_force_t*10000,4)\n",
    "print(hl_on_force_c)\n",
    "hl_end_force_c = np.round(hl_end_force_t*10000,4)\n",
    "print(hl_end_force_c)\n",
    "\n",
    "if startf_s2_sec != 0:\n",
    "    s2_start_force_c = round(s2_start_force_t * 10000,4)\n",
    "\n",
    "print(s2_start_force_c)\n",
    "\n"
   ]
  },
  {
   "cell_type": "code",
   "execution_count": 337,
   "metadata": {},
   "outputs": [],
   "source": [
    "#chechk again with HL info\n",
    "if endf_s2_sec != 0:\n",
    "    s2_end_force_c = round(s2_end_force_t *10000,4)\n",
    "    print(s2_end_force_c)"
   ]
  },
  {
   "cell_type": "markdown",
   "metadata": {},
   "source": [
    "Setting up force time for FL and HL\n",
    "\n",
    "Defining the time scale for force across different events, from:\n",
    "    stride 1-stride 2\n",
    "    FL only stride cycle time\n",
    "    HL only stride cycle time\n",
    "    Overlapp between FL and HL\n",
    "\n",
    "Syncronizing force time with video time for FL"
   ]
  },
  {
   "cell_type": "code",
   "execution_count": 338,
   "metadata": {},
   "outputs": [
    {
     "name": "stdout",
     "output_type": "stream",
     "text": [
      "85474.0 91114.0\n",
      "(5641,)\n",
      "[85.474 85.475 85.476 ... 91.112 91.113 91.114]\n",
      "(5641,)\n"
     ]
    }
   ],
   "source": [
    "fl_only_f_t = np.arange(s1_start_force_c, fl_only_end_force_c + 1)/1000\n",
    "print(s1_start_force_c, fl_only_end_force_c) # s1_start_force_c is causing the mismatch results \n",
    "\n",
    "print(fl_only_f_t.shape) # pyt is 5641 and matlab is 5601, bc it starts at 97 it takes about 40 ore rows bac of the time \n",
    "print(fl_only_f_t)\n",
    "fl_only_f_sec = fl_only_f_t - fl_only_f_t[0] #% time starts at zero\n",
    "\n",
    "print(fl_only_f_sec.shape)\n",
    " # i think its okay that it takes another amount becasue since its 97/250 its only the time that is diffrent "
   ]
  },
  {
   "cell_type": "markdown",
   "metadata": {},
   "source": [
    "Syncronizing force time with video time for HL"
   ]
  },
  {
   "cell_type": "code",
   "execution_count": 339,
   "metadata": {},
   "outputs": [],
   "source": [
    "#check with Hl INFO\n",
    "if startf_s2_sec != 0 and endf_s2_sec != 0:\n",
    "    hl_only_f_t = np.arange((hl_only_start_force_c, hl_end_force_c))/1000\n",
    "    print(hl_only_f_t)\n",
    "    hl_only_f_sec = hl_only_f_t - hl_only_f_t[0]  # time starts at zero\n"
   ]
  },
  {
   "cell_type": "markdown",
   "metadata": {},
   "source": [
    "Characterizing Percent Stride for force data\n"
   ]
  },
  {
   "cell_type": "code",
   "execution_count": 340,
   "metadata": {},
   "outputs": [
    {
     "name": "stdout",
     "output_type": "stream",
     "text": [
      "1.0\n",
      "7881.0\n",
      "5641.0\n",
      "5681.0\n",
      "f_diff_fl_end 6921.0\n",
      "f_diff_hl_only_start 6961.0\n",
      "f_diff_s2_start 7961.0\n",
      "f_diff_hl_end 96121.0\n"
     ]
    }
   ],
   "source": [
    "f_diff_s1_start = s1_start_force_c - s1_start_force_c + 1\n",
    "print(f_diff_s1_start)\n",
    "f_diff_s1_end = s1_end_force_c - s1_start_force_c + 1\n",
    "print(f_diff_s1_end)\n",
    "f_diff_fl_only_end = fl_only_end_force_c - s1_start_force_c + 1\n",
    "print(f_diff_fl_only_end) #takes 40 sec after matlab so instead of 5601 is 5641\n",
    "f_diff_hl_start = hl_on_force_c - s1_start_force_c + 1\n",
    "print(f_diff_hl_start) #takes 40 sec after matlab so instead of 5641 is 5681\n",
    "\n",
    "\n",
    "#basically this are all different numbers \n",
    "if fl_end_force_c < s1_start_force_c:\n",
    "    f_diff_fl_end = fl_end_force_c + 100000 - s1_start_force_c + 1\n",
    "    \n",
    "else:\n",
    "    f_diff_fl_end = fl_end_force_c - s1_start_force_c + 1\n",
    "print('f_diff_fl_end',f_diff_fl_end)\n",
    "\n",
    "if hl_only_start_force_c < s1_start_force_c:\n",
    "    f_diff_hl_only_start = hl_only_start_force_c + 100000 - s1_start_force_c + 1\n",
    "else:\n",
    "    f_diff_hl_only_start = hl_only_start_force_c - s1_start_force_c + 1\n",
    "\n",
    "print('f_diff_hl_only_start',f_diff_hl_only_start)\n",
    "if s2_start_force_c < s1_start_force_c:\n",
    "    f_diff_s2_start = s2_start_force_c + 100000 - s1_start_force_c + 1\n",
    "else:\n",
    "    f_diff_s2_start = s2_start_force_c - s1_start_force_c + 1\n",
    "print(\"f_diff_s2_start\", f_diff_s2_start)\n",
    "\n",
    "if hl_end_force_c < s1_start_force_c:\n",
    "    f_diff_hl_end = hl_end_force_c + 100000 - s1_start_force_c + 1\n",
    "else:\n",
    "    f_diff_hl_end = hl_end_force_c - s1_start_force_c + 1\n",
    "print(\"f_diff_hl_end\", f_diff_hl_end)\n",
    "\n",
    "if HL == 1:\n",
    "    if s2_end_force_c < s1_start_force_c:\n",
    "        f_diff_s2_end = s2_end_force_c + 100000 - s1_start_force_c + 1\n",
    "    else:\n",
    "        f_diff_s2_end = s2_end_force_c - s1_start_force_c + 1\n"
   ]
  },
  {
   "cell_type": "markdown",
   "metadata": {},
   "source": [
    "Define time over 2 strides\n",
    "\n",
    "size finds the array size from the start of the stride to the end using the first and last frame of the strides"
   ]
  },
  {
   "cell_type": "code",
   "execution_count": 341,
   "metadata": {},
   "outputs": [
    {
     "name": "stdout",
     "output_type": "stream",
     "text": [
      "7881.0\n"
     ]
    }
   ],
   "source": [
    "#matches atlab\n",
    "if HL == 1:\n",
    "    forcesize = f_diff_s2_end - f_diff_s1_start + 1\n",
    "elif HL == 0:\n",
    "    forcesize = f_diff_s1_end - f_diff_s1_start + 1\n",
    "print(forcesize)"
   ]
  },
  {
   "cell_type": "markdown",
   "metadata": {},
   "source": [
    "Calculates the percent stride array use to standardize across different walking trials, changes the time component usually at the x-axis values to plot y-axis variables of interest (e.g. force, torques, etc.) since every stride is going to be a different length in time."
   ]
  },
  {
   "cell_type": "code",
   "execution_count": 369,
   "metadata": {},
   "outputs": [
    {
     "name": "stdout",
     "output_type": "stream",
     "text": [
      "(6921,)\n",
      "6921\n",
      "[1.44000e-02 2.89000e-02 4.33000e-02 ... 9.99711e+01 9.99856e+01\n",
      " 1.00000e+02]\n",
      "[2.89000e-02 4.33000e-02 5.78000e-02 ... 8.14911e+01 8.15056e+01\n",
      " 8.15200e+01]\n"
     ]
    }
   ],
   "source": [
    "forcestride1 =np.arange (f_diff_s1_start, f_diff_fl_end + 1)\n",
    "s1_size = len(forcestride1)\n",
    "print(forcestride1.shape)\n",
    "print(s1_size)\n",
    "\n",
    "p_forcestride1 = np.round(forcestride1 / s1_size * 100,4)\n",
    "print(p_forcestride1)\n",
    "\n",
    "if HL == 1:   \n",
    "    forcestride2 = np.arange(f_diff_fl_end+1,f_diff_s2_end + 1)\n",
    "    s2_size, _ = len(forcestride2)\n",
    "    p_forcestride2 = np.round(forcestride2 / s2_size * 100,4)\n",
    "    p_forcestrides_all = np.concatenate(1,p_forcestride1,p_forcestride2)\n",
    "\n",
    "    print(p_forcestrides_all)\n",
    "elif HL == 0:\n",
    "    p_forcestrides_all = p_forcestride1\n",
    "\n",
    "\n",
    "p_force_flonly = p_forcestrides_all[int(f_diff_s1_start): int(f_diff_fl_only_end + 1)]\n",
    "print(p_force_flonly)\n",
    "if HL == 1:\n",
    "    p_force_hlonly = p_forcestrides_all[f_diff_hl_only_start:f_diff_hl_end + 1]\n"
   ]
  },
  {
   "cell_type": "markdown",
   "metadata": {},
   "source": [
    "Importing force data set"
   ]
  },
  {
   "cell_type": "code",
   "execution_count": 343,
   "metadata": {},
   "outputs": [
    {
     "data": {
      "text/plain": [
       "'/Users/jenifer_dubon/Desktop/walking_frog_force/walking_frog_force/Datasets/20210706_pb4_walk2_force_data.txt'"
      ]
     },
     "metadata": {},
     "output_type": "display_data"
    },
    {
     "data": {
      "text/html": [
       "<div>\n",
       "<style scoped>\n",
       "    .dataframe tbody tr th:only-of-type {\n",
       "        vertical-align: middle;\n",
       "    }\n",
       "\n",
       "    .dataframe tbody tr th {\n",
       "        vertical-align: top;\n",
       "    }\n",
       "\n",
       "    .dataframe thead th {\n",
       "        text-align: right;\n",
       "    }\n",
       "</style>\n",
       "<table border=\"1\" class=\"dataframe\">\n",
       "  <thead>\n",
       "    <tr style=\"text-align: right;\">\n",
       "      <th></th>\n",
       "      <th>Fx_SS</th>\n",
       "      <th>Fy_SS</th>\n",
       "      <th>Fz_SS</th>\n",
       "      <th>Mx</th>\n",
       "      <th>My</th>\n",
       "      <th>Mz</th>\n",
       "      <th>Fr_SS</th>\n",
       "      <th>trigger</th>\n",
       "    </tr>\n",
       "  </thead>\n",
       "  <tbody>\n",
       "    <tr>\n",
       "      <th>0</th>\n",
       "      <td>0.0033</td>\n",
       "      <td>-0.0024</td>\n",
       "      <td>0.0183</td>\n",
       "      <td>-0.0064</td>\n",
       "      <td>-0.0056</td>\n",
       "      <td>0.0006</td>\n",
       "      <td>0.0188</td>\n",
       "      <td>4.2046</td>\n",
       "    </tr>\n",
       "    <tr>\n",
       "      <th>1</th>\n",
       "      <td>0.0033</td>\n",
       "      <td>-0.0024</td>\n",
       "      <td>0.0183</td>\n",
       "      <td>-0.0064</td>\n",
       "      <td>-0.0056</td>\n",
       "      <td>0.0006</td>\n",
       "      <td>0.0187</td>\n",
       "      <td>4.2036</td>\n",
       "    </tr>\n",
       "    <tr>\n",
       "      <th>2</th>\n",
       "      <td>0.0033</td>\n",
       "      <td>-0.0023</td>\n",
       "      <td>0.0183</td>\n",
       "      <td>-0.0064</td>\n",
       "      <td>-0.0057</td>\n",
       "      <td>0.0006</td>\n",
       "      <td>0.0187</td>\n",
       "      <td>4.2039</td>\n",
       "    </tr>\n",
       "    <tr>\n",
       "      <th>3</th>\n",
       "      <td>0.0033</td>\n",
       "      <td>-0.0023</td>\n",
       "      <td>0.0183</td>\n",
       "      <td>-0.0064</td>\n",
       "      <td>-0.0057</td>\n",
       "      <td>0.0007</td>\n",
       "      <td>0.0187</td>\n",
       "      <td>4.2081</td>\n",
       "    </tr>\n",
       "    <tr>\n",
       "      <th>4</th>\n",
       "      <td>0.0033</td>\n",
       "      <td>-0.0023</td>\n",
       "      <td>0.0183</td>\n",
       "      <td>-0.0064</td>\n",
       "      <td>-0.0056</td>\n",
       "      <td>0.0006</td>\n",
       "      <td>0.0187</td>\n",
       "      <td>4.2181</td>\n",
       "    </tr>\n",
       "  </tbody>\n",
       "</table>\n",
       "</div>"
      ],
      "text/plain": [
       "    Fx_SS   Fy_SS   Fz_SS      Mx      My      Mz   Fr_SS  trigger\n",
       "0  0.0033 -0.0024  0.0183 -0.0064 -0.0056  0.0006  0.0188   4.2046\n",
       "1  0.0033 -0.0024  0.0183 -0.0064 -0.0056  0.0006  0.0187   4.2036\n",
       "2  0.0033 -0.0023  0.0183 -0.0064 -0.0057  0.0006  0.0187   4.2039\n",
       "3  0.0033 -0.0023  0.0183 -0.0064 -0.0057  0.0007  0.0187   4.2081\n",
       "4  0.0033 -0.0023  0.0183 -0.0064 -0.0056  0.0006  0.0187   4.2181"
      ]
     },
     "metadata": {},
     "output_type": "display_data"
    }
   ],
   "source": [
    "\n",
    "\n",
    "\n",
    "file = walk_seq + '_force_data.txt'\n",
    "txt_file = '/Users/jenifer_dubon/Desktop/walking_frog_force/walking_frog_force/Datasets/' + file\n",
    "display(txt_file)\n",
    "datavalues_ = pd.read_table(txt_file) #it also works with np.loadtxt but read tablw might be best becaus eit also shows the index to make sure thoese are the right values\n",
    "datavalues = datavalues_.round(4)\n",
    "display(datavalues.head())"
   ]
  },
  {
   "cell_type": "markdown",
   "metadata": {},
   "source": [
    "Extracting Force Data for Forelimb only data (for trials w/overlap)\n",
    "\n",
    "If data is wrapped around the if else statements will pull out particular chunks and adds them together using cat()."
   ]
  },
  {
   "cell_type": "code",
   "execution_count": 355,
   "metadata": {},
   "outputs": [
    {
     "name": "stdout",
     "output_type": "stream",
     "text": [
      "85474 91114\n"
     ]
    },
    {
     "data": {
      "text/plain": [
       "85474    4.2188\n",
       "85475    4.2210\n",
       "85476    4.2226\n",
       "85477    4.2258\n",
       "85478    4.2262\n",
       "Name: trigger, dtype: float64"
      ]
     },
     "metadata": {},
     "output_type": "display_data"
    }
   ],
   "source": [
    "print(s1_start_force_c, fl_only_end_force_c )\n",
    "\n",
    "if trigger_t < delta_s1_start and trigger_t < delta_fl_only_end:\n",
    "    s1_start_force_c = int(s1_start_force_c)\n",
    "    fl_only_end_force_c = int(fl_only_end_force_c)\n",
    "    \n",
    "    f_x_flonly = datavalues.iloc[s1_start_force_c:fl_only_end_force_c + 1, 0]\n",
    "    f_y_flonly = datavalues.iloc[s1_start_force_c:fl_only_end_force_c + 1, 1]\n",
    "    f_z_flonly = datavalues.iloc[s1_start_force_c:fl_only_end_force_c + 1, 2]\n",
    "    m_x_flonly = datavalues.iloc[s1_start_force_c:fl_only_end_force_c + 1, 3]\n",
    "    m_y_flonly = datavalues.iloc[s1_start_force_c:fl_only_end_force_c + 1, 4]\n",
    "    m_z_flonly = datavalues.iloc[s1_start_force_c:fl_only_end_force_c + 1, 5]\n",
    "    f_r_flonly = datavalues.iloc[s1_start_force_c:fl_only_end_force_c + 1, 6]\n",
    "    trigger_flonly = datavalues.iloc[s1_start_force_c:fl_only_end_force_c + 1, 7]\n",
    "    \n",
    "    \n",
    "    #% executes the following section if all data except stride start wraps around\n",
    "elif trigger_t < delta_s1_start and trigger_t > delta_fl_only_end:   # added && 1/3/21\n",
    "    f_x1_flonly = datavalues[s1_start_force_c:end + 1, 0]; #end + 1? it hasnt been specified \n",
    "    f_y1_flonly = datavalues.iloc[s1_start_force_c:end + 1, 1] #end of what?? of stride i guess \n",
    "    f_z1_flonly = datavalues.iloc[s1_start_force_c:end + 1, 2]\n",
    "    m_x1_flonly = datavalues.iloc[s1_start_force_c:end + 1, 3]\n",
    "    m_y1_flonly = datavalues.iloc[s1_start_force_c:end + 1, 4]\n",
    "    m_z1_flonly = datavalues.iloc[s1_start_force_c:end + 1, 5]\n",
    "    f_r1_flonly = datavalues.iloc[s1_start_force_c:end + 1, 6]\n",
    "    trigger1_flonly = datavalues.iloc[s1_start_force_c:end + 1, 7]\n",
    "    \n",
    "    f_x2_flonly = datavalues.iloc[1:fl_only_end_force_c+ 1, 0]\n",
    "    f_y2_flonly = datavalues.iloc[1:fl_only_end_force_c+ 1, 1]\n",
    "    f_z2_flonly = datavalues.iloc[1:fl_only_end_force_c+ 1, 2]\n",
    "    m_x2_flonly = datavalues.iloc[1:fl_only_end_force_c+ 1, 3]\n",
    "    m_y2_flonly = datavalues.iloc[1:fl_only_end_force_c+ 1, 4]\n",
    "    m_z2_flonly = datavalues.iloc[1:fl_only_end_force_c+ 1, 5]\n",
    "    f_r2_flonly = datavalues.iloc[1:fl_only_end_force_c+ 1, 6]\n",
    "    trigger2_flonly = datavalues.iloc[1:fl_only_end_force_c+ 1, 7]\n",
    "    \n",
    "    f_x_flonly = np.concatenate(1,f_x1_flonly,f_x2_flonly)\n",
    "    print(f_x_flonly)\n",
    "    f_y_flonly = np.concatenate(1,f_y1_flonly,f_y2_flonly)\n",
    "    f_z_flonly = np.concatenate(1,f_z1_flonly,f_z2_flonly)\n",
    "    m_x_flonly = np.concatenate(1,m_x1_flonly,m_x2_flonly)\n",
    "    m_y_flonly = np.concatenate(1,m_y1_flonly,m_y2_flonly)\n",
    "    m_z_flonly = np.concatenate(1,m_y1_flonly,m_y2_flonly)\n",
    "    f_r_flonly = np.concatenate(1,f_r1_flonly,f_r2_flonly)\n",
    "    trigger_flonly = np.concatenate(1,trigger1_flonly,trigger2_flonly)\n",
    "    \n",
    "    #% executes if data is normal and trigger is at the end of the force trace\n",
    "elif trigger_t > delta_s1_start and trigger_t > delta_fl_only_end:\n",
    "    f_x_flonly = datavalues.iloc[s1_start_force_c:fl_only_end_force_c + 1, 0]\n",
    "    f_y_flonly = datavalues.iloc[s1_start_force_c:fl_only_end_force_c + 1, 1]\n",
    "    f_z_flonly = datavalues.iloc[s1_start_force_c:fl_only_end_force_c + 1, 2]\n",
    "    m_x_flonly = datavalues.iloc[s1_start_force_c:fl_only_end_force_c + 1, 3]\n",
    "    m_y_flonly = datavalues.iloc[s1_start_force_c:fl_only_end_force_c + 1, 4]\n",
    "    m_z_flonly = datavalues.iloc[s1_start_force_c:fl_only_end_force_c + 1, 5]\n",
    "    f_r_flonly = datavalues.iloc[s1_start_force_c:fl_only_end_force_c + 1, 6]\n",
    "    trigger_flonly = datavalues.iloc[s1_start_force_c:fl_only_end_force_c + 1, 7]\n",
    "\n",
    "    \n",
    "    \n",
    "display(trigger_flonly.head())\n",
    "#print(f_x_flonly, f_x_flonly.shape)\n",
    "    "
   ]
  },
  {
   "cell_type": "markdown",
   "metadata": {},
   "source": [
    "Extracting Force Data for the Hindlimb only data (for trials w/overlap)\n",
    "\n",
    "If data is wrapped around the if else statements will pull out particular chunks and add them together using cat()."
   ]
  },
  {
   "cell_type": "code",
   "execution_count": 356,
   "metadata": {},
   "outputs": [
    {
     "data": {
      "text/plain": [
       "(0,)"
      ]
     },
     "metadata": {},
     "output_type": "display_data"
    }
   ],
   "source": [
    "#CHECK WITH HL INFO\n",
    "\n",
    "if trigger_t < delta_hl_only_start and trigger_t < delta_hl_end:\n",
    "    hl_only_start_force_c = int(hl_only_start_force_c)\n",
    "    hl_end_force_c = int(hl_end_force_c)\n",
    "    \n",
    "    \n",
    "    f_x_hlonly = datavalues.iloc[hl_only_start_force_c:hl_end_force_c + 1, 0]\n",
    "    f_y_hlonly = datavalues.iloc[hl_only_start_force_c:hl_end_force_c + 1, 1]\n",
    "    f_z_hlonly = datavalues.iloc[hl_only_start_force_c:hl_end_force_c + 1, 2]\n",
    "    m_x_hlonly = datavalues.iloc[hl_only_start_force_c:hl_end_force_c + 1, 3]\n",
    "    m_y_hlonly = datavalues.iloc[hl_only_start_force_c:hl_end_force_c + 1, 4]\n",
    "    m_z_hlonly = datavalues.iloc[hl_only_start_force_c:hl_end_force_c + 1, 5]\n",
    "    f_r_hlonly = datavalues.iloc[hl_only_start_force_c:hl_end_force_c + 1, 6]\n",
    "    trigger_hlonly = datavalues.iloc[hl_only_start_force_c:hl_end_force_c + 1, 7]\n",
    "    \n",
    "    #% executes the following section if all data except stride start wraps around\n",
    "elif trigger_t < delta_hl_only_start and trigger_t > delta_hl_end:   # added and 1/3/21\n",
    "    f_x1_hlonly = datavalues.iloc[hl_only_start_force_c:end, 0] #where does end come from?\n",
    "    f_y1_hlonly = datavalues.iloc[hl_only_start_force_c:end, 1]\n",
    "    f_z1_hlonly = datavalues.iloc[hl_only_start_force_c:end, 2]\n",
    "    m_x1_hlonly = datavalues.iloc[hl_only_start_force_c:end, 3]\n",
    "    m_y1_hlonly = datavalues.iloc[hl_only_start_force_c:end, 4]\n",
    "    m_z1_hlonly = datavalues.iloc[hl_only_start_force_c:end, 5]\n",
    "    f_r1_hlonly = datavalues.iloc[hl_only_start_force_c:end, 6]\n",
    "    trigger1_hlonly = datavalues.iloc[hl_only_start_force_c:end, 7]\n",
    "    \n",
    "    hl_end_force_c_wrap = hl_end_force_c-(igor_sr)\n",
    "    \n",
    "    f_x2_hlonly = datavalues.iloc[1:hl_end_force_c_wrap + 1, 0]\n",
    "    f_y2_hlonly = datavalues.iloc[1:hl_end_force_c_wrap + 1, 1]\n",
    "    f_z2_hlonly = datavalues.iloc[1:hl_end_force_c_wrap + 1, 2]\n",
    "    m_x2_hlonly = datavalues.iloc[1:hl_end_force_c_wrap + 1, 3]\n",
    "    m_y2_hlonly = datavalues.iloc[1:hl_end_force_c_wrap + 1, 4]\n",
    "    m_z2_hlonly = datavalues.iloc[1:hl_end_force_c_wrap + 1, 5]\n",
    "    f_r2_hlonly = datavalues.iloc[1:hl_end_force_c_wrap + 1, 6]\n",
    "    trigger2_hlonly = datavalues.iloc[1:hl_end_force_c_wrap + 1, 7]\n",
    "    \n",
    "    f_x_hlonly = np.concatenate(1,f_x1_hlonly,f_x2_hlonly)\n",
    "    f_y_hlonly = np.concatenate(1,f_y1_hlonly,f_y2_hlonly)\n",
    "    f_z_hlonly = np.concatenate(1,f_z1_hlonly,f_z2_hlonly)\n",
    "    m_x_hlonly = np.concatenate(1,m_x1_hlonly,m_x2_hlonly)\n",
    "    m_y_hlonly = np.concatenate(1,m_y1_hlonly,m_y2_hlonly)\n",
    "    m_z_hlonly = np.concatenate(1,m_y1_hlonly,m_y2_hlonly)\n",
    "    f_r_hlonly = np.concatenate(1,f_r1_hlonly,f_r2_hlonly)\n",
    "    trigger_hlonly = np.concatenate(1,trigger1_hlonly,trigger2_hlonly)\n",
    "    \n",
    "    # executes if data is normal and trigger is at the end of the force trace\n",
    "elif trigger_t > delta_hl_only_start and trigger_t > delta_hl_end:\n",
    "    f_x_hlonly = datavalues.iloc[hl_only_start_force_c:hl_end_force_c + 1, 0]\n",
    "    f_y_hlonly = datavalues.iloc[hl_only_start_force_c:hl_end_force_c + 1, 1]\n",
    "    f_z_hlonly = datavalues.iloc[hl_only_start_force_c:hl_end_force_c + 1, 2]\n",
    "    m_x_hlonly = datavalues.iloc[hl_only_start_force_c:hl_end_force_c + 1, 3]\n",
    "    m_y_hlonly = datavalues.iloc[hl_only_start_force_c:hl_end_force_c + 1, 4]\n",
    "    m_z_hlonly = datavalues.iloc[hl_only_start_force_c:hl_end_force_c + 1, 5]\n",
    "    f_r_hlonly = datavalues.iloc[hl_only_start_force_c:hl_end_force_c + 1, 6]\n",
    "    trigger_hlonly = datavalues.iloc[hl_only_start_force_c:hl_end_force_c + 1,7]\n",
    "\n",
    "\n",
    "display(f_x_hlonly.shape)"
   ]
  },
  {
   "cell_type": "markdown",
   "metadata": {},
   "source": [
    "Extracting Force Data for Stride 1\n",
    "\n",
    "If data is wrapped around the if else statements will pull out particular chunks and add them together using cat()."
   ]
  },
  {
   "cell_type": "code",
   "execution_count": 357,
   "metadata": {},
   "outputs": [
    {
     "name": "stdout",
     "output_type": "stream",
     "text": [
      "85474    4.2188\n",
      "85475    4.2210\n",
      "85476    4.2226\n",
      "85477    4.2258\n",
      "85478    4.2262\n",
      "          ...  \n",
      "93350    4.2075\n",
      "93351    4.2152\n",
      "93352    4.2139\n",
      "93353    4.2165\n",
      "93354    4.2204\n",
      "Name: trigger, Length: 7881, dtype: float64\n"
     ]
    }
   ],
   "source": [
    "# if data is normal and only the trigger wraps around, it will execute\n",
    "# the following section\n",
    "\n",
    "#CHECK WITH HL INFO\n",
    "if trigger_t < delta_s1_start and trigger_t < delta_s1_end:\n",
    "    s1_start_force_c = int(s1_start_force_c)\n",
    "    s1_end_force_c = int(s1_end_force_c)\n",
    "    \n",
    "    f_x_s1 = datavalues.iloc[s1_start_force_c:s1_end_force_c + 1, 0]\n",
    "    f_y_s1 = datavalues.iloc[s1_start_force_c:s1_end_force_c + 1, 1]\n",
    "    f_z_s1 = datavalues.iloc[s1_start_force_c:s1_end_force_c + 1, 2]\n",
    "    m_x_s1 = datavalues.iloc[s1_start_force_c:s1_end_force_c + 1, 3]\n",
    "    m_y_s1 = datavalues.iloc[s1_start_force_c:s1_end_force_c + 1, 4]\n",
    "    m_z_s1 = datavalues.iloc[s1_start_force_c:s1_end_force_c + 1, 5]\n",
    "    f_r_s1 = datavalues.iloc[s1_start_force_c:s1_end_force_c + 1, 6]\n",
    "    trigger_s1 = datavalues.iloc[s1_start_force_c:s1_end_force_c + 1, 7]\n",
    "    \n",
    "    # executes the following section if all data except stride start wraps around\n",
    "elif trigger_t < delta_s1_start and trigger_t > delta_s1_end:   # added and 1/3/21\n",
    "    f_x1_s1 = datavalues.iloc[s1_start_force_c:end + 1, 0]\n",
    "    f_y1_s1 = datavalues.iloc[s1_start_force_c:end + 1, 1]\n",
    "    f_z1_s1 = datavalues.iloc[s1_start_force_c:end + 1, 2]\n",
    "    m_x1_s1 = datavalues.iloc[s1_start_force_c:end + 1, 3]\n",
    "    m_y1_s1 = datavalues.iloc[s1_start_force_c:end + 1, 4]\n",
    "    m_z1_s1 = datavalues.iloc[s1_start_force_c:end + 1, 5]\n",
    "    f_r1_s1 = datavalues.iloc[s1_start_force_c:end + 1, 6]\n",
    "    trigger1_s1 = datavalues.iloc[s1_start_force_c:end + 1, 7]\n",
    "    \n",
    "    diff_s1_end_force_c = s1_end_force_c-100000\n",
    "    \n",
    "    f_x2_s1 = datavalues.iloc[1:diff_s1_end_force_c+1, 0]\n",
    "    f_y2_s1 = datavalues.iloc[1:diff_s1_end_force_c+1, 1]\n",
    "    f_z2_s1 = datavalues.iloc[1:diff_s1_end_force_c+1, 2]\n",
    "    m_x2_s1 = datavalues.iloc[1:diff_s1_end_force_c+1, 3]\n",
    "    m_y2_s1 = datavalues.iloc[1:diff_s1_end_force_c+1, 4]\n",
    "    m_z2_s1 = datavalues.iloc[1:diff_s1_end_force_c+1, 5]\n",
    "    f_r2_s1 = datavalues.iloc[1:diff_s1_end_force_c+1, 6]\n",
    "    trigger2_s1 = datavalues.iloc[1:diff_s1_end_force_c+1, 7]\n",
    "    \n",
    "    f_x_s1 = np.concatenate(1,f_x1_s1,f_x2_s1)\n",
    "    f_y_s1 = np.concatenate(1,f_y1_s1,f_y2_s1)\n",
    "    f_z_s1 = np.concatenate(1,f_z1_s1,f_z2_s1)\n",
    "    m_x_s1 = np.concatenate(1,m_x1_s1,m_x2_s1)\n",
    "    m_y_s1 = np.concatenate(1,m_y1_s1,m_y2_s1)\n",
    "    m_z_s1 = np.concatenate(1,m_y1_s1,m_y2_s1)\n",
    "    f_r_s1 = np.concatenate(1,f_r1_s1,f_r2_s1)\n",
    "    trigger_s1 = np.concatenate(1,trigger1_s1,trigger2_s1)\n",
    "    \n",
    "    # executes if data is normal and trigger is at the end of the force trace\n",
    "elif trigger_t > delta_s1_start and trigger_t > delta_s1_end:\n",
    "    f_x_s1 = datavalues.iloc[s1_start_force_c:s1_end_force_c + 1, 0]\n",
    "    f_y_s1 = datavalues.iloc[s1_start_force_c:s1_end_force_c + 1, 1]\n",
    "    f_z_s1 = datavalues.iloc[s1_start_force_c:s1_end_force_c + 1, 2]\n",
    "    m_x_s1 = datavalues.iloc[s1_start_force_c:s1_end_force_c + 1, 3]\n",
    "    m_y_s1 = datavalues.iloc[s1_start_force_c:s1_end_force_c + 1, 4]\n",
    "    m_z_s1 = datavalues.iloc[s1_start_force_c:s1_end_force_c + 1, 5]\n",
    "    f_r_s1 = datavalues.iloc[s1_start_force_c:s1_end_force_c + 1, 6]\n",
    "    trigger_s1 = datavalues.iloc[s1_start_force_c:s1_end_force_c + 1, 7]\n",
    "\n",
    "print(trigger_s1)"
   ]
  },
  {
   "cell_type": "markdown",
   "metadata": {},
   "source": [
    "Extracting Force Data for Stride 2\n",
    "\n",
    "If data is wrapped around the if else statements will pull out particular chunks and add them together using cat(). The if statement runs the following chunk if there is 2nd stride data. The data ran in this section only applies to videos that have two complete strides."
   ]
  },
  {
   "cell_type": "code",
   "execution_count": 358,
   "metadata": {},
   "outputs": [],
   "source": [
    "\n",
    "#CHECK WITH  HL INOF\n",
    "if endf_s2_sec != 0:  # if 2nd stride does not equal 0\n",
    "    \n",
    "    # if data is normal and only the trigger wraps around, it will execute\n",
    "    # the following section\n",
    "    if trigger_t < delta_s2_start and trigger_t < delta_s2_end:\n",
    "        f_x_s2 = datavalues.iloc[s2_start_force_c:s2_end_force_c + 1, 0]\n",
    "        f_y_s2 = datavalues.iloc[s2_start_force_c:s2_end_force_c + 1, 1]\n",
    "        f_z_s2 = datavalues.iloc[s2_start_force_c:s2_end_force_c + 1, 2]\n",
    "        m_x_s2 = datavalues.iloc[s2_start_force_c:s2_end_force_c + 1, 3]\n",
    "        m_y_s2 = datavalues.iloc[s2_start_force_c:s2_end_force_c + 1, 4]\n",
    "        m_z_s2 = datavalues.iloc[s2_start_force_c:s2_end_force_c + 1, 5]\n",
    "        f_r_s2 = datavalues.iloc[s2_start_force_c:s2_end_force_c + 1, 6]\n",
    "        trigger_s2 = datavalues.iloc[s2_start_force_c:s2_end_force_c + 1, 7]\n",
    "        \n",
    "        # executes the following section if all data except stride start wraps around\n",
    "    elif trigger_t < delta_s2_start:\n",
    "        f_x1_s2 = datavalues.iloc[s2_start_force_c:end + 1, 0]\n",
    "        f_y1_s2 = datavalues.iloc[s2_start_force_c:end + 1, 1]\n",
    "        f_z1_s2 = datavalues.iloc[s2_start_force_c:end + 1, 2]\n",
    "        m_x1_s2 = datavalues.iloc[s2_start_force_c:end + 1, 3]\n",
    "        m_y1_s2 = datavalues.iloc[s2_start_force_c:end + 1, 4]\n",
    "        m_z1_s2 = datavalues.iloc[s2_start_force_c:end + 1, 5]\n",
    "        f_r1_s2 = datavalues.iloc[s2_start_force_c:end + 1, 6]\n",
    "        trigger1_s2 = datavalues.iloc[s2_start_force_c:end + 1, 7]\n",
    "        \n",
    "        s2_end_force_c_wrap = s2_end_force_c - (igor_sr*10)\n",
    "        \n",
    "        f_x2_s2 = datavalues.iloc[1:s2_end_force_c_wrap + 1, 0]\n",
    "        f_y2_s2 = datavalues.iloc[1:s2_end_force_c_wrap + 1, 1]\n",
    "        f_z2_s2 = datavalues.iloc[1:s2_end_force_c_wrap + 1, 2]\n",
    "        m_x2_s2 = datavalues.iloc[1:s2_end_force_c_wrap + 1, 3]\n",
    "        m_y2_s2 = datavalues.iloc[1:s2_end_force_c_wrap + 1, 4]\n",
    "        m_z2_s2 = datavalues.iloc[1:s2_end_force_c_wrap + 1, 5]\n",
    "        f_r2_s2 = datavalues.iloc[1:s2_end_force_c_wrap + 1, 6]\n",
    "        trigger2_s2 = datavalues.iloc[1:s2_end_force_c_wrap + 1, 7]\n",
    "        \n",
    "        f_x_s2 = np.concatenate(1, f_x1_s2, f_x2_s2)\n",
    "        f_y_s2 = np.concatenate(1, f_y1_s2, f_y2_s2)\n",
    "        f_z_s2 = np.concatenate(1, f_z1_s2, f_z2_s2)\n",
    "        m_x_s2 = np.concatenate(1, m_x1_s2, m_x2_s2)\n",
    "        m_y_s2 = np.concatenate(1, m_y1_s2, m_y2_s2)\n",
    "        m_z_s2 = np.concatenate(1, m_y1_s2, m_y2_s2)\n",
    "        f_r_s2 = np.concatenate(1, f_r1_s2, f_r2_s2)\n",
    "        trigger_s2 = np.concatenate(1, trigger1_s2, trigger2_s2)\n",
    "        \n",
    "        # executes if data is normal and trigger is at the end of the force trace\n",
    "    elif trigger_t > delta_s2_start and trigger_t > delta_s2_end:\n",
    "        f_x_s2 = datavalues.iloc[s2_start_force_c:s2_end_force_c + 1, 0]\n",
    "        f_y_s2 = datavalues.iloc[s2_start_force_c:s2_end_force_c + 1, 1]\n",
    "        f_z_s2 = datavalues.iloc[s2_start_force_c:s2_end_force_c + 1, 2]\n",
    "        m_x_s2 = datavalues.iloc[s2_start_force_c:s2_end_force_c + 1, 3]\n",
    "        m_y_s2 = datavalues.iloc[s2_start_force_c:s2_end_force_c + 1, 4]\n",
    "        m_z_s2 = datavalues.iloc[s2_start_force_c:s2_end_force_c + 1, 5]\n",
    "        f_r_s2 = datavalues.iloc[s2_start_force_c:s2_end_force_c + 1, 6]\n",
    "        trigger_s2 = datavalues.iloc[s2_start_force_c:s2_end_force_c + 1, 7]\n"
   ]
  },
  {
   "cell_type": "markdown",
   "metadata": {},
   "source": [
    "Adding stride 1 and stride 2 into one array"
   ]
  },
  {
   "cell_type": "code",
   "execution_count": 359,
   "metadata": {},
   "outputs": [
    {
     "data": {
      "text/plain": [
       "85474    0.0057\n",
       "85475    0.0057\n",
       "85476    0.0057\n",
       "85477    0.0057\n",
       "85478    0.0057\n",
       "          ...  \n",
       "93350    0.0091\n",
       "93351    0.0091\n",
       "93352    0.0090\n",
       "93353    0.0090\n",
       "93354    0.0090\n",
       "Name: Fr_SS, Length: 7881, dtype: float64"
      ]
     },
     "metadata": {},
     "output_type": "display_data"
    }
   ],
   "source": [
    "if HL == 1:\n",
    "    f_x_all = np.concatenate(1, f_x_s1, f_x_s2)\n",
    "    f_y_all = np.concatenate(1, f_y_s1, f_y_s2)\n",
    "    f_z_all = np.concatenate(1, f_z_s1, f_z_s2)\n",
    "    m_x_all = np.concatenate(1, m_x_s1, m_x_s2)\n",
    "    m_y_all = np.concatenate(1, m_y_s1, m_y_s2)\n",
    "    m_z_all = np.concatenate(1, m_z_s1, m_z_s2)\n",
    "    f_r_all = np.concatenate(1, f_r_s1, f_r_s2)\n",
    "elif FL == 1:\n",
    "    f_x_all = f_x_s1\n",
    "    f_y_all = f_y_s1\n",
    "    f_z_all = f_z_s1\n",
    "    m_x_all = m_x_s1\n",
    "    m_y_all = m_y_s1\n",
    "    m_z_all = m_z_s1\n",
    "    f_r_all = f_r_s1\n",
    "    \n",
    "display(f_r_all)"
   ]
  },
  {
   "cell_type": "markdown",
   "metadata": {},
   "source": [
    "Extracting FL only video digitized data for GRF vectors\n",
    "\n",
    "Redefining digitized points along the FL specifically when the FL is in contact with the force plate: startf_s1 to fl_only_end. Using the FL phalange point (pt 10), shoulder (pt 3), elbow (pt 4), and wrist (pt 5). Eventually used to calculate FL joint moments, r_s, r_e, and r_w.\n",
    "\n",
    "%FIXME I don't think we need to re-import data but just grab the data from the cat arrays (I guess we'd need to find the difference to index it this way)"
   ]
  },
  {
   "cell_type": "code",
   "execution_count": 360,
   "metadata": {},
   "outputs": [
    {
     "name": "stdout",
     "output_type": "stream",
     "text": [
      "97     6.756859\n",
      "98     7.213548\n",
      "99     7.110261\n",
      "100    7.385866\n",
      "101    7.678120\n",
      "         ...   \n",
      "233    7.943833\n",
      "234    7.941185\n",
      "235    7.939182\n",
      "236    7.943572\n",
      "237    7.947316\n",
      "Name: pt10_X, Length: 141, dtype: float64\n",
      "97     75.870225\n",
      "98     76.182967\n",
      "99     77.346425\n",
      "100    78.096187\n",
      "101    78.759923\n",
      "Name: pt3_Z, dtype: float64\n"
     ]
    }
   ],
   "source": [
    "#these results match matlab\n",
    "if FL ==1:\n",
    "    \n",
    "    startf_s1 = int(startf_s1)\n",
    "    fl_only_end = int(fl_only_end)\n",
    "    \n",
    "    # pt10 FL phalange\n",
    "    pt10_X_fl_only = xyzpts.iloc[startf_s1:fl_only_end ,27]\n",
    "    pt10_Y_fl_only = xyzpts.iloc[startf_s1:fl_only_end,28]\n",
    "    pt10_Z_fl_only = xyzpts.iloc[startf_s1:fl_only_end,29]\n",
    "    \n",
    "    # pt4  shoulder\n",
    "    pt4_X_fl_only = xyzpts.iloc[startf_s1:fl_only_end,9]\n",
    "    pt4_Y_fl_only = xyzpts.iloc[startf_s1:fl_only_end,10]\n",
    "    pt4_Z_fl_only = xyzpts.iloc[startf_s1:fl_only_end,11]\n",
    "    \n",
    "    # pt2 elbow\n",
    "    pt2_X_fl_only = xyzpts.iloc[startf_s1:fl_only_end, 3]\n",
    "    pt2_Y_fl_only = xyzpts.iloc[startf_s1:fl_only_end, 4]\n",
    "    pt2_Z_fl_only = xyzpts.iloc[startf_s1:fl_only_end, 5]\n",
    "    \n",
    "    # pt3 wrist\n",
    "    pt3_X_fl_only = xyzpts.iloc[startf_s1:fl_only_end, 6]\n",
    "    pt3_Y_fl_only = xyzpts.iloc[startf_s1:fl_only_end, 7]\n",
    "    pt3_Z_fl_only = xyzpts.iloc[startf_s1:fl_only_end, 8]\n",
    "\n",
    "    print(pt10_X_fl_only)\n",
    "    print(pt3_Z_fl_only.head())"
   ]
  },
  {
   "cell_type": "markdown",
   "metadata": {},
   "source": [
    "Redefining HL digitized points\n",
    "\n",
    "Redefining digitized points along the HL specifically when the HL is in contact with the force plate: hl_only_start to hl_only_start. Using the HL phalange point (pt 9), hip (pt 6), knee (pt 7), and ankle (pt 8). Eventually used to calculate HL joint moments, r_h, r_k, and r_a."
   ]
  },
  {
   "cell_type": "code",
   "execution_count": 350,
   "metadata": {},
   "outputs": [
    {
     "data": {
      "text/plain": [
       "Series([], Name: pt9_X, dtype: float64)"
      ]
     },
     "metadata": {},
     "output_type": "display_data"
    }
   ],
   "source": [
    "#they are empty, check it again with hl info\n",
    "hl_only_start = int(hl_only_start)\n",
    "hl_end = int(hl_end)\n",
    "#pt9 HL phalange\n",
    "pt9_X_hl_only = xyzpts.iloc[hl_only_start:hl_end + 1,24]\n",
    "pt9_Y_hl_only = xyzpts.iloc[hl_only_start:hl_end + 1,25]\n",
    "pt9_Z_hl_only = xyzpts.iloc[hl_only_start:hl_end + 1,26]\n",
    "\n",
    "#pt7 hip\n",
    "pt7_X_hl_only = xyzpts.iloc[hl_only_start:hl_end + 1,24]\n",
    "pt7_Y_hl_only = xyzpts.iloc[hl_only_start:hl_end + 1,25]\n",
    "pt7_Z_hl_only = xyzpts.iloc[hl_only_start:hl_end + 1,26]\n",
    "\n",
    "#pt5 knee\n",
    "pt5_X_hl_only = xyzpts.iloc[hl_only_start:hl_end + 1,12]\n",
    "pt5_Y_hl_only = xyzpts.iloc[hl_only_start:hl_end + 1,13]\n",
    "pt5_Z_hl_only = xyzpts.iloc[hl_only_start:hl_end + 1,14]\n",
    "\n",
    "#pt6 ankle\n",
    "pt6_X_hl_only = xyzpts.iloc[hl_only_start:hl_end + 1,15]\n",
    "pt6_Y_hl_only = xyzpts.iloc[hl_only_start:hl_end + 1,16]\n",
    "pt6_Z_hl_only = xyzpts.iloc[hl_only_start:hl_end + 1,17]\n",
    "\n",
    "display(pt9_X_hl_only.head())"
   ]
  },
  {
   "cell_type": "markdown",
   "metadata": {},
   "source": [
    "Normalizing Forces Relative to Body Weight\n",
    "*bw =body weight\n",
    "\n",
    "In order to display the resuts, we need to normalize the data relative the body weight of the frog. To do this, we used the forces x, y, z and divide them by the frog's body weight mass (g).\n",
    "\n",
    "Normalizing FL forces"
   ]
  },
  {
   "cell_type": "code",
   "execution_count": 362,
   "metadata": {},
   "outputs": [
    {
     "name": "stdout",
     "output_type": "stream",
     "text": [
      "f_x_flonly 85474    0.0037\n",
      "85475    0.0037\n",
      "85476    0.0038\n",
      "85477    0.0038\n",
      "85478    0.0038\n",
      "          ...  \n",
      "91110    0.0000\n",
      "91111    0.0000\n",
      "91112    0.0000\n",
      "91113    0.0000\n",
      "91114    0.0000\n",
      "Name: Fx_SS, Length: 5641, dtype: float64 bod_weight_N 0.0566037\n",
      "85474    0.065367\n",
      "85475    0.065367\n",
      "85476    0.067133\n",
      "85477    0.067133\n",
      "85478    0.067133\n",
      "           ...   \n",
      "91110    0.000000\n",
      "91111    0.000000\n",
      "91112    0.000000\n",
      "91113    0.000000\n",
      "91114    0.000000\n",
      "Name: Fx_SS, Length: 5641, dtype: float64\n"
     ]
    }
   ],
   "source": [
    "bod_weight_N = 9.81 * (body_mass / 1000)\n",
    "#matrix size is correct but im not sure about the values, ,ight be better to round it up\n",
    "if FL==1:\n",
    "    fl_Fx_bw = f_x_flonly/bod_weight_N\n",
    "    fl_Fy_bw = f_y_flonly/bod_weight_N\n",
    "    fl_Fz_bw = f_z_flonly/bod_weight_N\n",
    "    fl_Fr_bw = f_r_flonly/bod_weight_N\n",
    "\n",
    "if HL==1:\n",
    "    hl_Fx_bw = f_x_hlonly/bod_weight_N\n",
    "    hl_Fy_bw = f_y_hlonly/bod_weight_N\n",
    "    hl_Fz_bw = f_z_hlonly/bod_weight_N\n",
    "    hl_Fr_bw = f_r_hlonly/bod_weight_N\n",
    "\n",
    "print(\"f_x_flonly\", f_x_flonly, 'bod_weight_N', bod_weight_N)\n",
    "print(fl_Fx_bw)\n"
   ]
  },
  {
   "cell_type": "markdown",
   "metadata": {},
   "source": [
    "Graphing FL ground reaction forces\n"
   ]
  },
  {
   "cell_type": "code",
   "execution_count": 370,
   "metadata": {},
   "outputs": [
    {
     "name": "stdout",
     "output_type": "stream",
     "text": [
      "(5641,) (5641,) (5641,) (5641,) (5641,)\n"
     ]
    },
    {
     "data": {
      "image/png": "[encoded data removed]",
      "text/plain": [
       "<Figure size 640x480 with 1 Axes>"
      ]
     },
     "metadata": {},
     "output_type": "display_data"
    }
   ],
   "source": [
    "print(p_force_flonly.shape, fl_Fx_bw.shape, fl_Fy_bw.shape, fl_Fz_bw.shape, fl_Fr_bw.shape )\n",
    "if FL == 1:\n",
    "    plt.figure(4)\n",
    "    plt.plot(p_force_flonly, fl_Fx_bw)\n",
    "    \n",
    "    plt.plot(p_force_flonly, fl_Fy_bw)\n",
    "  \n",
    "    plt.plot(p_force_flonly, fl_Fz_bw)\n",
    "   \n",
    "    plt.plot(p_force_flonly, fl_Fr_bw)\n",
    "   \n",
    "    plt.xlabel('Percent stride (%)')\n",
    "    plt.ylabel('Force (BW)')\n",
    "    plt.legend({'Mediolateral FL F_x', 'Anteriorposterior FL F_y', 'Dorsoventral FL F_z', 'Resultant FL F_r'});\n",
    "    plt.show()"
   ]
  },
  {
   "cell_type": "markdown",
   "metadata": {},
   "source": [
    "Saving graph as vector image"
   ]
  },
  {
   "cell_type": "code",
   "execution_count": 371,
   "metadata": {},
   "outputs": [
    {
     "data": {
      "text/plain": [
       "<Figure size 640x480 with 0 Axes>"
      ]
     },
     "metadata": {},
     "output_type": "display_data"
    },
    {
     "data": {
      "image/png": "[encoded data removed]",
      "text/plain": [
       "<Figure size 640x480 with 1 Axes>"
      ]
     },
     "metadata": {},
     "output_type": "display_data"
    }
   ],
   "source": [
    "if FL == 1:\n",
    "    FL_ground_reaction_forces = walk_seq +'_fl_forces_bw.pdf'\n",
    "    plt.savefig(FL_ground_reaction_forces,format = 'pdf')\n",
    "\n",
    "    \n",
    "    plt.figure(5)\n",
    "    plt.plot(p_force_flonly, f_x_flonly)\n",
    "   \n",
    "    plt.plot(p_force_flonly, f_y_flonly)\n",
    "\n",
    "    plt.plot(p_force_flonly, f_z_flonly)\n",
    "\n",
    "    plt.plot(p_force_flonly, f_r_flonly)\n",
    "\n",
    "    plt.xlabel('Percent stride (%)')\n",
    "    plt.ylabel('Force (N)')\n",
    "    plt.legend({'Mediolateral FL F_x', 'Anteriorposterior FL F_y', 'Dorsoventral FL F_z', 'Resultant FL F_r'})\n",
    "    plt.show()"
   ]
  },
  {
   "cell_type": "markdown",
   "metadata": {},
   "source": [
    "Graphing HL ground reaction forces"
   ]
  },
  {
   "cell_type": "code",
   "execution_count": 374,
   "metadata": {},
   "outputs": [],
   "source": [
    "if HL == 1:\n",
    "    plt.figure(6)\n",
    "    plt.plot(p_force_hlonly, hl_Fx_bw)\n",
    "   \n",
    "    plt.plot(p_force_hlonly, hl_Fy_bw)\n",
    "   \n",
    "    plt.plot(p_force_hlonly, hl_Fz_bw)\n",
    "   \n",
    "    plt.plot(p_force_hlonly, hl_Fr_bw)\n",
    "    \n",
    "    plt.xlabel('Percent stride (%)')\n",
    "    plt.ylabel('Force (BW)')\n",
    "    plt.legend({'Mediolateral HL F_x', 'Anteriorposterior HL F_y', 'Dorsoventral HL F_z', 'Resultant HL F_r'})\n",
    "    plt.show()\n",
    "    \n",
    "    #saving graph as vector image\n",
    "    grapgh_6 = walk_seq,'_hl_forces_bw.pdf'\n",
    "    plt.savefig(grapgh_6,format = 'pdf')\n",
    "\n"
   ]
  },
  {
   "cell_type": "markdown",
   "metadata": {},
   "source": [
    "Resultant Force 3D angles (alpha, beta, gamma)* calculation\n",
    "% In this section, we will calculate the force theta angles (F_ax, F_by, F_yz)\n",
    "% using the following <https://www.youtube.com/watch?v=HGwSCvKtDFY formula>:\n",
    "%\n",
    "% $\\alpha_x = cos^{-1}(\\frac{F_x}{F_r})$, Mediolateral angle\n",
    "%\n",
    "% $\\beta_y = cos^{-1}(\\frac{F_y}{F_r})$, Anteriorposterior angle\n",
    "%\n",
    "% $\\gamma_z = cos^{-1}(\\frac{F_z}{F_r})$, Dorsoventral angle\n",
    "%\n",
    "% *Calculating angles for FL*"
   ]
  },
  {
   "cell_type": "code",
   "execution_count": 381,
   "metadata": {},
   "outputs": [
    {
     "name": "stdout",
     "output_type": "stream",
     "text": [
      "85474    0.864366\n",
      "85475    0.864366\n",
      "85476    0.841069\n",
      "85477    0.841069\n",
      "85478    0.841069\n",
      "           ...   \n",
      "91110    1.570796\n",
      "91111    1.570796\n",
      "91112    1.570796\n",
      "91113    1.570796\n",
      "91114    1.570796\n",
      "Length: 5641, dtype: float64\n",
      "85474    49.524502\n",
      "85475    49.524502\n",
      "85476    48.189685\n",
      "85477    48.189685\n",
      "85478    48.189685\n",
      "           ...    \n",
      "91110    90.000000\n",
      "91111    90.000000\n",
      "91112    90.000000\n",
      "91113    90.000000\n",
      "91114    90.000000\n",
      "Length: 5641, dtype: float64\n"
     ]
    }
   ],
   "source": [
    "#recheck this after talk with crystal, is it okey that \n",
    "if FL==1:\n",
    "    fl_f_alphax = np.arccos(f_x_flonly / f_r_flonly)\n",
    "    fl_f_betay = np.arccos(f_y_flonly / f_r_flonly)\n",
    "    fl_f_gammaz = np.arccos(f_z_flonly / f_r_flonly)\n",
    "    \n",
    "    print(fl_f_alphax)\n",
    "    fl_f_alphax_deg = np.degrees(fl_f_alphax)\n",
    "    fl_f_betay_deg = np.degrees(fl_f_betay)\n",
    "    fl_f_gammaz_deg = np.degrees(fl_f_gammaz)\n",
    "    \n",
    "    print(fl_f_alphax_deg)\n"
   ]
  },
  {
   "cell_type": "markdown",
   "metadata": {},
   "source": [
    "Calculating angles for HL"
   ]
  },
  {
   "cell_type": "code",
   "execution_count": 382,
   "metadata": {},
   "outputs": [],
   "source": [
    "#check with hl info\n",
    "if HL ==1:\n",
    "    hl_f_alphax = np.arccos(f_x_hlonly / f_r_hlonly)\n",
    "    hl_f_betay = np.arccos(f_y_hlonly / f_r_hlonly)\n",
    "    hl_f_gammaz = np.arccos(f_z_hlonly / f_r_hlonly)\n",
    "    \n",
    "    hl_f_alphax_deg = np.degrees(hl_f_alphax)\n",
    "    hl_f_betay_deg = np.degrees(hl_f_betay)\n",
    "    hl_f_gammaz_deg = np.degrees(hl_f_gammaz)\n"
   ]
  },
  {
   "cell_type": "markdown",
   "metadata": {},
   "source": [
    "% Graphing Force Vector Angles"
   ]
  },
  {
   "cell_type": "code",
   "execution_count": 386,
   "metadata": {},
   "outputs": [
    {
     "data": {
      "image/png": "[encoded data removed]",
      "text/plain": [
       "<Figure size 640x480 with 1 Axes>"
      ]
     },
     "metadata": {},
     "output_type": "display_data"
    }
   ],
   "source": [
    "if FL == 1:\n",
    "    plt.figure(7)\n",
    "    plt.plot(p_force_flonly, fl_f_alphax_deg)\n",
    "    \n",
    "    plt.plot(p_force_flonly, fl_f_betay_deg)\n",
    "    plt.plot(p_force_flonly, fl_f_gammaz_deg)\n",
    "    \n",
    "    plt.xlabel('Precent stride (%)')\n",
    "    plt.ylabel('Ground reaction force angle (°)')\n",
    "    plt.legend(['FL mediolateral alpha (x)', 'FL anteriorposterior beta (y)','FL dorsoventral gamma (z)'])\n",
    "    plt.show()"
   ]
  },
  {
   "cell_type": "markdown",
   "metadata": {},
   "source": []
  },
  {
   "cell_type": "code",
   "execution_count": null,
   "metadata": {},
   "outputs": [],
   "source": []
  },
  {
   "cell_type": "markdown",
   "metadata": {},
   "source": []
  },
  {
   "cell_type": "code",
   "execution_count": null,
   "metadata": {},
   "outputs": [],
   "source": []
  },
  {
   "cell_type": "markdown",
   "metadata": {},
   "source": []
  },
  {
   "cell_type": "code",
   "execution_count": null,
   "metadata": {},
   "outputs": [],
   "source": []
  }
 ],
 "metadata": {
  "kernelspec": {
   "display_name": "Python 3",
   "language": "python",
   "name": "python3"
  },
  "language_info": {
   "codemirror_mode": {
    "name": "ipython",
    "version": 3
   },
   "file_extension": ".py",
   "mimetype": "text/x-python",
   "name": "python",
   "nbconvert_exporter": "python",
   "pygments_lexer": "ipython3",
   "version": "3.9.13"
  }
 },
 "nbformat": 4,
 "nbformat_minor": 2
}
