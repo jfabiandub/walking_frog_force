{
 "cells": [
  {
   "cell_type": "markdown",
   "metadata": {},
   "source": [
    "Quadrupedal Walking Frog Code\n",
    "\n",
    "This code analyses the force and kinematic data for multiple frog species walked across a multi-axis force platform. The x, y, and z forces were analysed. Using the x, y and z force data, we calculate the resultant force (). Joint angle data was collect via digitization of high-speed videography in two views (dorsal and lateral) over two strides for the fore- and hindlimbs.\n",
    "Contributors:\n",
    "J Fabian Dubon\n",
    "M Kearns\n",
    "CM Reynaga\n",
    "Last updated:\n",
    "Dec 28, 2022 /April 5, 2024\n",
    "\n",
    "\n"
   ]
  },
  {
   "cell_type": "markdown",
   "metadata": {},
   "source": [
    "Setting Directory "
   ]
  },
  {
   "cell_type": "code",
   "execution_count": 423,
   "metadata": {},
   "outputs": [],
   "source": [
    "import pandas as pd \n",
    "import numpy as np \n",
    "import openpyxl as pyxl  \n",
    " \n",
    "#'/Users/jenifer_dubon/Desktop/walking_frog_force/walking_frog_force/Datasets/walks_workbook.xlsx'\n"
   ]
  },
  {
   "cell_type": "markdown",
   "metadata": {},
   "source": [
    "Parameters\n",
    "A single stride was defined as: The start of the stride begins the moment the forelimb phallange/limb closest to the lateral veiew camera makes contact with the ground. The stride ends once all limbs have cycled through, until the start of the same forelimb is about to make contact again with the ground to begin a new stride.\n",
    "Video Information\n",
    "This section will read in the parameters from the following imported excel sheet.\n",
    "Defines a variable with the file name as a string"
   ]
  },
  {
   "cell_type": "code",
   "execution_count": 424,
   "metadata": {},
   "outputs": [],
   "source": [
    "params = '/Users/jenifer_dubon/Desktop/walking_frog_force/walking_frog_force/Datasets/walks_workbook.xlsx'\n"
   ]
  },
  {
   "cell_type": "markdown",
   "metadata": {},
   "source": [
    "Imports data file and saves the file as a struct named parameters, the struct is organized as within two fields (1) data and (2) textdata. Any column names or text values within the spreadsheet will be in textdata and any numerical values will be in data."
   ]
  },
  {
   "cell_type": "code",
   "execution_count": 425,
   "metadata": {},
   "outputs": [],
   "source": [
    "parameters = pd.read_excel(params)"
   ]
  },
  {
   "cell_type": "markdown",
   "metadata": {},
   "source": [
    "elects which row to process within the excel parameters sheet\n",
    "Change number based upon the row you'd like to process within the excel spread sheet and save the matlab code before you run the code"
   ]
  },
  {
   "cell_type": "code",
   "execution_count": 426,
   "metadata": {},
   "outputs": [],
   "source": [
    "excel_row_to_process = 2 #must start at 2 bc of pandas structure\n",
    "film_side_right = True"
   ]
  },
  {
   "cell_type": "markdown",
   "metadata": {},
   "source": []
  },
  {
   "cell_type": "markdown",
   "metadata": {},
   "source": [
    "Video/Force Sampling Information\n",
    "Reading in parameters from excel sheet.\n"
   ]
  },
  {
   "cell_type": "code",
   "execution_count": 427,
   "metadata": {},
   "outputs": [
    {
     "data": {
      "text/plain": [
       "(62, 30)"
      ]
     },
     "metadata": {},
     "output_type": "display_data"
    },
    {
     "name": "stdout",
     "output_type": "stream",
     "text": [
      "2\n",
      "20210706_pb4_walk2\n"
     ]
    }
   ],
   "source": [
    "row_to_process = excel_row_to_process-1\n",
    "\n",
    "# Print the size of the parameters variable\n",
    "display(parameters.shape)\n",
    "\n",
    "if 'Date' in parameters.columns:\n",
    "    date = str(int(parameters['Date'].iloc[row_to_process])) #iloc is more of a personal pref #must change to int first to get rid off .0 \n",
    "else:\n",
    "    print(\"Error: 'Date' not found in DataFrame\")\n",
    "\n",
    "genus_species = 'pb' # Phrynomantis bifasciatus\n",
    "\n",
    "if 'Ind.' in parameters.columns:\n",
    "    individual = str(int(parameters['Ind.'].iloc[row_to_process]))\n",
    "else:\n",
    "    print(\"Error: 'Ind.' not found in DataFrame\")\n",
    "\n",
    "if 'Walk' in parameters.columns:\n",
    "    walk_num = str(int(parameters['Walk'].iloc[row_to_process]))\n",
    "else:\n",
    "    print(\"Error: 'Walk' not found in DataFrame\")\n",
    "\n",
    "print(walk_num)\n",
    "walk_seq = date + '_' + genus_species + individual + '_walk'+ walk_num \n",
    "fps = 250\n",
    "\n",
    "print(walk_seq)\n"
   ]
  },
  {
   "cell_type": "code",
   "execution_count": 428,
   "metadata": {},
   "outputs": [
    {
     "data": {
      "text/plain": [
       "' this is for me to try different approaches.\\n\\n\\nrow_to_process = excel_row_to_process-1\\n\\n# Print the size of the parameters variable\\ndisplay(parameters.shape)\\n\\ntype(parameters) #gets the type \\n\\nif \\'Date\\' in parameters.columns:\\n    date = str(parameters[\\'Date\\'].iloc[row_to_process])\\n\\nelse:\\n    print(\"Error: Date not found in DataFrame\")\\n    \\nprint(date)\\n    \\nif \\'Ind.\\' in parameters.columns:\\n    individual = str(parameters[\\'Ind.\\'][row_to_process])\\n\\nelse:\\n    print(\\'Error\\')    \\n    \\nprint(individual)\\n\\ntype(individual)\\n\\n\\n#set up variables to right columns \\n#date = str(parameters.Date[row_to_process])\\n\\n\\nwalk_seq = date,\\'_\\', genus_species, individual, \\'_walk\\', walk_num #append has a limited num of arguments\\n#so the best way to concatenate strings is to add the \\'+ \\' sign in between \\n#print(date)\\n\\n#type(date)\\n#parameters.info() #gets the '"
      ]
     },
     "execution_count": 428,
     "metadata": {},
     "output_type": "execute_result"
    }
   ],
   "source": [
    "\n",
    "\"\"\" this is for me to try different approaches.\n",
    "\n",
    "\n",
    "row_to_process = excel_row_to_process-1\n",
    "\n",
    "# Print the size of the parameters variable\n",
    "display(parameters.shape)\n",
    "\n",
    "type(parameters) #gets the type \n",
    "\n",
    "if 'Date' in parameters.columns:\n",
    "    date = str(parameters['Date'].iloc[row_to_process])\n",
    "\n",
    "else:\n",
    "    print(\"Error: Date not found in DataFrame\")\n",
    "    \n",
    "print(date)\n",
    "    \n",
    "if 'Ind.' in parameters.columns:\n",
    "    individual = str(parameters['Ind.'][row_to_process])\n",
    "\n",
    "else:\n",
    "    print('Error')    \n",
    "    \n",
    "print(individual)\n",
    "\n",
    "type(individual)\n",
    "\n",
    "\n",
    "#set up variables to right columns \n",
    "#date = str(parameters.Date[row_to_process])\n",
    "\n",
    "\n",
    "walk_seq = date,'_', genus_species, individual, '_walk', walk_num #append has a limited num of arguments\n",
    "#so the best way to concatenate strings is to add the '+ ' sign in between \n",
    "#print(date)\n",
    "\n",
    "#type(date)\n",
    "#parameters.info() #gets the \"\"\"\n",
    "\n"
   ]
  },
  {
   "cell_type": "markdown",
   "metadata": {},
   "source": []
  },
  {
   "cell_type": "code",
   "execution_count": 429,
   "metadata": {},
   "outputs": [
    {
     "name": "stdout",
     "output_type": "stream",
     "text": [
      "5.77\n"
     ]
    }
   ],
   "source": [
    "#frames per second (fps) high speed video frame rate\n",
    "igor_sr = 10000\n",
    "\n",
    "if 'Ind. Weight (g)' in parameters.columns:\n",
    "    body_mass = parameters['Ind. Weight (g)'].iloc[row_to_process]\n",
    "else:\n",
    "    print(\"Error: 'Ind. Weight (g)' not found in DataFrame\")\n",
    "\n",
    "print(body_mass) #prints are to make sure results are the same"
   ]
  },
  {
   "cell_type": "markdown",
   "metadata": {},
   "source": [
    " *Video Conditions*\n",
    " Determines whether the code should run data on the forelimb or the hindlimb.\n",
    " A value of 1 will run analysis for the relevent limbs, however a value of 0\n",
    " will skip those sections for analysis within the script. Additionally, |Overlap|\n",
    " is used to distinguish when the fore- and hindlimb are both in contact with\n",
    " the force plate, and thus individual limb analysis during that time can not\n",
    " be done."
   ]
  },
  {
   "cell_type": "code",
   "execution_count": 430,
   "metadata": {},
   "outputs": [
    {
     "name": "stdout",
     "output_type": "stream",
     "text": [
      "1.0\n",
      "0.0\n",
      "1.0\n"
     ]
    }
   ],
   "source": [
    "#these variables  are floats so they got 0.0 \n",
    "if 'Forelimb Status (0/1)' in parameters.columns:\n",
    "    FL = parameters['Forelimb Status (0/1)'].iloc[row_to_process]\n",
    "else:\n",
    "    print(\"Error: 'Forelimb Status (0/1)' not found in DataFrame\")\n",
    "\n",
    "print(FL)\n",
    "\n",
    "if 'Hindlimb Status (0/1)' in parameters.columns:\n",
    "    HL = parameters['Hindlimb Status (0/1)'].iloc[row_to_process]\n",
    "else:\n",
    "    print(\"Error: 'Hindlimb Status (0/1)' not found in DataFrame\")\n",
    "\n",
    "print(HL)\n",
    "\n",
    "if 'Overlap (0/1)' in parameters.columns:\n",
    "    Overlap = parameters['Overlap (0/1)'].iloc[row_to_process]\n",
    "else:\n",
    "    print(\"Error: 'Overlap (0/1)' not found in DataFrame\")\n",
    "print(Overlap)\n",
    "\n"
   ]
  },
  {
   "cell_type": "markdown",
   "metadata": {},
   "source": [
    "Walk Sequence Information\n",
    "Converting video frames into time (sec)"
   ]
  },
  {
   "cell_type": "code",
   "execution_count": 431,
   "metadata": {},
   "outputs": [
    {
     "name": "stdout",
     "output_type": "stream",
     "text": [
      "678.0\n"
     ]
    }
   ],
   "source": [
    "if 'tot. dltdv8 frames' in parameters.columns:\n",
    "    totalf = parameters['tot. dltdv8 frames'].iloc[row_to_process] # total amount of video frames\n",
    "else:\n",
    "    print(\"Error: 'tot. dltdv8 frames' not found in DataFrame\")\n",
    "print(totalf)"
   ]
  },
  {
   "cell_type": "code",
   "execution_count": 432,
   "metadata": {},
   "outputs": [
    {
     "name": "stdout",
     "output_type": "stream",
     "text": [
      "2.712\n"
     ]
    }
   ],
   "source": [
    "#totalf_sec is rounded here to the same decimals place as the force data frequency\n",
    "totalf_sec = round((totalf/fps),4) #total amount of time filmed (sec)\n",
    "print(totalf_sec)"
   ]
  },
  {
   "cell_type": "markdown",
   "metadata": {},
   "source": [
    "Defining Stride 1\n",
    "Beginning frame for stride 1 defined when forelimb (or phalange of the forelimb) nearest to the camera touches the ground\n"
   ]
  },
  {
   "cell_type": "code",
   "execution_count": 433,
   "metadata": {},
   "outputs": [
    {
     "name": "stdout",
     "output_type": "stream",
     "text": [
      "97.0\n",
      "1\n",
      "0.388\n"
     ]
    }
   ],
   "source": [
    "if 'Forelimb Start frame' in parameters.columns:\n",
    "    startf_s1 = parameters['Forelimb Start frame'].iloc[row_to_process]-1 #bc of indexing in python, it starts at 97 not 98 (ensures the pt1_X are the same in matlab and python)\n",
    "else:\n",
    "    print(\"Error: 'Forelimb Start frame' not found in DataFrame\")\n",
    "print(startf_s1)\n",
    "print(row_to_process)\n",
    "\n",
    "startf_s1_sec = round((startf_s1/fps),4)\n",
    "print(startf_s1_sec)\n"
   ]
  },
  {
   "cell_type": "markdown",
   "metadata": {},
   "source": [
    "End frame for stride 1 \n",
    "Defined as the frame right before the forelimb touches back to start the next stride"
   ]
  },
  {
   "cell_type": "code",
   "execution_count": 434,
   "metadata": {},
   "outputs": [
    {
     "name": "stdout",
     "output_type": "stream",
     "text": [
      "294.0\n"
     ]
    }
   ],
   "source": [
    "if 'Stride 1 end frame' in parameters.columns:\n",
    "    endf_s1 = parameters['Stride 1 end frame'].iloc[row_to_process]-1 #same here, it ends at 294\n",
    "else:\n",
    "    print(\"Error: 'Stride 1 end frame' not found in DataFrame\")\n",
    "print(endf_s1)"
   ]
  },
  {
   "cell_type": "markdown",
   "metadata": {},
   "source": [
    "Conversion from frames to time (sec) by dividing by frame rate or recording frequency in frames per second (fps).\n",
    "\n",
    "time(sec) = frame #/fps"
   ]
  },
  {
   "cell_type": "code",
   "execution_count": 435,
   "metadata": {},
   "outputs": [
    {
     "name": "stdout",
     "output_type": "stream",
     "text": [
      "1.176\n"
     ]
    }
   ],
   "source": [
    "endf_s1_sec = round((endf_s1/fps),4)\n",
    "print(endf_s1_sec)"
   ]
  },
  {
   "cell_type": "markdown",
   "metadata": {},
   "source": [
    "Defining Stride 2\n",
    " See section above for more information on defining a stride and calculating\n",
    " time from frame number for a stride.\n"
   ]
  },
  {
   "cell_type": "code",
   "execution_count": 436,
   "metadata": {},
   "outputs": [
    {
     "name": "stdout",
     "output_type": "stream",
     "text": [
      "296.0\n",
      "1.184\n"
     ]
    }
   ],
   "source": [
    "if 'Stride 2 Start frame' in parameters.columns:\n",
    "    startf_s2 = parameters['Stride 2 Start frame'].iloc[row_to_process]\n",
    "else:\n",
    "    print(\"Error: 'Stride 2 Start frame' not found in DataFrame\")\n",
    "print(startf_s2)\n",
    "\n",
    "startf_s2_sec = round((startf_s2/fps),4)\n",
    "print(startf_s2_sec)"
   ]
  },
  {
   "cell_type": "markdown",
   "metadata": {},
   "source": [
    "End frame for stride 2;\n",
    "If not a complete 2ns stride insert '0' within parameters excel sheet (however at this point we should only be analyzing walks with 2 complete strides)."
   ]
  },
  {
   "cell_type": "code",
   "execution_count": 437,
   "metadata": {},
   "outputs": [
    {
     "name": "stdout",
     "output_type": "stream",
     "text": [
      "0\n",
      "0.0\n"
     ]
    }
   ],
   "source": [
    "if 'Stride 2 end frame' in parameters.columns:\n",
    "    endf_s2 = parameters['Stride 2 end frame'].iloc[row_to_process]\n",
    "else:\n",
    "    print(\"Error: 'Stride 2 end frame' not found in DataFrame\")\n",
    "print(endf_s2)\n",
    "\n",
    "endf_s2_sec = round((endf_s2/fps),4)\n",
    "print(endf_s2_sec)"
   ]
  },
  {
   "cell_type": "markdown",
   "metadata": {},
   "source": [
    "Characterizing Igor time based upon trigger time\n",
    " Finding when the cameras and data collection in Igor were triggered off.\n",
    " format long g % if not displaying full decimal\n"
   ]
  },
  {
   "cell_type": "code",
   "execution_count": 438,
   "metadata": {},
   "outputs": [
    {
     "name": "stdout",
     "output_type": "stream",
     "text": [
      "8714.0\n",
      "0.8714\n"
     ]
    }
   ],
   "source": [
    "if 'Igor trigger time' in parameters.columns:\n",
    "    trigger_row = parameters['Igor trigger time'].iloc[row_to_process]\n",
    "else:\n",
    "    print(\"Error: 'Igor trigger time' not found in DataFrame\")\n",
    "print(trigger_row)\n",
    "\n",
    "trigger_t = trigger_row/10000\n",
    "print(trigger_t)"
   ]
  },
  {
   "cell_type": "markdown",
   "metadata": {},
   "source": [
    "Creating a time array for forceplate data. \n",
    " Igor|_sr| = sampling rate. Plus rounding to the correct decimals place based upon the Igor sampling frequency (1000) force recording for a total of 10 seconds."
   ]
  },
  {
   "cell_type": "code",
   "execution_count": 439,
   "metadata": {},
   "outputs": [
    {
     "name": "stdout",
     "output_type": "stream",
     "text": [
      "10000\n"
     ]
    }
   ],
   "source": [
    "force_t = np.arange(1, igor_sr + 1)/1000\n",
    "\n",
    "force_time = np.round(force_t, 4)\n",
    "print(force_time.size)"
   ]
  },
  {
   "cell_type": "markdown",
   "metadata": {},
   "source": [
    "FL and HL Contact Timing\n",
    "  Defining relative to time when the forelimb and hindlimb are in contact with  the force plate.\n",
    "\n",
    " |fl_end| = last frame the front finger/hand is in contact with the force plate before leaving"
   ]
  },
  {
   "cell_type": "code",
   "execution_count": 440,
   "metadata": {},
   "outputs": [
    {
     "name": "stdout",
     "output_type": "stream",
     "text": [
      "270.0\n",
      "1.08\n"
     ]
    }
   ],
   "source": [
    "if 'Forelimb end frame' in parameters.columns:\n",
    "    fl_end = parameters['Forelimb end frame'].iloc[row_to_process]\n",
    "else:\n",
    "    print(\"Error: 'Forelimb end frame' not found in DataFrame\")\n",
    "print(fl_end)\n",
    "\n",
    "fl_end_sec = round((fl_end/fps),4); # converting to time\n",
    "print(fl_end_sec)"
   ]
  },
  {
   "cell_type": "markdown",
   "metadata": {},
   "source": [
    "hl_start:\n",
    " when a toe/foot touches the force plate/hindlind makes contact with the forceplate for the first time."
   ]
  },
  {
   "cell_type": "code",
   "execution_count": 441,
   "metadata": {},
   "outputs": [
    {
     "name": "stdout",
     "output_type": "stream",
     "text": [
      "239.0\n",
      "0.956\n"
     ]
    }
   ],
   "source": [
    "if 'Hindlimb Start frame' in parameters.columns:\n",
    "    hl_start = parameters['Hindlimb Start frame'].iloc[row_to_process]\n",
    "else:\n",
    "    print(\"Error: 'Hindlimb Start frame' not found in DataFrame\")\n",
    "print(hl_start)\n",
    "\n",
    "hl_start_sec = round((hl_start/fps),4); # converting to time\n",
    "print(hl_start_sec)"
   ]
  },
  {
   "cell_type": "markdown",
   "metadata": {},
   "source": [
    "hl_end:\n",
    " last frame back toe touches force plate before leaving"
   ]
  },
  {
   "cell_type": "code",
   "execution_count": 442,
   "metadata": {},
   "outputs": [
    {
     "name": "stdout",
     "output_type": "stream",
     "text": [
      "0.0\n",
      "0.0\n"
     ]
    }
   ],
   "source": [
    "if 'Hindlimb end frame' in parameters.columns:\n",
    "    hl_end = parameters['Hindlimb end frame'].iloc[row_to_process]\n",
    "else:\n",
    "    print(\"Error: 'Hindlimb end frame' not found in DataFrame\")\n",
    "print(hl_end)\n",
    "\n",
    "hl_end_sec = round((hl_end/fps),4); # converting to time\n",
    "print(hl_end_sec)"
   ]
  },
  {
   "cell_type": "markdown",
   "metadata": {},
   "source": [
    "Determining Periods of Overlap\n",
    " Isolating FL and HL contact only periods\n",
    " During most walks the FL and HL will both be in contact with the force plate\n",
    " midway between stride 1 and stride 2. Therefore, we only analyze the forces\n",
    " recorded when and individual limb is in contact with the force platform. More\n",
    " specifically, we only analyze the forelimb contact period during the time before\n",
    " the hindlimb touches down. And analyze the hindlimb contact during the time\n",
    " after the forelimb has left the force plate.\n",
    "\n",
    " |fl_only_end| = frame where only the FL leaves contact with the force plate,\n",
    " then converting to time (sec).\n"
   ]
  },
  {
   "cell_type": "code",
   "execution_count": 443,
   "metadata": {},
   "outputs": [
    {
     "name": "stdout",
     "output_type": "stream",
     "text": [
      "238.0\n",
      "0.952\n"
     ]
    }
   ],
   "source": [
    "# MAYBE DO TODO will need a conditional statement for walks where there isn't overlap\n",
    "fl_only_end = hl_start-1\n",
    "print(fl_only_end)\n",
    "fl_only_end_sec = round((fl_only_end/fps),4)\n",
    "print(fl_only_end_sec)\n"
   ]
  },
  {
   "cell_type": "markdown",
   "metadata": {},
   "source": [
    "hl_only_start:\n",
    " start frame where the HL is the only one that is in contact with the force plate, then converting frames to time (sec)."
   ]
  },
  {
   "cell_type": "code",
   "execution_count": 444,
   "metadata": {},
   "outputs": [
    {
     "name": "stdout",
     "output_type": "stream",
     "text": [
      "271.0\n",
      "1.084\n"
     ]
    }
   ],
   "source": [
    "hl_only_start = fl_end+1\n",
    "print(hl_only_start)\n",
    "hl_only_start_sec = round((hl_only_start/fps),4)\n",
    "print(hl_only_start_sec)"
   ]
  },
  {
   "cell_type": "markdown",
   "metadata": {},
   "source": [
    "Changing reference frame of the video land markers\n",
    "\n",
    "Finding the distance in time from the end of the video, to set-up and align time relative to the trigger time. And ultimately determine where force occurs relative to trigger and video timing. Example conversion equations provided:\n",
    "\n",
    "    time = t_video_length - t_event_start"
   ]
  },
  {
   "cell_type": "code",
   "execution_count": 445,
   "metadata": {},
   "outputs": [
    {
     "name": "stdout",
     "output_type": "stream",
     "text": [
      "2.3240000000000003\n",
      "1.7560000000000002\n",
      "1.6320000000000001\n",
      "1.5360000000000003\n",
      "1.5280000000000002\n",
      "2.712\n",
      "2.712\n",
      "1.7600000000000002\n",
      "1.6280000000000001\n"
     ]
    }
   ],
   "source": [
    "delta_s1_start = totalf_sec - startf_s1_sec\n",
    "print(delta_s1_start)\n",
    "delta_hl_on = totalf_sec-hl_start_sec\n",
    "print(delta_hl_on)\n",
    "delta_fl_end = totalf_sec-fl_end_sec\n",
    "print(delta_fl_end)\n",
    "delta_s1_end = totalf_sec-endf_s1_sec\n",
    "print(delta_s1_end)\n",
    "delta_s2_start = totalf_sec-startf_s2_sec\n",
    "print(delta_s2_start)\n",
    "delta_hl_end = totalf_sec-hl_end_sec\n",
    "print(delta_hl_end)\n",
    "delta_s2_end = totalf_sec-endf_s2_sec\n",
    "print(delta_s2_end)\n",
    "\n",
    "delta_fl_only_end = totalf_sec - fl_only_end_sec\n",
    "print(delta_fl_only_end)\n",
    "delta_hl_only_start = totalf_sec - hl_only_start_sec\n",
    "print(delta_hl_only_start)\n"
   ]
  },
  {
   "cell_type": "markdown",
   "metadata": {},
   "source": [
    "Importing Digitized Data Points\n",
    "\n",
    "All videos for K. senegalensis were digitized with the assigned point number values.\n",
    "FIXIT Note: this will differ across different species unfortunately.\n",
    "Eye\n",
    "Elbow\n",
    "Wrist\n",
    "Shoulder\n",
    "Knee\n",
    "Ankle\n",
    "Hip\n",
    "Knee\n",
    "Tarsometatarsal (HL)\n",
    "Tarsometatarsal (LF)\n",
    "\n",
    "Importing digitized XYZ pts spreadsheet\n",
    "Imports xyz points as a struct/tuple named xyzpts"
   ]
  },
  {
   "cell_type": "code",
   "execution_count": 446,
   "metadata": {},
   "outputs": [
    {
     "name": "stdout",
     "output_type": "stream",
     "text": [
      "/Users/jenifer_dubon/Desktop/walking_frog_force/walking_frog_force/Datasets//Users/jenifer_dubon/Desktop/walking_frog_force/walking_frog_force/Datasets/20210706_pb4_walk2_xyzpts.csv\n",
      "(678, 30)\n",
      "<class 'tuple'>\n"
     ]
    }
   ],
   "source": [
    "xyzfile = walk_seq + '_xyzpts.csv'\n",
    "xyzfile = '/Users/jenifer_dubon/Desktop/walking_frog_force/walking_frog_force/Datasets/' + xyzfile\n",
    "print('/Users/jenifer_dubon/Desktop/walking_frog_force/walking_frog_force/Datasets/' + xyzfile)\n",
    "xyzpts = pd.read_csv(xyzfile)\n",
    "\n",
    "print(xyzpts.shape) #different than matalab (matlab = 311x30, but this is the same as excel sheet)\n",
    "\n",
    "print(type(xyzpts.shape))"
   ]
  },
  {
   "cell_type": "markdown",
   "metadata": {},
   "source": [
    "Assigning points as variables from the imported spreadsheet matrix xyzpts struct/Tuple\n",
    "\n",
    "\n",
    "In order to make sure that MATLAB orients the data correctly, we assign the point values to the individual columns, and specify the frame number range separated by a column that we want to grab data from. Importanting relative to stride 1 and 2. The number designates the excel sheet row to look for.x"
   ]
  },
  {
   "cell_type": "code",
   "execution_count": 480,
   "metadata": {},
   "outputs": [
    {
     "name": "stdout",
     "output_type": "stream",
     "text": [
      "97.0\n",
      "294.0\n",
      "<class 'tuple'>\n",
      "Index(['pt1_X', 'pt1_Y', 'pt1_Z', 'pt2_X', 'pt2_Y', 'pt2_Z', 'pt3_X', 'pt3_Y',\n",
      "       'pt3_Z', 'pt4_X', 'pt4_Y', 'pt4_Z', 'pt5_X', 'pt5_Y', 'pt5_Z', 'pt6_X',\n",
      "       'pt6_Y', 'pt6_Z', 'pt7_X', 'pt7_Y', 'pt7_Z', 'pt8_X', 'pt8_Y', 'pt8_Z',\n",
      "       'pt9_X', 'pt9_Y', 'pt9_Z', 'pt10_X', 'pt10_Y', 'pt10_Z'],\n",
      "      dtype='object')\n"
     ]
    },
    {
     "data": {
      "text/plain": [
       "97     76.432015\n",
       "98     76.829474\n",
       "99     78.047407\n",
       "100    78.663691\n",
       "101    79.346709\n",
       "         ...    \n",
       "290    77.263047\n",
       "291    77.951807\n",
       "292    78.667312\n",
       "293    79.383035\n",
       "294    79.913944\n",
       "Name: pt10_Z, Length: 198, dtype: float64"
      ]
     },
     "metadata": {},
     "output_type": "display_data"
    },
    {
     "data": {
      "text/plain": [
       "97     73.954070\n",
       "98     73.936965\n",
       "99     73.965687\n",
       "100    74.061839\n",
       "101    74.689817\n",
       "         ...    \n",
       "290    75.110863\n",
       "291    75.562327\n",
       "292    75.944462\n",
       "293    76.058882\n",
       "294    76.427859\n",
       "Name: pt2_Z, Length: 198, dtype: float64"
      ]
     },
     "metadata": {},
     "output_type": "display_data"
    }
   ],
   "source": [
    "#display(xyzpts)\n",
    "print( startf_s1)\n",
    "print(endf_s1)\n",
    "print(type( xyzpts.iloc[1].shape))\n",
    "\n",
    "for col in xyzpts.columns:\n",
    "    row_section_s1 = xyzpts[col][int(startf_s1):int(endf_s1) + 1]\n",
    "    #display(row_section_s1)\n",
    "    if 'pt1_X' in col:\n",
    "        pt1_X_s1 = row_section_s1 \n",
    "    elif 'pt1_Y' in col:\n",
    "        pt1_Y_s1 = row_section_s1\n",
    "    elif 'pt1_Z' in col:\n",
    "        pt1_Z_s1 = row_section_s1\n",
    "        \n",
    "    elif 'pt2_X' in col:\n",
    "        pt2_X_s1 = row_section_s1 \n",
    "    elif 'pt2_Y' in col:\n",
    "        pt2_Y_s1 = row_section_s1\n",
    "    elif 'pt2_Z' in col:\n",
    "        pt2_Z_s1 = row_section_s1 \n",
    "        \n",
    "    elif 'pt3_X' in col:\n",
    "        pt3_X_s1 = row_section_s1\n",
    "    elif 'pt3_Y' in col:\n",
    "        pt3_Y_s1 = row_section_s1\n",
    "    elif 'pt3_Z' in col:\n",
    "        pt3_Z_s1 = row_section_s1  \n",
    "        \n",
    "    elif 'pt4_X' in col:\n",
    "        pt4_X_s1 = row_section_s1     \n",
    "    elif 'pt4_Y' in col:\n",
    "        pt4_Y_s1 = row_section_s1\n",
    "    elif 'pt4_Z' in col:\n",
    "        pt4_Z_s1 = row_section_s1\n",
    "    \n",
    "    elif 'pt5_X' in col:\n",
    "        pt5_X_s1 = row_section_s1\n",
    "    elif 'pt5_Y' in col:\n",
    "        pt5_Y_s1 = row_section_s1\n",
    "    elif 'pt5_Z' in col:\n",
    "        pt5_Z_s1 = row_section_s1\n",
    "    \n",
    "    elif 'pt6_X' in col:\n",
    "        pt6_X_s1 = row_section_s1\n",
    "    elif 'pt6_Y' in col:\n",
    "        pt6_Y_s1 = row_section_s1\n",
    "    elif 'pt6_Z' in col:\n",
    "        pt6_Z_s1 = row_section_s1\n",
    "    \n",
    "    elif 'pt7_X' in col:\n",
    "        pt7_X_s1 = row_section_s1\n",
    "    elif 'pt7_Y' in col:\n",
    "        pt7_Y_s1 = row_section_s1\n",
    "    elif 'pt7_Z' in col:\n",
    "        pt7_Z_s1 = row_section_s1\n",
    "        \n",
    "    elif 'pt8_X' in col:\n",
    "        pt8_X_s1 = row_section_s1\n",
    "    elif 'pt8_Y' in col:\n",
    "        pt8_Y_s1 = row_section_s1\n",
    "    elif 'pt8_Z' in col:\n",
    "        pt8_Z_s1 = row_section_s1\n",
    "        \n",
    "    elif 'pt9_X' in col:\n",
    "        pt9_X_s1 = row_section_s1\n",
    "    elif 'pt9_Y' in col:\n",
    "        pt9_Y_s1 = row_section_s1\n",
    "    elif 'pt9_Z' in col:\n",
    "        pt9_Z_s1 = row_section_s1\n",
    "        \n",
    "    elif 'pt10_X' in col:\n",
    "        pt10_X_s1 = row_section_s1\n",
    "    elif 'pt10_Y' in col:\n",
    "        pt10_Y_s1 = row_section_s1\n",
    "    elif 'pt10_Z' in col:\n",
    "        pt10_Z_s1 = row_section_s1\n",
    "        \n",
    "print(xyzpts.columns)\n",
    "display(row_section_s1)\n",
    "#print(row_section) check the sections are correct\n",
    "display(pt2_Z_s1)\n"
   ]
  },
  {
   "cell_type": "markdown",
   "metadata": {},
   "source": [
    "If data set has hindlimb data\n"
   ]
  },
  {
   "cell_type": "code",
   "execution_count": 495,
   "metadata": {},
   "outputs": [
    {
     "name": "stdout",
     "output_type": "stream",
     "text": [
      "startf_s2 = 296.0\n",
      "endf_s2 = 0\n"
     ]
    }
   ],
   "source": [
    "print('startf_s2 =', startf_s2)\n",
    "print('endf_s2 =', endf_s2)\n",
    "print\n",
    "\n",
    "#display(xyzpts.columns)\n",
    "\n",
    "\n",
    "if HL == 1:\n",
    "    for col in xyzpts.columns:\n",
    "        row_section_s2 = xyzpts[col][int(startf_s2):int(endf_s2) + 1]\n",
    "        if 'pt1_X' in col:\n",
    "            pt1_X_s2 = row_section_s2 \n",
    "            \n",
    "    print(row_section_s2)\n",
    "        #if 'pt1_'"
   ]
  }
 ],
 "metadata": {
  "kernelspec": {
   "display_name": "Python 3",
   "language": "python",
   "name": "python3"
  },
  "language_info": {
   "codemirror_mode": {
    "name": "ipython",
    "version": 3
   },
   "file_extension": ".py",
   "mimetype": "text/x-python",
   "name": "python",
   "nbconvert_exporter": "python",
   "pygments_lexer": "ipython3",
   "version": "3.9.13"
  }
 },
 "nbformat": 4,
 "nbformat_minor": 2
}
